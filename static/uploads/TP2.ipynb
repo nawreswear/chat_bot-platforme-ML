{
  "cells": [
    {
      "cell_type": "markdown",
      "id": "r4k50t_FwPbl",
      "metadata": {
        "id": "r4k50t_FwPbl",
        "papermill": {
          "duration": 0.053026,
          "end_time": "2021-05-25T12:30:48.760489",
          "exception": false,
          "start_time": "2021-05-25T12:30:48.707463",
          "status": "completed"
        },
        "tags": []
      },
      "source": [
        "# I . IMPORTS"
      ]
    },
    {
      "cell_type": "code",
      "execution_count": null,
      "id": "B13cvIthuFxs",
      "metadata": {
        "execution": {
          "iopub.execute_input": "2021-05-25T12:30:48.882295Z",
          "iopub.status.busy": "2021-05-25T12:30:48.880468Z",
          "iopub.status.idle": "2021-05-25T12:30:50.293920Z",
          "shell.execute_reply": "2021-05-25T12:30:50.294484Z",
          "shell.execute_reply.started": "2021-05-24T14:36:56.05444Z"
        },
        "id": "B13cvIthuFxs",
        "papermill": {
          "duration": 1.481245,
          "end_time": "2021-05-25T12:30:50.294820",
          "exception": false,
          "start_time": "2021-05-25T12:30:48.813575",
          "status": "completed"
        },
        "tags": []
      },
      "outputs": [],
      "source": [
        "import pandas as pd\n",
        "import numpy as np\n",
        "import math\n",
        "import seaborn as sns\n",
        "import matplotlib.pyplot as plt\n",
        "from IPython.display import Image\n",
        "import warnings\n",
        "warnings.filterwarnings('ignore')"
      ]
    },
    {
      "cell_type": "markdown",
      "id": "dIpg5xYRwVeV",
      "metadata": {
        "id": "dIpg5xYRwVeV",
        "papermill": {
          "duration": 0.051149,
          "end_time": "2021-05-25T12:30:50.398713",
          "exception": false,
          "start_time": "2021-05-25T12:30:50.347564",
          "status": "completed"
        },
        "tags": []
      },
      "source": [
        "# II . LOAD DATA"
      ]
    },
    {
      "cell_type": "markdown",
      "id": "KBwdsWyaox1g",
      "metadata": {
        "id": "KBwdsWyaox1g"
      },
      "source": [
        "1- importer le fichier de données"
      ]
    },
    {
      "cell_type": "code",
      "execution_count": 2,
      "id": "dOeeKM1IXmaB",
      "metadata": {
        "colab": {
          "base_uri": "https://localhost:8080/"
        },
        "id": "dOeeKM1IXmaB",
        "outputId": "003683da-e20d-4ea9-fd0e-23c827c172a8"
      },
      "outputs": [
        {
          "name": "stdout",
          "output_type": "stream",
          "text": [
            "<class 'pandas.core.frame.DataFrame'>\n"
          ]
        }
      ],
      "source": [
        "df = pd.read_csv(\"data_STK.csv\", sep =',',  header =0)\n",
        "print(type(df))"
      ]
    },
    {
      "cell_type": "markdown",
      "id": "B8xYZHPi6b4v",
      "metadata": {
        "id": "B8xYZHPi6b4v",
        "papermill": {
          "duration": 0.051708,
          "end_time": "2021-05-25T12:30:50.673789",
          "exception": false,
          "start_time": "2021-05-25T12:30:50.622081",
          "status": "completed"
        },
        "tags": []
      },
      "source": [
        "# III . DATA DESCRIPTION"
      ]
    },
    {
      "cell_type": "markdown",
      "id": "IKIKHI_Wox1l",
      "metadata": {
        "id": "IKIKHI_Wox1l"
      },
      "source": [
        "- Afficher une description générale des données (premières et dernières lignes)"
      ]
    },
    {
      "cell_type": "code",
      "execution_count": 3,
      "id": "L1TW6xnIdyev",
      "metadata": {
        "colab": {
          "base_uri": "https://localhost:8080/"
        },
        "id": "L1TW6xnIdyev",
        "outputId": "7f77abfe-e7e3-4466-ebdc-5e8b2b0042b3"
      },
      "outputs": [
        {
          "data": {
            "text/plain": [
              "(5110, 12)"
            ]
          },
          "execution_count": 3,
          "metadata": {},
          "output_type": "execute_result"
        }
      ],
      "source": [
        "df.shape"
      ]
    },
    {
      "cell_type": "code",
      "execution_count": 4,
      "id": "ftUkSNNbox1l",
      "metadata": {
        "colab": {
          "base_uri": "https://localhost:8080/",
          "height": 495
        },
        "id": "ftUkSNNbox1l",
        "outputId": "42eee902-d663-44db-eb79-18f0bf2c98e4"
      },
      "outputs": [
        {
          "data": {
            "application/vnd.microsoft.datawrangler.viewer.v0+json": {
              "columns": [
                {
                  "name": "index",
                  "rawType": "int64",
                  "type": "integer"
                },
                {
                  "name": "id",
                  "rawType": "int64",
                  "type": "integer"
                },
                {
                  "name": "gender",
                  "rawType": "object",
                  "type": "string"
                },
                {
                  "name": "age",
                  "rawType": "float64",
                  "type": "float"
                },
                {
                  "name": "hypertension",
                  "rawType": "int64",
                  "type": "integer"
                },
                {
                  "name": "heart_disease",
                  "rawType": "int64",
                  "type": "integer"
                },
                {
                  "name": "ever_married",
                  "rawType": "object",
                  "type": "string"
                },
                {
                  "name": "work_type",
                  "rawType": "object",
                  "type": "string"
                },
                {
                  "name": "Residence_type",
                  "rawType": "object",
                  "type": "string"
                },
                {
                  "name": "avg_glucose_level",
                  "rawType": "float64",
                  "type": "float"
                },
                {
                  "name": "bmi",
                  "rawType": "float64",
                  "type": "float"
                },
                {
                  "name": "smoking_status",
                  "rawType": "object",
                  "type": "string"
                },
                {
                  "name": "stroke",
                  "rawType": "int64",
                  "type": "integer"
                }
              ],
              "conversionMethod": "pd.DataFrame",
              "ref": "e286f7bb-002a-4181-9428-6854b9044e3b",
              "rows": [
                [
                  "0",
                  "9046",
                  "Male",
                  "67.0",
                  "0",
                  "1",
                  "Yes",
                  "Private",
                  "Urban",
                  "228.69",
                  "36.6",
                  "formerly smoked",
                  "1"
                ],
                [
                  "1",
                  "51676",
                  "Female",
                  "61.0",
                  "0",
                  "0",
                  "Yes",
                  "Self-employed",
                  "Rural",
                  "202.21",
                  null,
                  "never smoked",
                  "1"
                ],
                [
                  "2",
                  "31112",
                  "Male",
                  "80.0",
                  "0",
                  "1",
                  "Yes",
                  "Private",
                  "Rural",
                  "105.92",
                  "32.5",
                  "never smoked",
                  "1"
                ],
                [
                  "3",
                  "60182",
                  "Female",
                  "49.0",
                  "0",
                  "0",
                  "Yes",
                  "Private",
                  "Urban",
                  "171.23",
                  "34.4",
                  "smokes",
                  "1"
                ],
                [
                  "4",
                  "1665",
                  "Female",
                  "79.0",
                  "1",
                  "0",
                  "Yes",
                  "Self-employed",
                  "Rural",
                  "174.12",
                  "24.0",
                  "never smoked",
                  "1"
                ],
                [
                  "5",
                  "56669",
                  "Male",
                  "81.0",
                  "0",
                  "0",
                  "Yes",
                  "Private",
                  "Urban",
                  "186.21",
                  "29.0",
                  "formerly smoked",
                  "1"
                ],
                [
                  "6",
                  "53882",
                  "Male",
                  "74.0",
                  "1",
                  "1",
                  "Yes",
                  "Private",
                  "Rural",
                  "70.09",
                  "27.4",
                  "never smoked",
                  "1"
                ],
                [
                  "7",
                  "10434",
                  "Female",
                  "69.0",
                  "0",
                  "0",
                  "No",
                  "Private",
                  "Urban",
                  "94.39",
                  "22.8",
                  "never smoked",
                  "1"
                ],
                [
                  "8",
                  "27419",
                  "Female",
                  "59.0",
                  "0",
                  "0",
                  "Yes",
                  "Private",
                  "Rural",
                  "76.15",
                  null,
                  "Unknown",
                  "1"
                ],
                [
                  "9",
                  "60491",
                  "Female",
                  "78.0",
                  "0",
                  "0",
                  "Yes",
                  "Private",
                  "Urban",
                  "58.57",
                  "24.2",
                  "Unknown",
                  "1"
                ],
                [
                  "10",
                  "12109",
                  "Female",
                  "81.0",
                  "1",
                  "0",
                  "Yes",
                  "Private",
                  "Rural",
                  "80.43",
                  "29.7",
                  "never smoked",
                  "1"
                ],
                [
                  "11",
                  "12095",
                  "Female",
                  "61.0",
                  "0",
                  "1",
                  "Yes",
                  "Govt_job",
                  "Rural",
                  "120.46",
                  "36.8",
                  "smokes",
                  "1"
                ],
                [
                  "12",
                  "12175",
                  "Female",
                  "54.0",
                  "0",
                  "0",
                  "Yes",
                  "Private",
                  "Urban",
                  "104.51",
                  "27.3",
                  "smokes",
                  "1"
                ],
                [
                  "13",
                  "8213",
                  "Male",
                  "78.0",
                  "0",
                  "1",
                  "Yes",
                  "Private",
                  "Urban",
                  "219.84",
                  null,
                  "Unknown",
                  "1"
                ],
                [
                  "14",
                  "5317",
                  "Female",
                  "79.0",
                  "0",
                  "1",
                  "Yes",
                  "Private",
                  "Urban",
                  "214.09",
                  "28.2",
                  "never smoked",
                  "1"
                ],
                [
                  "15",
                  "58202",
                  "Female",
                  "50.0",
                  "1",
                  "0",
                  "Yes",
                  "Self-employed",
                  "Rural",
                  "167.41",
                  "30.9",
                  "never smoked",
                  "1"
                ],
                [
                  "16",
                  "56112",
                  "Male",
                  "64.0",
                  "0",
                  "1",
                  "Yes",
                  "Private",
                  "Urban",
                  "191.61",
                  "37.5",
                  "smokes",
                  "1"
                ],
                [
                  "17",
                  "34120",
                  "Male",
                  "75.0",
                  "1",
                  "0",
                  "Yes",
                  "Private",
                  "Urban",
                  "221.29",
                  "25.8",
                  "smokes",
                  "1"
                ],
                [
                  "18",
                  "27458",
                  "Female",
                  "60.0",
                  "0",
                  "0",
                  "No",
                  "Private",
                  "Urban",
                  "89.22",
                  "37.8",
                  "never smoked",
                  "1"
                ],
                [
                  "19",
                  "25226",
                  "Male",
                  "57.0",
                  "0",
                  "1",
                  "No",
                  "Govt_job",
                  "Urban",
                  "217.08",
                  null,
                  "Unknown",
                  "1"
                ],
                [
                  "20",
                  "70630",
                  "Female",
                  "71.0",
                  "0",
                  "0",
                  "Yes",
                  "Govt_job",
                  "Rural",
                  "193.94",
                  "22.4",
                  "smokes",
                  "1"
                ],
                [
                  "21",
                  "13861",
                  "Female",
                  "52.0",
                  "1",
                  "0",
                  "Yes",
                  "Self-employed",
                  "Urban",
                  "233.29",
                  "48.9",
                  "never smoked",
                  "1"
                ],
                [
                  "22",
                  "68794",
                  "Female",
                  "79.0",
                  "0",
                  "0",
                  "Yes",
                  "Self-employed",
                  "Urban",
                  "228.7",
                  "26.6",
                  "never smoked",
                  "1"
                ],
                [
                  "23",
                  "64778",
                  "Male",
                  "82.0",
                  "0",
                  "1",
                  "Yes",
                  "Private",
                  "Rural",
                  "208.3",
                  "32.5",
                  "Unknown",
                  "1"
                ],
                [
                  "24",
                  "4219",
                  "Male",
                  "71.0",
                  "0",
                  "0",
                  "Yes",
                  "Private",
                  "Urban",
                  "102.87",
                  "27.2",
                  "formerly smoked",
                  "1"
                ],
                [
                  "25",
                  "70822",
                  "Male",
                  "80.0",
                  "0",
                  "0",
                  "Yes",
                  "Self-employed",
                  "Rural",
                  "104.12",
                  "23.5",
                  "never smoked",
                  "1"
                ],
                [
                  "26",
                  "38047",
                  "Female",
                  "65.0",
                  "0",
                  "0",
                  "Yes",
                  "Private",
                  "Rural",
                  "100.98",
                  "28.2",
                  "formerly smoked",
                  "1"
                ],
                [
                  "27",
                  "61843",
                  "Male",
                  "58.0",
                  "0",
                  "0",
                  "Yes",
                  "Private",
                  "Rural",
                  "189.84",
                  null,
                  "Unknown",
                  "1"
                ],
                [
                  "28",
                  "54827",
                  "Male",
                  "69.0",
                  "0",
                  "1",
                  "Yes",
                  "Self-employed",
                  "Urban",
                  "195.23",
                  "28.3",
                  "smokes",
                  "1"
                ],
                [
                  "29",
                  "69160",
                  "Male",
                  "59.0",
                  "0",
                  "0",
                  "Yes",
                  "Private",
                  "Rural",
                  "211.78",
                  null,
                  "formerly smoked",
                  "1"
                ],
                [
                  "30",
                  "43717",
                  "Male",
                  "57.0",
                  "1",
                  "0",
                  "Yes",
                  "Private",
                  "Urban",
                  "212.08",
                  "44.2",
                  "smokes",
                  "1"
                ],
                [
                  "31",
                  "33879",
                  "Male",
                  "42.0",
                  "0",
                  "0",
                  "Yes",
                  "Private",
                  "Rural",
                  "83.41",
                  "25.4",
                  "Unknown",
                  "1"
                ],
                [
                  "32",
                  "39373",
                  "Female",
                  "82.0",
                  "1",
                  "0",
                  "Yes",
                  "Self-employed",
                  "Urban",
                  "196.92",
                  "22.2",
                  "never smoked",
                  "1"
                ],
                [
                  "33",
                  "54401",
                  "Male",
                  "80.0",
                  "0",
                  "1",
                  "Yes",
                  "Self-employed",
                  "Urban",
                  "252.72",
                  "30.5",
                  "formerly smoked",
                  "1"
                ],
                [
                  "34",
                  "14248",
                  "Male",
                  "48.0",
                  "0",
                  "0",
                  "No",
                  "Govt_job",
                  "Urban",
                  "84.2",
                  "29.7",
                  "never smoked",
                  "1"
                ],
                [
                  "35",
                  "712",
                  "Female",
                  "82.0",
                  "1",
                  "1",
                  "No",
                  "Private",
                  "Rural",
                  "84.03",
                  "26.5",
                  "formerly smoked",
                  "1"
                ],
                [
                  "36",
                  "47269",
                  "Male",
                  "74.0",
                  "0",
                  "0",
                  "Yes",
                  "Private",
                  "Rural",
                  "219.72",
                  "33.7",
                  "formerly smoked",
                  "1"
                ],
                [
                  "37",
                  "24977",
                  "Female",
                  "72.0",
                  "1",
                  "0",
                  "Yes",
                  "Private",
                  "Rural",
                  "74.63",
                  "23.1",
                  "formerly smoked",
                  "1"
                ],
                [
                  "38",
                  "47306",
                  "Male",
                  "58.0",
                  "0",
                  "0",
                  "No",
                  "Private",
                  "Rural",
                  "92.62",
                  "32.0",
                  "Unknown",
                  "1"
                ],
                [
                  "39",
                  "62602",
                  "Female",
                  "49.0",
                  "0",
                  "0",
                  "Yes",
                  "Private",
                  "Urban",
                  "60.91",
                  "29.9",
                  "never smoked",
                  "1"
                ],
                [
                  "40",
                  "4651",
                  "Male",
                  "78.0",
                  "0",
                  "0",
                  "Yes",
                  "Private",
                  "Rural",
                  "78.03",
                  "23.9",
                  "formerly smoked",
                  "1"
                ],
                [
                  "41",
                  "1261",
                  "Male",
                  "54.0",
                  "0",
                  "0",
                  "Yes",
                  "Private",
                  "Urban",
                  "71.22",
                  "28.5",
                  "never smoked",
                  "1"
                ],
                [
                  "42",
                  "61960",
                  "Male",
                  "82.0",
                  "0",
                  "1",
                  "Yes",
                  "Private",
                  "Urban",
                  "144.9",
                  "26.4",
                  "smokes",
                  "1"
                ],
                [
                  "43",
                  "1845",
                  "Female",
                  "63.0",
                  "0",
                  "0",
                  "Yes",
                  "Private",
                  "Urban",
                  "90.9",
                  null,
                  "formerly smoked",
                  "1"
                ],
                [
                  "44",
                  "7937",
                  "Male",
                  "60.0",
                  "1",
                  "0",
                  "Yes",
                  "Govt_job",
                  "Urban",
                  "213.03",
                  "20.2",
                  "smokes",
                  "1"
                ],
                [
                  "45",
                  "19824",
                  "Male",
                  "76.0",
                  "1",
                  "0",
                  "Yes",
                  "Private",
                  "Rural",
                  "243.58",
                  "33.6",
                  "never smoked",
                  "1"
                ],
                [
                  "46",
                  "37937",
                  "Female",
                  "75.0",
                  "0",
                  "1",
                  "No",
                  "Self-employed",
                  "Urban",
                  "109.78",
                  null,
                  "Unknown",
                  "1"
                ],
                [
                  "47",
                  "47472",
                  "Female",
                  "58.0",
                  "0",
                  "0",
                  "Yes",
                  "Private",
                  "Urban",
                  "107.26",
                  "38.6",
                  "formerly smoked",
                  "1"
                ],
                [
                  "48",
                  "35626",
                  "Male",
                  "81.0",
                  "0",
                  "0",
                  "Yes",
                  "Self-employed",
                  "Urban",
                  "99.33",
                  "33.7",
                  "never smoked",
                  "1"
                ],
                [
                  "49",
                  "36338",
                  "Female",
                  "39.0",
                  "1",
                  "0",
                  "Yes",
                  "Private",
                  "Rural",
                  "58.09",
                  "39.2",
                  "smokes",
                  "1"
                ]
              ],
              "shape": {
                "columns": 12,
                "rows": 5107
              }
            },
            "text/html": [
              "<div>\n",
              "<style scoped>\n",
              "    .dataframe tbody tr th:only-of-type {\n",
              "        vertical-align: middle;\n",
              "    }\n",
              "\n",
              "    .dataframe tbody tr th {\n",
              "        vertical-align: top;\n",
              "    }\n",
              "\n",
              "    .dataframe thead th {\n",
              "        text-align: right;\n",
              "    }\n",
              "</style>\n",
              "<table border=\"1\" class=\"dataframe\">\n",
              "  <thead>\n",
              "    <tr style=\"text-align: right;\">\n",
              "      <th></th>\n",
              "      <th>id</th>\n",
              "      <th>gender</th>\n",
              "      <th>age</th>\n",
              "      <th>hypertension</th>\n",
              "      <th>heart_disease</th>\n",
              "      <th>ever_married</th>\n",
              "      <th>work_type</th>\n",
              "      <th>Residence_type</th>\n",
              "      <th>avg_glucose_level</th>\n",
              "      <th>bmi</th>\n",
              "      <th>smoking_status</th>\n",
              "      <th>stroke</th>\n",
              "    </tr>\n",
              "  </thead>\n",
              "  <tbody>\n",
              "    <tr>\n",
              "      <th>0</th>\n",
              "      <td>9046</td>\n",
              "      <td>Male</td>\n",
              "      <td>67.0</td>\n",
              "      <td>0</td>\n",
              "      <td>1</td>\n",
              "      <td>Yes</td>\n",
              "      <td>Private</td>\n",
              "      <td>Urban</td>\n",
              "      <td>228.69</td>\n",
              "      <td>36.6</td>\n",
              "      <td>formerly smoked</td>\n",
              "      <td>1</td>\n",
              "    </tr>\n",
              "    <tr>\n",
              "      <th>1</th>\n",
              "      <td>51676</td>\n",
              "      <td>Female</td>\n",
              "      <td>61.0</td>\n",
              "      <td>0</td>\n",
              "      <td>0</td>\n",
              "      <td>Yes</td>\n",
              "      <td>Self-employed</td>\n",
              "      <td>Rural</td>\n",
              "      <td>202.21</td>\n",
              "      <td>NaN</td>\n",
              "      <td>never smoked</td>\n",
              "      <td>1</td>\n",
              "    </tr>\n",
              "    <tr>\n",
              "      <th>2</th>\n",
              "      <td>31112</td>\n",
              "      <td>Male</td>\n",
              "      <td>80.0</td>\n",
              "      <td>0</td>\n",
              "      <td>1</td>\n",
              "      <td>Yes</td>\n",
              "      <td>Private</td>\n",
              "      <td>Rural</td>\n",
              "      <td>105.92</td>\n",
              "      <td>32.5</td>\n",
              "      <td>never smoked</td>\n",
              "      <td>1</td>\n",
              "    </tr>\n",
              "    <tr>\n",
              "      <th>3</th>\n",
              "      <td>60182</td>\n",
              "      <td>Female</td>\n",
              "      <td>49.0</td>\n",
              "      <td>0</td>\n",
              "      <td>0</td>\n",
              "      <td>Yes</td>\n",
              "      <td>Private</td>\n",
              "      <td>Urban</td>\n",
              "      <td>171.23</td>\n",
              "      <td>34.4</td>\n",
              "      <td>smokes</td>\n",
              "      <td>1</td>\n",
              "    </tr>\n",
              "    <tr>\n",
              "      <th>4</th>\n",
              "      <td>1665</td>\n",
              "      <td>Female</td>\n",
              "      <td>79.0</td>\n",
              "      <td>1</td>\n",
              "      <td>0</td>\n",
              "      <td>Yes</td>\n",
              "      <td>Self-employed</td>\n",
              "      <td>Rural</td>\n",
              "      <td>174.12</td>\n",
              "      <td>24.0</td>\n",
              "      <td>never smoked</td>\n",
              "      <td>1</td>\n",
              "    </tr>\n",
              "    <tr>\n",
              "      <th>...</th>\n",
              "      <td>...</td>\n",
              "      <td>...</td>\n",
              "      <td>...</td>\n",
              "      <td>...</td>\n",
              "      <td>...</td>\n",
              "      <td>...</td>\n",
              "      <td>...</td>\n",
              "      <td>...</td>\n",
              "      <td>...</td>\n",
              "      <td>...</td>\n",
              "      <td>...</td>\n",
              "      <td>...</td>\n",
              "    </tr>\n",
              "    <tr>\n",
              "      <th>5102</th>\n",
              "      <td>45010</td>\n",
              "      <td>Female</td>\n",
              "      <td>57.0</td>\n",
              "      <td>0</td>\n",
              "      <td>0</td>\n",
              "      <td>Yes</td>\n",
              "      <td>Private</td>\n",
              "      <td>Rural</td>\n",
              "      <td>77.93</td>\n",
              "      <td>21.7</td>\n",
              "      <td>never smoked</td>\n",
              "      <td>0</td>\n",
              "    </tr>\n",
              "    <tr>\n",
              "      <th>5103</th>\n",
              "      <td>22127</td>\n",
              "      <td>Female</td>\n",
              "      <td>18.0</td>\n",
              "      <td>0</td>\n",
              "      <td>0</td>\n",
              "      <td>No</td>\n",
              "      <td>Private</td>\n",
              "      <td>Urban</td>\n",
              "      <td>82.85</td>\n",
              "      <td>46.9</td>\n",
              "      <td>Unknown</td>\n",
              "      <td>0</td>\n",
              "    </tr>\n",
              "    <tr>\n",
              "      <th>5104</th>\n",
              "      <td>14180</td>\n",
              "      <td>Female</td>\n",
              "      <td>13.0</td>\n",
              "      <td>0</td>\n",
              "      <td>0</td>\n",
              "      <td>No</td>\n",
              "      <td>children</td>\n",
              "      <td>Rural</td>\n",
              "      <td>103.08</td>\n",
              "      <td>18.6</td>\n",
              "      <td>Unknown</td>\n",
              "      <td>0</td>\n",
              "    </tr>\n",
              "    <tr>\n",
              "      <th>5105</th>\n",
              "      <td>18234</td>\n",
              "      <td>Female</td>\n",
              "      <td>80.0</td>\n",
              "      <td>1</td>\n",
              "      <td>0</td>\n",
              "      <td>Yes</td>\n",
              "      <td>Private</td>\n",
              "      <td>Urban</td>\n",
              "      <td>83.75</td>\n",
              "      <td>NaN</td>\n",
              "      <td>never smoked</td>\n",
              "      <td>0</td>\n",
              "    </tr>\n",
              "    <tr>\n",
              "      <th>5106</th>\n",
              "      <td>44873</td>\n",
              "      <td>Female</td>\n",
              "      <td>81.0</td>\n",
              "      <td>0</td>\n",
              "      <td>0</td>\n",
              "      <td>Yes</td>\n",
              "      <td>Self-employed</td>\n",
              "      <td>Urban</td>\n",
              "      <td>125.20</td>\n",
              "      <td>40.0</td>\n",
              "      <td>never smoked</td>\n",
              "      <td>0</td>\n",
              "    </tr>\n",
              "  </tbody>\n",
              "</table>\n",
              "<p>5107 rows × 12 columns</p>\n",
              "</div>"
            ],
            "text/plain": [
              "         id  gender   age  hypertension  heart_disease ever_married  \\\n",
              "0      9046    Male  67.0             0              1          Yes   \n",
              "1     51676  Female  61.0             0              0          Yes   \n",
              "2     31112    Male  80.0             0              1          Yes   \n",
              "3     60182  Female  49.0             0              0          Yes   \n",
              "4      1665  Female  79.0             1              0          Yes   \n",
              "...     ...     ...   ...           ...            ...          ...   \n",
              "5102  45010  Female  57.0             0              0          Yes   \n",
              "5103  22127  Female  18.0             0              0           No   \n",
              "5104  14180  Female  13.0             0              0           No   \n",
              "5105  18234  Female  80.0             1              0          Yes   \n",
              "5106  44873  Female  81.0             0              0          Yes   \n",
              "\n",
              "          work_type Residence_type  avg_glucose_level   bmi   smoking_status  \\\n",
              "0           Private          Urban             228.69  36.6  formerly smoked   \n",
              "1     Self-employed          Rural             202.21   NaN     never smoked   \n",
              "2           Private          Rural             105.92  32.5     never smoked   \n",
              "3           Private          Urban             171.23  34.4           smokes   \n",
              "4     Self-employed          Rural             174.12  24.0     never smoked   \n",
              "...             ...            ...                ...   ...              ...   \n",
              "5102        Private          Rural              77.93  21.7     never smoked   \n",
              "5103        Private          Urban              82.85  46.9          Unknown   \n",
              "5104       children          Rural             103.08  18.6          Unknown   \n",
              "5105        Private          Urban              83.75   NaN     never smoked   \n",
              "5106  Self-employed          Urban             125.20  40.0     never smoked   \n",
              "\n",
              "      stroke  \n",
              "0          1  \n",
              "1          1  \n",
              "2          1  \n",
              "3          1  \n",
              "4          1  \n",
              "...      ...  \n",
              "5102       0  \n",
              "5103       0  \n",
              "5104       0  \n",
              "5105       0  \n",
              "5106       0  \n",
              "\n",
              "[5107 rows x 12 columns]"
            ]
          },
          "execution_count": 4,
          "metadata": {},
          "output_type": "execute_result"
        }
      ],
      "source": [
        "df.head(-3)"
      ]
    },
    {
      "cell_type": "code",
      "execution_count": 5,
      "id": "aQ4uGiMGox1n",
      "metadata": {
        "colab": {
          "base_uri": "https://localhost:8080/",
          "height": 495
        },
        "id": "aQ4uGiMGox1n",
        "outputId": "c68a2aeb-1164-402a-c56d-beb07268d9aa"
      },
      "outputs": [
        {
          "data": {
            "application/vnd.microsoft.datawrangler.viewer.v0+json": {
              "columns": [
                {
                  "name": "index",
                  "rawType": "int64",
                  "type": "integer"
                },
                {
                  "name": "id",
                  "rawType": "int64",
                  "type": "integer"
                },
                {
                  "name": "gender",
                  "rawType": "object",
                  "type": "string"
                },
                {
                  "name": "age",
                  "rawType": "float64",
                  "type": "float"
                },
                {
                  "name": "hypertension",
                  "rawType": "int64",
                  "type": "integer"
                },
                {
                  "name": "heart_disease",
                  "rawType": "int64",
                  "type": "integer"
                },
                {
                  "name": "ever_married",
                  "rawType": "object",
                  "type": "string"
                },
                {
                  "name": "work_type",
                  "rawType": "object",
                  "type": "string"
                },
                {
                  "name": "Residence_type",
                  "rawType": "object",
                  "type": "string"
                },
                {
                  "name": "avg_glucose_level",
                  "rawType": "float64",
                  "type": "float"
                },
                {
                  "name": "bmi",
                  "rawType": "float64",
                  "type": "float"
                },
                {
                  "name": "smoking_status",
                  "rawType": "object",
                  "type": "string"
                },
                {
                  "name": "stroke",
                  "rawType": "int64",
                  "type": "integer"
                }
              ],
              "conversionMethod": "pd.DataFrame",
              "ref": "42c4cc6b-3054-4270-b420-9e528e964da9",
              "rows": [
                [
                  "3",
                  "60182",
                  "Female",
                  "49.0",
                  "0",
                  "0",
                  "Yes",
                  "Private",
                  "Urban",
                  "171.23",
                  "34.4",
                  "smokes",
                  "1"
                ],
                [
                  "4",
                  "1665",
                  "Female",
                  "79.0",
                  "1",
                  "0",
                  "Yes",
                  "Self-employed",
                  "Rural",
                  "174.12",
                  "24.0",
                  "never smoked",
                  "1"
                ],
                [
                  "5",
                  "56669",
                  "Male",
                  "81.0",
                  "0",
                  "0",
                  "Yes",
                  "Private",
                  "Urban",
                  "186.21",
                  "29.0",
                  "formerly smoked",
                  "1"
                ],
                [
                  "6",
                  "53882",
                  "Male",
                  "74.0",
                  "1",
                  "1",
                  "Yes",
                  "Private",
                  "Rural",
                  "70.09",
                  "27.4",
                  "never smoked",
                  "1"
                ],
                [
                  "7",
                  "10434",
                  "Female",
                  "69.0",
                  "0",
                  "0",
                  "No",
                  "Private",
                  "Urban",
                  "94.39",
                  "22.8",
                  "never smoked",
                  "1"
                ],
                [
                  "8",
                  "27419",
                  "Female",
                  "59.0",
                  "0",
                  "0",
                  "Yes",
                  "Private",
                  "Rural",
                  "76.15",
                  null,
                  "Unknown",
                  "1"
                ],
                [
                  "9",
                  "60491",
                  "Female",
                  "78.0",
                  "0",
                  "0",
                  "Yes",
                  "Private",
                  "Urban",
                  "58.57",
                  "24.2",
                  "Unknown",
                  "1"
                ],
                [
                  "10",
                  "12109",
                  "Female",
                  "81.0",
                  "1",
                  "0",
                  "Yes",
                  "Private",
                  "Rural",
                  "80.43",
                  "29.7",
                  "never smoked",
                  "1"
                ],
                [
                  "11",
                  "12095",
                  "Female",
                  "61.0",
                  "0",
                  "1",
                  "Yes",
                  "Govt_job",
                  "Rural",
                  "120.46",
                  "36.8",
                  "smokes",
                  "1"
                ],
                [
                  "12",
                  "12175",
                  "Female",
                  "54.0",
                  "0",
                  "0",
                  "Yes",
                  "Private",
                  "Urban",
                  "104.51",
                  "27.3",
                  "smokes",
                  "1"
                ],
                [
                  "13",
                  "8213",
                  "Male",
                  "78.0",
                  "0",
                  "1",
                  "Yes",
                  "Private",
                  "Urban",
                  "219.84",
                  null,
                  "Unknown",
                  "1"
                ],
                [
                  "14",
                  "5317",
                  "Female",
                  "79.0",
                  "0",
                  "1",
                  "Yes",
                  "Private",
                  "Urban",
                  "214.09",
                  "28.2",
                  "never smoked",
                  "1"
                ],
                [
                  "15",
                  "58202",
                  "Female",
                  "50.0",
                  "1",
                  "0",
                  "Yes",
                  "Self-employed",
                  "Rural",
                  "167.41",
                  "30.9",
                  "never smoked",
                  "1"
                ],
                [
                  "16",
                  "56112",
                  "Male",
                  "64.0",
                  "0",
                  "1",
                  "Yes",
                  "Private",
                  "Urban",
                  "191.61",
                  "37.5",
                  "smokes",
                  "1"
                ],
                [
                  "17",
                  "34120",
                  "Male",
                  "75.0",
                  "1",
                  "0",
                  "Yes",
                  "Private",
                  "Urban",
                  "221.29",
                  "25.8",
                  "smokes",
                  "1"
                ],
                [
                  "18",
                  "27458",
                  "Female",
                  "60.0",
                  "0",
                  "0",
                  "No",
                  "Private",
                  "Urban",
                  "89.22",
                  "37.8",
                  "never smoked",
                  "1"
                ],
                [
                  "19",
                  "25226",
                  "Male",
                  "57.0",
                  "0",
                  "1",
                  "No",
                  "Govt_job",
                  "Urban",
                  "217.08",
                  null,
                  "Unknown",
                  "1"
                ],
                [
                  "20",
                  "70630",
                  "Female",
                  "71.0",
                  "0",
                  "0",
                  "Yes",
                  "Govt_job",
                  "Rural",
                  "193.94",
                  "22.4",
                  "smokes",
                  "1"
                ],
                [
                  "21",
                  "13861",
                  "Female",
                  "52.0",
                  "1",
                  "0",
                  "Yes",
                  "Self-employed",
                  "Urban",
                  "233.29",
                  "48.9",
                  "never smoked",
                  "1"
                ],
                [
                  "22",
                  "68794",
                  "Female",
                  "79.0",
                  "0",
                  "0",
                  "Yes",
                  "Self-employed",
                  "Urban",
                  "228.7",
                  "26.6",
                  "never smoked",
                  "1"
                ],
                [
                  "23",
                  "64778",
                  "Male",
                  "82.0",
                  "0",
                  "1",
                  "Yes",
                  "Private",
                  "Rural",
                  "208.3",
                  "32.5",
                  "Unknown",
                  "1"
                ],
                [
                  "24",
                  "4219",
                  "Male",
                  "71.0",
                  "0",
                  "0",
                  "Yes",
                  "Private",
                  "Urban",
                  "102.87",
                  "27.2",
                  "formerly smoked",
                  "1"
                ],
                [
                  "25",
                  "70822",
                  "Male",
                  "80.0",
                  "0",
                  "0",
                  "Yes",
                  "Self-employed",
                  "Rural",
                  "104.12",
                  "23.5",
                  "never smoked",
                  "1"
                ],
                [
                  "26",
                  "38047",
                  "Female",
                  "65.0",
                  "0",
                  "0",
                  "Yes",
                  "Private",
                  "Rural",
                  "100.98",
                  "28.2",
                  "formerly smoked",
                  "1"
                ],
                [
                  "27",
                  "61843",
                  "Male",
                  "58.0",
                  "0",
                  "0",
                  "Yes",
                  "Private",
                  "Rural",
                  "189.84",
                  null,
                  "Unknown",
                  "1"
                ],
                [
                  "28",
                  "54827",
                  "Male",
                  "69.0",
                  "0",
                  "1",
                  "Yes",
                  "Self-employed",
                  "Urban",
                  "195.23",
                  "28.3",
                  "smokes",
                  "1"
                ],
                [
                  "29",
                  "69160",
                  "Male",
                  "59.0",
                  "0",
                  "0",
                  "Yes",
                  "Private",
                  "Rural",
                  "211.78",
                  null,
                  "formerly smoked",
                  "1"
                ],
                [
                  "30",
                  "43717",
                  "Male",
                  "57.0",
                  "1",
                  "0",
                  "Yes",
                  "Private",
                  "Urban",
                  "212.08",
                  "44.2",
                  "smokes",
                  "1"
                ],
                [
                  "31",
                  "33879",
                  "Male",
                  "42.0",
                  "0",
                  "0",
                  "Yes",
                  "Private",
                  "Rural",
                  "83.41",
                  "25.4",
                  "Unknown",
                  "1"
                ],
                [
                  "32",
                  "39373",
                  "Female",
                  "82.0",
                  "1",
                  "0",
                  "Yes",
                  "Self-employed",
                  "Urban",
                  "196.92",
                  "22.2",
                  "never smoked",
                  "1"
                ],
                [
                  "33",
                  "54401",
                  "Male",
                  "80.0",
                  "0",
                  "1",
                  "Yes",
                  "Self-employed",
                  "Urban",
                  "252.72",
                  "30.5",
                  "formerly smoked",
                  "1"
                ],
                [
                  "34",
                  "14248",
                  "Male",
                  "48.0",
                  "0",
                  "0",
                  "No",
                  "Govt_job",
                  "Urban",
                  "84.2",
                  "29.7",
                  "never smoked",
                  "1"
                ],
                [
                  "35",
                  "712",
                  "Female",
                  "82.0",
                  "1",
                  "1",
                  "No",
                  "Private",
                  "Rural",
                  "84.03",
                  "26.5",
                  "formerly smoked",
                  "1"
                ],
                [
                  "36",
                  "47269",
                  "Male",
                  "74.0",
                  "0",
                  "0",
                  "Yes",
                  "Private",
                  "Rural",
                  "219.72",
                  "33.7",
                  "formerly smoked",
                  "1"
                ],
                [
                  "37",
                  "24977",
                  "Female",
                  "72.0",
                  "1",
                  "0",
                  "Yes",
                  "Private",
                  "Rural",
                  "74.63",
                  "23.1",
                  "formerly smoked",
                  "1"
                ],
                [
                  "38",
                  "47306",
                  "Male",
                  "58.0",
                  "0",
                  "0",
                  "No",
                  "Private",
                  "Rural",
                  "92.62",
                  "32.0",
                  "Unknown",
                  "1"
                ],
                [
                  "39",
                  "62602",
                  "Female",
                  "49.0",
                  "0",
                  "0",
                  "Yes",
                  "Private",
                  "Urban",
                  "60.91",
                  "29.9",
                  "never smoked",
                  "1"
                ],
                [
                  "40",
                  "4651",
                  "Male",
                  "78.0",
                  "0",
                  "0",
                  "Yes",
                  "Private",
                  "Rural",
                  "78.03",
                  "23.9",
                  "formerly smoked",
                  "1"
                ],
                [
                  "41",
                  "1261",
                  "Male",
                  "54.0",
                  "0",
                  "0",
                  "Yes",
                  "Private",
                  "Urban",
                  "71.22",
                  "28.5",
                  "never smoked",
                  "1"
                ],
                [
                  "42",
                  "61960",
                  "Male",
                  "82.0",
                  "0",
                  "1",
                  "Yes",
                  "Private",
                  "Urban",
                  "144.9",
                  "26.4",
                  "smokes",
                  "1"
                ],
                [
                  "43",
                  "1845",
                  "Female",
                  "63.0",
                  "0",
                  "0",
                  "Yes",
                  "Private",
                  "Urban",
                  "90.9",
                  null,
                  "formerly smoked",
                  "1"
                ],
                [
                  "44",
                  "7937",
                  "Male",
                  "60.0",
                  "1",
                  "0",
                  "Yes",
                  "Govt_job",
                  "Urban",
                  "213.03",
                  "20.2",
                  "smokes",
                  "1"
                ],
                [
                  "45",
                  "19824",
                  "Male",
                  "76.0",
                  "1",
                  "0",
                  "Yes",
                  "Private",
                  "Rural",
                  "243.58",
                  "33.6",
                  "never smoked",
                  "1"
                ],
                [
                  "46",
                  "37937",
                  "Female",
                  "75.0",
                  "0",
                  "1",
                  "No",
                  "Self-employed",
                  "Urban",
                  "109.78",
                  null,
                  "Unknown",
                  "1"
                ],
                [
                  "47",
                  "47472",
                  "Female",
                  "58.0",
                  "0",
                  "0",
                  "Yes",
                  "Private",
                  "Urban",
                  "107.26",
                  "38.6",
                  "formerly smoked",
                  "1"
                ],
                [
                  "48",
                  "35626",
                  "Male",
                  "81.0",
                  "0",
                  "0",
                  "Yes",
                  "Self-employed",
                  "Urban",
                  "99.33",
                  "33.7",
                  "never smoked",
                  "1"
                ],
                [
                  "49",
                  "36338",
                  "Female",
                  "39.0",
                  "1",
                  "0",
                  "Yes",
                  "Private",
                  "Rural",
                  "58.09",
                  "39.2",
                  "smokes",
                  "1"
                ],
                [
                  "50",
                  "18587",
                  "Female",
                  "76.0",
                  "0",
                  "0",
                  "No",
                  "Private",
                  "Urban",
                  "89.96",
                  null,
                  "Unknown",
                  "1"
                ],
                [
                  "51",
                  "15102",
                  "Male",
                  "78.0",
                  "1",
                  "0",
                  "Yes",
                  "Private",
                  "Urban",
                  "75.32",
                  null,
                  "formerly smoked",
                  "1"
                ],
                [
                  "52",
                  "59190",
                  "Female",
                  "79.0",
                  "0",
                  "1",
                  "Yes",
                  "Private",
                  "Rural",
                  "127.29",
                  "27.7",
                  "never smoked",
                  "1"
                ]
              ],
              "shape": {
                "columns": 12,
                "rows": 5107
              }
            },
            "text/html": [
              "<div>\n",
              "<style scoped>\n",
              "    .dataframe tbody tr th:only-of-type {\n",
              "        vertical-align: middle;\n",
              "    }\n",
              "\n",
              "    .dataframe tbody tr th {\n",
              "        vertical-align: top;\n",
              "    }\n",
              "\n",
              "    .dataframe thead th {\n",
              "        text-align: right;\n",
              "    }\n",
              "</style>\n",
              "<table border=\"1\" class=\"dataframe\">\n",
              "  <thead>\n",
              "    <tr style=\"text-align: right;\">\n",
              "      <th></th>\n",
              "      <th>id</th>\n",
              "      <th>gender</th>\n",
              "      <th>age</th>\n",
              "      <th>hypertension</th>\n",
              "      <th>heart_disease</th>\n",
              "      <th>ever_married</th>\n",
              "      <th>work_type</th>\n",
              "      <th>Residence_type</th>\n",
              "      <th>avg_glucose_level</th>\n",
              "      <th>bmi</th>\n",
              "      <th>smoking_status</th>\n",
              "      <th>stroke</th>\n",
              "    </tr>\n",
              "  </thead>\n",
              "  <tbody>\n",
              "    <tr>\n",
              "      <th>3</th>\n",
              "      <td>60182</td>\n",
              "      <td>Female</td>\n",
              "      <td>49.0</td>\n",
              "      <td>0</td>\n",
              "      <td>0</td>\n",
              "      <td>Yes</td>\n",
              "      <td>Private</td>\n",
              "      <td>Urban</td>\n",
              "      <td>171.23</td>\n",
              "      <td>34.4</td>\n",
              "      <td>smokes</td>\n",
              "      <td>1</td>\n",
              "    </tr>\n",
              "    <tr>\n",
              "      <th>4</th>\n",
              "      <td>1665</td>\n",
              "      <td>Female</td>\n",
              "      <td>79.0</td>\n",
              "      <td>1</td>\n",
              "      <td>0</td>\n",
              "      <td>Yes</td>\n",
              "      <td>Self-employed</td>\n",
              "      <td>Rural</td>\n",
              "      <td>174.12</td>\n",
              "      <td>24.0</td>\n",
              "      <td>never smoked</td>\n",
              "      <td>1</td>\n",
              "    </tr>\n",
              "    <tr>\n",
              "      <th>5</th>\n",
              "      <td>56669</td>\n",
              "      <td>Male</td>\n",
              "      <td>81.0</td>\n",
              "      <td>0</td>\n",
              "      <td>0</td>\n",
              "      <td>Yes</td>\n",
              "      <td>Private</td>\n",
              "      <td>Urban</td>\n",
              "      <td>186.21</td>\n",
              "      <td>29.0</td>\n",
              "      <td>formerly smoked</td>\n",
              "      <td>1</td>\n",
              "    </tr>\n",
              "    <tr>\n",
              "      <th>6</th>\n",
              "      <td>53882</td>\n",
              "      <td>Male</td>\n",
              "      <td>74.0</td>\n",
              "      <td>1</td>\n",
              "      <td>1</td>\n",
              "      <td>Yes</td>\n",
              "      <td>Private</td>\n",
              "      <td>Rural</td>\n",
              "      <td>70.09</td>\n",
              "      <td>27.4</td>\n",
              "      <td>never smoked</td>\n",
              "      <td>1</td>\n",
              "    </tr>\n",
              "    <tr>\n",
              "      <th>7</th>\n",
              "      <td>10434</td>\n",
              "      <td>Female</td>\n",
              "      <td>69.0</td>\n",
              "      <td>0</td>\n",
              "      <td>0</td>\n",
              "      <td>No</td>\n",
              "      <td>Private</td>\n",
              "      <td>Urban</td>\n",
              "      <td>94.39</td>\n",
              "      <td>22.8</td>\n",
              "      <td>never smoked</td>\n",
              "      <td>1</td>\n",
              "    </tr>\n",
              "    <tr>\n",
              "      <th>...</th>\n",
              "      <td>...</td>\n",
              "      <td>...</td>\n",
              "      <td>...</td>\n",
              "      <td>...</td>\n",
              "      <td>...</td>\n",
              "      <td>...</td>\n",
              "      <td>...</td>\n",
              "      <td>...</td>\n",
              "      <td>...</td>\n",
              "      <td>...</td>\n",
              "      <td>...</td>\n",
              "      <td>...</td>\n",
              "    </tr>\n",
              "    <tr>\n",
              "      <th>5105</th>\n",
              "      <td>18234</td>\n",
              "      <td>Female</td>\n",
              "      <td>80.0</td>\n",
              "      <td>1</td>\n",
              "      <td>0</td>\n",
              "      <td>Yes</td>\n",
              "      <td>Private</td>\n",
              "      <td>Urban</td>\n",
              "      <td>83.75</td>\n",
              "      <td>NaN</td>\n",
              "      <td>never smoked</td>\n",
              "      <td>0</td>\n",
              "    </tr>\n",
              "    <tr>\n",
              "      <th>5106</th>\n",
              "      <td>44873</td>\n",
              "      <td>Female</td>\n",
              "      <td>81.0</td>\n",
              "      <td>0</td>\n",
              "      <td>0</td>\n",
              "      <td>Yes</td>\n",
              "      <td>Self-employed</td>\n",
              "      <td>Urban</td>\n",
              "      <td>125.20</td>\n",
              "      <td>40.0</td>\n",
              "      <td>never smoked</td>\n",
              "      <td>0</td>\n",
              "    </tr>\n",
              "    <tr>\n",
              "      <th>5107</th>\n",
              "      <td>19723</td>\n",
              "      <td>Female</td>\n",
              "      <td>35.0</td>\n",
              "      <td>0</td>\n",
              "      <td>0</td>\n",
              "      <td>Yes</td>\n",
              "      <td>Self-employed</td>\n",
              "      <td>Rural</td>\n",
              "      <td>82.99</td>\n",
              "      <td>30.6</td>\n",
              "      <td>never smoked</td>\n",
              "      <td>0</td>\n",
              "    </tr>\n",
              "    <tr>\n",
              "      <th>5108</th>\n",
              "      <td>37544</td>\n",
              "      <td>Male</td>\n",
              "      <td>51.0</td>\n",
              "      <td>0</td>\n",
              "      <td>0</td>\n",
              "      <td>Yes</td>\n",
              "      <td>Private</td>\n",
              "      <td>Rural</td>\n",
              "      <td>166.29</td>\n",
              "      <td>25.6</td>\n",
              "      <td>formerly smoked</td>\n",
              "      <td>0</td>\n",
              "    </tr>\n",
              "    <tr>\n",
              "      <th>5109</th>\n",
              "      <td>44679</td>\n",
              "      <td>Female</td>\n",
              "      <td>44.0</td>\n",
              "      <td>0</td>\n",
              "      <td>0</td>\n",
              "      <td>Yes</td>\n",
              "      <td>Govt_job</td>\n",
              "      <td>Urban</td>\n",
              "      <td>85.28</td>\n",
              "      <td>26.2</td>\n",
              "      <td>Unknown</td>\n",
              "      <td>0</td>\n",
              "    </tr>\n",
              "  </tbody>\n",
              "</table>\n",
              "<p>5107 rows × 12 columns</p>\n",
              "</div>"
            ],
            "text/plain": [
              "         id  gender   age  hypertension  heart_disease ever_married  \\\n",
              "3     60182  Female  49.0             0              0          Yes   \n",
              "4      1665  Female  79.0             1              0          Yes   \n",
              "5     56669    Male  81.0             0              0          Yes   \n",
              "6     53882    Male  74.0             1              1          Yes   \n",
              "7     10434  Female  69.0             0              0           No   \n",
              "...     ...     ...   ...           ...            ...          ...   \n",
              "5105  18234  Female  80.0             1              0          Yes   \n",
              "5106  44873  Female  81.0             0              0          Yes   \n",
              "5107  19723  Female  35.0             0              0          Yes   \n",
              "5108  37544    Male  51.0             0              0          Yes   \n",
              "5109  44679  Female  44.0             0              0          Yes   \n",
              "\n",
              "          work_type Residence_type  avg_glucose_level   bmi   smoking_status  \\\n",
              "3           Private          Urban             171.23  34.4           smokes   \n",
              "4     Self-employed          Rural             174.12  24.0     never smoked   \n",
              "5           Private          Urban             186.21  29.0  formerly smoked   \n",
              "6           Private          Rural              70.09  27.4     never smoked   \n",
              "7           Private          Urban              94.39  22.8     never smoked   \n",
              "...             ...            ...                ...   ...              ...   \n",
              "5105        Private          Urban              83.75   NaN     never smoked   \n",
              "5106  Self-employed          Urban             125.20  40.0     never smoked   \n",
              "5107  Self-employed          Rural              82.99  30.6     never smoked   \n",
              "5108        Private          Rural             166.29  25.6  formerly smoked   \n",
              "5109       Govt_job          Urban              85.28  26.2          Unknown   \n",
              "\n",
              "      stroke  \n",
              "3          1  \n",
              "4          1  \n",
              "5          1  \n",
              "6          1  \n",
              "7          1  \n",
              "...      ...  \n",
              "5105       0  \n",
              "5106       0  \n",
              "5107       0  \n",
              "5108       0  \n",
              "5109       0  \n",
              "\n",
              "[5107 rows x 12 columns]"
            ]
          },
          "execution_count": 5,
          "metadata": {},
          "output_type": "execute_result"
        }
      ],
      "source": [
        "#last n rows from df\n",
        "df.tail(-3)"
      ]
    },
    {
      "cell_type": "markdown",
      "id": "RPs2Skkf6yw3",
      "metadata": {
        "id": "RPs2Skkf6yw3",
        "papermill": {
          "duration": 0.053071,
          "end_time": "2021-05-25T12:30:51.056994",
          "exception": false,
          "start_time": "2021-05-25T12:30:51.003923",
          "status": "completed"
        },
        "tags": []
      },
      "source": [
        "## 1. Data Dimension"
      ]
    },
    {
      "cell_type": "code",
      "execution_count": 6,
      "id": "wqncPWTEYv9u",
      "metadata": {
        "colab": {
          "base_uri": "https://localhost:8080/"
        },
        "id": "wqncPWTEYv9u",
        "outputId": "422bf184-62e7-4ba9-ceab-1b1222f101f9"
      },
      "outputs": [
        {
          "data": {
            "text/plain": [
              "(5110, 12)"
            ]
          },
          "execution_count": 6,
          "metadata": {},
          "output_type": "execute_result"
        }
      ],
      "source": [
        "df.shape"
      ]
    },
    {
      "cell_type": "markdown",
      "id": "8WvVKf3yox1o",
      "metadata": {
        "id": "8WvVKf3yox1o"
      },
      "source": [
        "- Afficher le shape des lignes et des colonnes du dataframe\n",
        "**nombrede ligne 5110*\n",
        "**nombre de colonnes: 12*"
      ]
    },
    {
      "cell_type": "code",
      "execution_count": 7,
      "id": "RP3qSFdnox1p",
      "metadata": {
        "colab": {
          "base_uri": "https://localhost:8080/"
        },
        "id": "RP3qSFdnox1p",
        "outputId": "845def97-9e61-445b-8b9a-6aebe586b3b1"
      },
      "outputs": [
        {
          "name": "stdout",
          "output_type": "stream",
          "text": [
            "Le nombre de ligne 5110\n",
            "Le nombre de colonne 12\n"
          ]
        }
      ],
      "source": [
        "print(\"Le nombre de ligne\",df.shape[0])\n",
        "print(\"Le nombre de colonne\",df.shape[1])"
      ]
    },
    {
      "cell_type": "markdown",
      "id": "XTCsYqvIox1q",
      "metadata": {
        "id": "XTCsYqvIox1q"
      },
      "source": [
        "## 2. Data types"
      ]
    },
    {
      "cell_type": "raw",
      "id": "qEZe9VIHox1q",
      "metadata": {
        "id": "qEZe9VIHox1q"
      },
      "source": [
        "2.1 - afficher les informations du dataframe"
      ]
    },
    {
      "cell_type": "code",
      "execution_count": 8,
      "id": "zBtmMZiI60KI",
      "metadata": {
        "colab": {
          "base_uri": "https://localhost:8080/"
        },
        "execution": {
          "iopub.execute_input": "2021-05-25T12:30:51.167043Z",
          "iopub.status.busy": "2021-05-25T12:30:51.166359Z",
          "iopub.status.idle": "2021-05-25T12:30:51.172035Z",
          "shell.execute_reply": "2021-05-25T12:30:51.172692Z",
          "shell.execute_reply.started": "2021-05-24T14:36:56.144075Z"
        },
        "id": "zBtmMZiI60KI",
        "outputId": "d8d72b56-3938-4381-ec79-ef7a42597931",
        "papermill": {
          "duration": 0.062065,
          "end_time": "2021-05-25T12:30:51.172887",
          "exception": false,
          "start_time": "2021-05-25T12:30:51.110822",
          "status": "completed"
        },
        "tags": []
      },
      "outputs": [
        {
          "name": "stdout",
          "output_type": "stream",
          "text": [
            "<class 'pandas.core.frame.DataFrame'>\n",
            "RangeIndex: 5110 entries, 0 to 5109\n",
            "Data columns (total 12 columns):\n",
            " #   Column             Non-Null Count  Dtype  \n",
            "---  ------             --------------  -----  \n",
            " 0   id                 5110 non-null   int64  \n",
            " 1   gender             5110 non-null   object \n",
            " 2   age                5110 non-null   float64\n",
            " 3   hypertension       5110 non-null   int64  \n",
            " 4   heart_disease      5110 non-null   int64  \n",
            " 5   ever_married       5110 non-null   object \n",
            " 6   work_type          5110 non-null   object \n",
            " 7   Residence_type     5110 non-null   object \n",
            " 8   avg_glucose_level  5110 non-null   float64\n",
            " 9   bmi                4909 non-null   float64\n",
            " 10  smoking_status     5110 non-null   object \n",
            " 11  stroke             5110 non-null   int64  \n",
            "dtypes: float64(3), int64(4), object(5)\n",
            "memory usage: 479.2+ KB\n"
          ]
        }
      ],
      "source": [
        "df.info()"
      ]
    },
    {
      "cell_type": "raw",
      "id": "qmwfE22Qox1s",
      "metadata": {
        "id": "qmwfE22Qox1s"
      },
      "source": [
        "2.2 - afficher les types de données dans chaque colonne"
      ]
    },
    {
      "cell_type": "code",
      "execution_count": 9,
      "id": "f8BkVL50ox1s",
      "metadata": {
        "colab": {
          "base_uri": "https://localhost:8080/",
          "height": 460
        },
        "id": "f8BkVL50ox1s",
        "outputId": "fe0f8532-7ffa-48f5-e358-b4b522b16da7"
      },
      "outputs": [
        {
          "data": {
            "text/plain": [
              "id                     int64\n",
              "gender                object\n",
              "age                  float64\n",
              "hypertension           int64\n",
              "heart_disease          int64\n",
              "ever_married          object\n",
              "work_type             object\n",
              "Residence_type        object\n",
              "avg_glucose_level    float64\n",
              "bmi                  float64\n",
              "smoking_status        object\n",
              "stroke                 int64\n",
              "dtype: object"
            ]
          },
          "execution_count": 9,
          "metadata": {},
          "output_type": "execute_result"
        }
      ],
      "source": [
        "#print(df.dtypes)\n",
        "df.dtypes"
      ]
    },
    {
      "cell_type": "raw",
      "id": "L0tSNuOCox1t",
      "metadata": {
        "id": "L0tSNuOCox1t"
      },
      "source": [
        "2.3 - parcourir les colonnes du dataframe (for) pour afficher leur type et le nombre de valeurs null (ou manquantes)"
      ]
    },
    {
      "cell_type": "code",
      "execution_count": 10,
      "id": "_CLkV6aJox1t",
      "metadata": {
        "colab": {
          "base_uri": "https://localhost:8080/"
        },
        "id": "_CLkV6aJox1t",
        "outputId": "c5232091-7a9d-4c0b-f8da-062f9c56c56e"
      },
      "outputs": [
        {
          "name": "stdout",
          "output_type": "stream",
          "text": [
            "Variable: id \tType: int64 0\n",
            "Variable: gender \tType: object 0\n",
            "Variable: age \tType: float64 0\n",
            "Variable: hypertension \tType: int64 0\n",
            "Variable: heart_disease \tType: int64 0\n",
            "Variable: ever_married \tType: object 0\n",
            "Variable: work_type \tType: object 0\n",
            "Variable: Residence_type \tType: object 0\n",
            "Variable: avg_glucose_level \tType: float64 0\n",
            "Variable: bmi \tType: float64 201\n",
            "Variable: smoking_status \tType: object 0\n",
            "Variable: stroke \tType: int64 0\n"
          ]
        }
      ],
      "source": [
        "for var in df.columns:\n",
        "    print('Variable:',var,'\\tType:',df[var].dtype,df[var].isnull().sum())"
      ]
    },
    {
      "cell_type": "markdown",
      "id": "-JTIK-dCox1u",
      "metadata": {
        "id": "-JTIK-dCox1u"
      },
      "source": [
        "2.4 - Supprimer la colonne Id qui n'est pas intéressante (df.drop(['col'], axis=1, inplace=True))\n",
        "\n",
        "Vérifier."
      ]
    },
    {
      "cell_type": "code",
      "execution_count": 11,
      "id": "2dIvud5meAst",
      "metadata": {
        "execution": {
          "iopub.execute_input": "2021-05-25T12:30:51.508551Z",
          "iopub.status.busy": "2021-05-25T12:30:51.507896Z",
          "iopub.status.idle": "2021-05-25T12:30:51.516151Z",
          "shell.execute_reply": "2021-05-25T12:30:51.515471Z",
          "shell.execute_reply.started": "2021-05-24T14:36:56.173716Z"
        },
        "id": "2dIvud5meAst",
        "papermill": {
          "duration": 0.063924,
          "end_time": "2021-05-25T12:30:51.516294",
          "exception": false,
          "start_time": "2021-05-25T12:30:51.452370",
          "status": "completed"
        },
        "tags": []
      },
      "outputs": [],
      "source": [
        "df.drop(['id'], axis=1, inplace=True)"
      ]
    },
    {
      "cell_type": "markdown",
      "id": "QxubKc0xox1v",
      "metadata": {
        "id": "QxubKc0xox1v"
      },
      "source": [
        "2.5 - vérifier la suppression"
      ]
    },
    {
      "cell_type": "code",
      "execution_count": 12,
      "id": "5ERqqY0Jox1v",
      "metadata": {
        "colab": {
          "base_uri": "https://localhost:8080/",
          "height": 261
        },
        "id": "5ERqqY0Jox1v",
        "outputId": "cd3531fb-9c50-4fad-ed2a-a0409a851f8b"
      },
      "outputs": [
        {
          "data": {
            "application/vnd.microsoft.datawrangler.viewer.v0+json": {
              "columns": [
                {
                  "name": "index",
                  "rawType": "int64",
                  "type": "integer"
                },
                {
                  "name": "gender",
                  "rawType": "object",
                  "type": "string"
                },
                {
                  "name": "age",
                  "rawType": "float64",
                  "type": "float"
                },
                {
                  "name": "hypertension",
                  "rawType": "int64",
                  "type": "integer"
                },
                {
                  "name": "heart_disease",
                  "rawType": "int64",
                  "type": "integer"
                },
                {
                  "name": "ever_married",
                  "rawType": "object",
                  "type": "string"
                },
                {
                  "name": "work_type",
                  "rawType": "object",
                  "type": "string"
                },
                {
                  "name": "Residence_type",
                  "rawType": "object",
                  "type": "string"
                },
                {
                  "name": "avg_glucose_level",
                  "rawType": "float64",
                  "type": "float"
                },
                {
                  "name": "bmi",
                  "rawType": "float64",
                  "type": "float"
                },
                {
                  "name": "smoking_status",
                  "rawType": "object",
                  "type": "string"
                },
                {
                  "name": "stroke",
                  "rawType": "int64",
                  "type": "integer"
                }
              ],
              "conversionMethod": "pd.DataFrame",
              "ref": "ce48986d-160c-45da-ab0b-666787cb15dd",
              "rows": [
                [
                  "0",
                  "Male",
                  "67.0",
                  "0",
                  "1",
                  "Yes",
                  "Private",
                  "Urban",
                  "228.69",
                  "36.6",
                  "formerly smoked",
                  "1"
                ],
                [
                  "1",
                  "Female",
                  "61.0",
                  "0",
                  "0",
                  "Yes",
                  "Self-employed",
                  "Rural",
                  "202.21",
                  null,
                  "never smoked",
                  "1"
                ],
                [
                  "2",
                  "Male",
                  "80.0",
                  "0",
                  "1",
                  "Yes",
                  "Private",
                  "Rural",
                  "105.92",
                  "32.5",
                  "never smoked",
                  "1"
                ],
                [
                  "3",
                  "Female",
                  "49.0",
                  "0",
                  "0",
                  "Yes",
                  "Private",
                  "Urban",
                  "171.23",
                  "34.4",
                  "smokes",
                  "1"
                ],
                [
                  "4",
                  "Female",
                  "79.0",
                  "1",
                  "0",
                  "Yes",
                  "Self-employed",
                  "Rural",
                  "174.12",
                  "24.0",
                  "never smoked",
                  "1"
                ]
              ],
              "shape": {
                "columns": 11,
                "rows": 5
              }
            },
            "text/html": [
              "<div>\n",
              "<style scoped>\n",
              "    .dataframe tbody tr th:only-of-type {\n",
              "        vertical-align: middle;\n",
              "    }\n",
              "\n",
              "    .dataframe tbody tr th {\n",
              "        vertical-align: top;\n",
              "    }\n",
              "\n",
              "    .dataframe thead th {\n",
              "        text-align: right;\n",
              "    }\n",
              "</style>\n",
              "<table border=\"1\" class=\"dataframe\">\n",
              "  <thead>\n",
              "    <tr style=\"text-align: right;\">\n",
              "      <th></th>\n",
              "      <th>gender</th>\n",
              "      <th>age</th>\n",
              "      <th>hypertension</th>\n",
              "      <th>heart_disease</th>\n",
              "      <th>ever_married</th>\n",
              "      <th>work_type</th>\n",
              "      <th>Residence_type</th>\n",
              "      <th>avg_glucose_level</th>\n",
              "      <th>bmi</th>\n",
              "      <th>smoking_status</th>\n",
              "      <th>stroke</th>\n",
              "    </tr>\n",
              "  </thead>\n",
              "  <tbody>\n",
              "    <tr>\n",
              "      <th>0</th>\n",
              "      <td>Male</td>\n",
              "      <td>67.0</td>\n",
              "      <td>0</td>\n",
              "      <td>1</td>\n",
              "      <td>Yes</td>\n",
              "      <td>Private</td>\n",
              "      <td>Urban</td>\n",
              "      <td>228.69</td>\n",
              "      <td>36.6</td>\n",
              "      <td>formerly smoked</td>\n",
              "      <td>1</td>\n",
              "    </tr>\n",
              "    <tr>\n",
              "      <th>1</th>\n",
              "      <td>Female</td>\n",
              "      <td>61.0</td>\n",
              "      <td>0</td>\n",
              "      <td>0</td>\n",
              "      <td>Yes</td>\n",
              "      <td>Self-employed</td>\n",
              "      <td>Rural</td>\n",
              "      <td>202.21</td>\n",
              "      <td>NaN</td>\n",
              "      <td>never smoked</td>\n",
              "      <td>1</td>\n",
              "    </tr>\n",
              "    <tr>\n",
              "      <th>2</th>\n",
              "      <td>Male</td>\n",
              "      <td>80.0</td>\n",
              "      <td>0</td>\n",
              "      <td>1</td>\n",
              "      <td>Yes</td>\n",
              "      <td>Private</td>\n",
              "      <td>Rural</td>\n",
              "      <td>105.92</td>\n",
              "      <td>32.5</td>\n",
              "      <td>never smoked</td>\n",
              "      <td>1</td>\n",
              "    </tr>\n",
              "    <tr>\n",
              "      <th>3</th>\n",
              "      <td>Female</td>\n",
              "      <td>49.0</td>\n",
              "      <td>0</td>\n",
              "      <td>0</td>\n",
              "      <td>Yes</td>\n",
              "      <td>Private</td>\n",
              "      <td>Urban</td>\n",
              "      <td>171.23</td>\n",
              "      <td>34.4</td>\n",
              "      <td>smokes</td>\n",
              "      <td>1</td>\n",
              "    </tr>\n",
              "    <tr>\n",
              "      <th>4</th>\n",
              "      <td>Female</td>\n",
              "      <td>79.0</td>\n",
              "      <td>1</td>\n",
              "      <td>0</td>\n",
              "      <td>Yes</td>\n",
              "      <td>Self-employed</td>\n",
              "      <td>Rural</td>\n",
              "      <td>174.12</td>\n",
              "      <td>24.0</td>\n",
              "      <td>never smoked</td>\n",
              "      <td>1</td>\n",
              "    </tr>\n",
              "  </tbody>\n",
              "</table>\n",
              "</div>"
            ],
            "text/plain": [
              "   gender   age  hypertension  heart_disease ever_married      work_type  \\\n",
              "0    Male  67.0             0              1          Yes        Private   \n",
              "1  Female  61.0             0              0          Yes  Self-employed   \n",
              "2    Male  80.0             0              1          Yes        Private   \n",
              "3  Female  49.0             0              0          Yes        Private   \n",
              "4  Female  79.0             1              0          Yes  Self-employed   \n",
              "\n",
              "  Residence_type  avg_glucose_level   bmi   smoking_status  stroke  \n",
              "0          Urban             228.69  36.6  formerly smoked       1  \n",
              "1          Rural             202.21   NaN     never smoked       1  \n",
              "2          Rural             105.92  32.5     never smoked       1  \n",
              "3          Urban             171.23  34.4           smokes       1  \n",
              "4          Rural             174.12  24.0     never smoked       1  "
            ]
          },
          "execution_count": 12,
          "metadata": {},
          "output_type": "execute_result"
        }
      ],
      "source": [
        "df.head()"
      ]
    },
    {
      "cell_type": "raw",
      "id": "q8Q07tIKox1w",
      "metadata": {
        "id": "q8Q07tIKox1w"
      },
      "source": [
        "2.5 - convertir le type de la colonne 'age' en int (df.astype())"
      ]
    },
    {
      "cell_type": "code",
      "execution_count": 13,
      "id": "1HzlDL33ox1w",
      "metadata": {
        "colab": {
          "base_uri": "https://localhost:8080/",
          "height": 261
        },
        "id": "1HzlDL33ox1w",
        "outputId": "1c9eca2d-84d0-4bb8-f710-54481a585bbd"
      },
      "outputs": [
        {
          "data": {
            "application/vnd.microsoft.datawrangler.viewer.v0+json": {
              "columns": [
                {
                  "name": "index",
                  "rawType": "int64",
                  "type": "integer"
                },
                {
                  "name": "gender",
                  "rawType": "object",
                  "type": "string"
                },
                {
                  "name": "age",
                  "rawType": "int64",
                  "type": "integer"
                },
                {
                  "name": "hypertension",
                  "rawType": "int64",
                  "type": "integer"
                },
                {
                  "name": "heart_disease",
                  "rawType": "int64",
                  "type": "integer"
                },
                {
                  "name": "ever_married",
                  "rawType": "object",
                  "type": "string"
                },
                {
                  "name": "work_type",
                  "rawType": "object",
                  "type": "string"
                },
                {
                  "name": "Residence_type",
                  "rawType": "object",
                  "type": "string"
                },
                {
                  "name": "avg_glucose_level",
                  "rawType": "float64",
                  "type": "float"
                },
                {
                  "name": "bmi",
                  "rawType": "float64",
                  "type": "float"
                },
                {
                  "name": "smoking_status",
                  "rawType": "object",
                  "type": "string"
                },
                {
                  "name": "stroke",
                  "rawType": "int64",
                  "type": "integer"
                }
              ],
              "conversionMethod": "pd.DataFrame",
              "ref": "0909ea81-bbe7-4ec5-9bc3-7b3bebc50a34",
              "rows": [
                [
                  "0",
                  "Male",
                  "67",
                  "0",
                  "1",
                  "Yes",
                  "Private",
                  "Urban",
                  "228.69",
                  "36.6",
                  "formerly smoked",
                  "1"
                ],
                [
                  "1",
                  "Female",
                  "61",
                  "0",
                  "0",
                  "Yes",
                  "Self-employed",
                  "Rural",
                  "202.21",
                  null,
                  "never smoked",
                  "1"
                ],
                [
                  "2",
                  "Male",
                  "80",
                  "0",
                  "1",
                  "Yes",
                  "Private",
                  "Rural",
                  "105.92",
                  "32.5",
                  "never smoked",
                  "1"
                ],
                [
                  "3",
                  "Female",
                  "49",
                  "0",
                  "0",
                  "Yes",
                  "Private",
                  "Urban",
                  "171.23",
                  "34.4",
                  "smokes",
                  "1"
                ],
                [
                  "4",
                  "Female",
                  "79",
                  "1",
                  "0",
                  "Yes",
                  "Self-employed",
                  "Rural",
                  "174.12",
                  "24.0",
                  "never smoked",
                  "1"
                ]
              ],
              "shape": {
                "columns": 11,
                "rows": 5
              }
            },
            "text/html": [
              "<div>\n",
              "<style scoped>\n",
              "    .dataframe tbody tr th:only-of-type {\n",
              "        vertical-align: middle;\n",
              "    }\n",
              "\n",
              "    .dataframe tbody tr th {\n",
              "        vertical-align: top;\n",
              "    }\n",
              "\n",
              "    .dataframe thead th {\n",
              "        text-align: right;\n",
              "    }\n",
              "</style>\n",
              "<table border=\"1\" class=\"dataframe\">\n",
              "  <thead>\n",
              "    <tr style=\"text-align: right;\">\n",
              "      <th></th>\n",
              "      <th>gender</th>\n",
              "      <th>age</th>\n",
              "      <th>hypertension</th>\n",
              "      <th>heart_disease</th>\n",
              "      <th>ever_married</th>\n",
              "      <th>work_type</th>\n",
              "      <th>Residence_type</th>\n",
              "      <th>avg_glucose_level</th>\n",
              "      <th>bmi</th>\n",
              "      <th>smoking_status</th>\n",
              "      <th>stroke</th>\n",
              "    </tr>\n",
              "  </thead>\n",
              "  <tbody>\n",
              "    <tr>\n",
              "      <th>0</th>\n",
              "      <td>Male</td>\n",
              "      <td>67</td>\n",
              "      <td>0</td>\n",
              "      <td>1</td>\n",
              "      <td>Yes</td>\n",
              "      <td>Private</td>\n",
              "      <td>Urban</td>\n",
              "      <td>228.69</td>\n",
              "      <td>36.6</td>\n",
              "      <td>formerly smoked</td>\n",
              "      <td>1</td>\n",
              "    </tr>\n",
              "    <tr>\n",
              "      <th>1</th>\n",
              "      <td>Female</td>\n",
              "      <td>61</td>\n",
              "      <td>0</td>\n",
              "      <td>0</td>\n",
              "      <td>Yes</td>\n",
              "      <td>Self-employed</td>\n",
              "      <td>Rural</td>\n",
              "      <td>202.21</td>\n",
              "      <td>NaN</td>\n",
              "      <td>never smoked</td>\n",
              "      <td>1</td>\n",
              "    </tr>\n",
              "    <tr>\n",
              "      <th>2</th>\n",
              "      <td>Male</td>\n",
              "      <td>80</td>\n",
              "      <td>0</td>\n",
              "      <td>1</td>\n",
              "      <td>Yes</td>\n",
              "      <td>Private</td>\n",
              "      <td>Rural</td>\n",
              "      <td>105.92</td>\n",
              "      <td>32.5</td>\n",
              "      <td>never smoked</td>\n",
              "      <td>1</td>\n",
              "    </tr>\n",
              "    <tr>\n",
              "      <th>3</th>\n",
              "      <td>Female</td>\n",
              "      <td>49</td>\n",
              "      <td>0</td>\n",
              "      <td>0</td>\n",
              "      <td>Yes</td>\n",
              "      <td>Private</td>\n",
              "      <td>Urban</td>\n",
              "      <td>171.23</td>\n",
              "      <td>34.4</td>\n",
              "      <td>smokes</td>\n",
              "      <td>1</td>\n",
              "    </tr>\n",
              "    <tr>\n",
              "      <th>4</th>\n",
              "      <td>Female</td>\n",
              "      <td>79</td>\n",
              "      <td>1</td>\n",
              "      <td>0</td>\n",
              "      <td>Yes</td>\n",
              "      <td>Self-employed</td>\n",
              "      <td>Rural</td>\n",
              "      <td>174.12</td>\n",
              "      <td>24.0</td>\n",
              "      <td>never smoked</td>\n",
              "      <td>1</td>\n",
              "    </tr>\n",
              "  </tbody>\n",
              "</table>\n",
              "</div>"
            ],
            "text/plain": [
              "   gender  age  hypertension  heart_disease ever_married      work_type  \\\n",
              "0    Male   67             0              1          Yes        Private   \n",
              "1  Female   61             0              0          Yes  Self-employed   \n",
              "2    Male   80             0              1          Yes        Private   \n",
              "3  Female   49             0              0          Yes        Private   \n",
              "4  Female   79             1              0          Yes  Self-employed   \n",
              "\n",
              "  Residence_type  avg_glucose_level   bmi   smoking_status  stroke  \n",
              "0          Urban             228.69  36.6  formerly smoked       1  \n",
              "1          Rural             202.21   NaN     never smoked       1  \n",
              "2          Rural             105.92  32.5     never smoked       1  \n",
              "3          Urban             171.23  34.4           smokes       1  \n",
              "4          Rural             174.12  24.0     never smoked       1  "
            ]
          },
          "execution_count": 13,
          "metadata": {},
          "output_type": "execute_result"
        }
      ],
      "source": [
        "df['age'] = df['age'].astype('int64')\n",
        "df.head()"
      ]
    },
    {
      "cell_type": "code",
      "execution_count": 14,
      "id": "pwWHNsTEox1x",
      "metadata": {
        "colab": {
          "base_uri": "https://localhost:8080/",
          "height": 513
        },
        "id": "pwWHNsTEox1x",
        "outputId": "c875df63-cbea-4655-8131-06c0a02da0b3"
      },
      "outputs": [
        {
          "data": {
            "application/vnd.microsoft.datawrangler.viewer.v0+json": {
              "columns": [
                {
                  "name": "index",
                  "rawType": "int64",
                  "type": "integer"
                },
                {
                  "name": "gender",
                  "rawType": "object",
                  "type": "string"
                },
                {
                  "name": "age",
                  "rawType": "int64",
                  "type": "integer"
                },
                {
                  "name": "hypertension",
                  "rawType": "int64",
                  "type": "integer"
                },
                {
                  "name": "heart_disease",
                  "rawType": "int64",
                  "type": "integer"
                },
                {
                  "name": "ever_married",
                  "rawType": "object",
                  "type": "string"
                },
                {
                  "name": "work_type",
                  "rawType": "object",
                  "type": "string"
                },
                {
                  "name": "Residence_type",
                  "rawType": "object",
                  "type": "string"
                },
                {
                  "name": "avg_glucose_level",
                  "rawType": "float64",
                  "type": "float"
                },
                {
                  "name": "bmi",
                  "rawType": "float64",
                  "type": "float"
                },
                {
                  "name": "smoking_status",
                  "rawType": "object",
                  "type": "string"
                },
                {
                  "name": "stroke",
                  "rawType": "int64",
                  "type": "integer"
                }
              ],
              "conversionMethod": "pd.DataFrame",
              "ref": "5ad304b6-0900-4b28-8547-bef664a9b9f9",
              "rows": [
                [
                  "0",
                  "Male",
                  "67",
                  "0",
                  "1",
                  "Yes",
                  "Private",
                  "Urban",
                  "228.69",
                  "36.6",
                  "formerly smoked",
                  "1"
                ],
                [
                  "1",
                  "Female",
                  "61",
                  "0",
                  "0",
                  "Yes",
                  "Self-employed",
                  "Rural",
                  "202.21",
                  null,
                  "never smoked",
                  "1"
                ],
                [
                  "2",
                  "Male",
                  "80",
                  "0",
                  "1",
                  "Yes",
                  "Private",
                  "Rural",
                  "105.92",
                  "32.5",
                  "never smoked",
                  "1"
                ],
                [
                  "3",
                  "Female",
                  "49",
                  "0",
                  "0",
                  "Yes",
                  "Private",
                  "Urban",
                  "171.23",
                  "34.4",
                  "smokes",
                  "1"
                ],
                [
                  "4",
                  "Female",
                  "79",
                  "1",
                  "0",
                  "Yes",
                  "Self-employed",
                  "Rural",
                  "174.12",
                  "24.0",
                  "never smoked",
                  "1"
                ],
                [
                  "5",
                  "Male",
                  "81",
                  "0",
                  "0",
                  "Yes",
                  "Private",
                  "Urban",
                  "186.21",
                  "29.0",
                  "formerly smoked",
                  "1"
                ],
                [
                  "6",
                  "Male",
                  "74",
                  "1",
                  "1",
                  "Yes",
                  "Private",
                  "Rural",
                  "70.09",
                  "27.4",
                  "never smoked",
                  "1"
                ],
                [
                  "7",
                  "Female",
                  "69",
                  "0",
                  "0",
                  "No",
                  "Private",
                  "Urban",
                  "94.39",
                  "22.8",
                  "never smoked",
                  "1"
                ],
                [
                  "8",
                  "Female",
                  "59",
                  "0",
                  "0",
                  "Yes",
                  "Private",
                  "Rural",
                  "76.15",
                  null,
                  "Unknown",
                  "1"
                ],
                [
                  "9",
                  "Female",
                  "78",
                  "0",
                  "0",
                  "Yes",
                  "Private",
                  "Urban",
                  "58.57",
                  "24.2",
                  "Unknown",
                  "1"
                ],
                [
                  "10",
                  "Female",
                  "81",
                  "1",
                  "0",
                  "Yes",
                  "Private",
                  "Rural",
                  "80.43",
                  "29.7",
                  "never smoked",
                  "1"
                ],
                [
                  "11",
                  "Female",
                  "61",
                  "0",
                  "1",
                  "Yes",
                  "Govt_job",
                  "Rural",
                  "120.46",
                  "36.8",
                  "smokes",
                  "1"
                ],
                [
                  "12",
                  "Female",
                  "54",
                  "0",
                  "0",
                  "Yes",
                  "Private",
                  "Urban",
                  "104.51",
                  "27.3",
                  "smokes",
                  "1"
                ],
                [
                  "13",
                  "Male",
                  "78",
                  "0",
                  "1",
                  "Yes",
                  "Private",
                  "Urban",
                  "219.84",
                  null,
                  "Unknown",
                  "1"
                ],
                [
                  "14",
                  "Female",
                  "79",
                  "0",
                  "1",
                  "Yes",
                  "Private",
                  "Urban",
                  "214.09",
                  "28.2",
                  "never smoked",
                  "1"
                ],
                [
                  "15",
                  "Female",
                  "50",
                  "1",
                  "0",
                  "Yes",
                  "Self-employed",
                  "Rural",
                  "167.41",
                  "30.9",
                  "never smoked",
                  "1"
                ],
                [
                  "16",
                  "Male",
                  "64",
                  "0",
                  "1",
                  "Yes",
                  "Private",
                  "Urban",
                  "191.61",
                  "37.5",
                  "smokes",
                  "1"
                ],
                [
                  "17",
                  "Male",
                  "75",
                  "1",
                  "0",
                  "Yes",
                  "Private",
                  "Urban",
                  "221.29",
                  "25.8",
                  "smokes",
                  "1"
                ],
                [
                  "18",
                  "Female",
                  "60",
                  "0",
                  "0",
                  "No",
                  "Private",
                  "Urban",
                  "89.22",
                  "37.8",
                  "never smoked",
                  "1"
                ],
                [
                  "19",
                  "Male",
                  "57",
                  "0",
                  "1",
                  "No",
                  "Govt_job",
                  "Urban",
                  "217.08",
                  null,
                  "Unknown",
                  "1"
                ],
                [
                  "20",
                  "Female",
                  "71",
                  "0",
                  "0",
                  "Yes",
                  "Govt_job",
                  "Rural",
                  "193.94",
                  "22.4",
                  "smokes",
                  "1"
                ],
                [
                  "21",
                  "Female",
                  "52",
                  "1",
                  "0",
                  "Yes",
                  "Self-employed",
                  "Urban",
                  "233.29",
                  "48.9",
                  "never smoked",
                  "1"
                ],
                [
                  "22",
                  "Female",
                  "79",
                  "0",
                  "0",
                  "Yes",
                  "Self-employed",
                  "Urban",
                  "228.7",
                  "26.6",
                  "never smoked",
                  "1"
                ],
                [
                  "23",
                  "Male",
                  "82",
                  "0",
                  "1",
                  "Yes",
                  "Private",
                  "Rural",
                  "208.3",
                  "32.5",
                  "Unknown",
                  "1"
                ],
                [
                  "24",
                  "Male",
                  "71",
                  "0",
                  "0",
                  "Yes",
                  "Private",
                  "Urban",
                  "102.87",
                  "27.2",
                  "formerly smoked",
                  "1"
                ],
                [
                  "25",
                  "Male",
                  "80",
                  "0",
                  "0",
                  "Yes",
                  "Self-employed",
                  "Rural",
                  "104.12",
                  "23.5",
                  "never smoked",
                  "1"
                ],
                [
                  "26",
                  "Female",
                  "65",
                  "0",
                  "0",
                  "Yes",
                  "Private",
                  "Rural",
                  "100.98",
                  "28.2",
                  "formerly smoked",
                  "1"
                ],
                [
                  "27",
                  "Male",
                  "58",
                  "0",
                  "0",
                  "Yes",
                  "Private",
                  "Rural",
                  "189.84",
                  null,
                  "Unknown",
                  "1"
                ],
                [
                  "28",
                  "Male",
                  "69",
                  "0",
                  "1",
                  "Yes",
                  "Self-employed",
                  "Urban",
                  "195.23",
                  "28.3",
                  "smokes",
                  "1"
                ],
                [
                  "29",
                  "Male",
                  "59",
                  "0",
                  "0",
                  "Yes",
                  "Private",
                  "Rural",
                  "211.78",
                  null,
                  "formerly smoked",
                  "1"
                ],
                [
                  "30",
                  "Male",
                  "57",
                  "1",
                  "0",
                  "Yes",
                  "Private",
                  "Urban",
                  "212.08",
                  "44.2",
                  "smokes",
                  "1"
                ],
                [
                  "31",
                  "Male",
                  "42",
                  "0",
                  "0",
                  "Yes",
                  "Private",
                  "Rural",
                  "83.41",
                  "25.4",
                  "Unknown",
                  "1"
                ],
                [
                  "32",
                  "Female",
                  "82",
                  "1",
                  "0",
                  "Yes",
                  "Self-employed",
                  "Urban",
                  "196.92",
                  "22.2",
                  "never smoked",
                  "1"
                ],
                [
                  "33",
                  "Male",
                  "80",
                  "0",
                  "1",
                  "Yes",
                  "Self-employed",
                  "Urban",
                  "252.72",
                  "30.5",
                  "formerly smoked",
                  "1"
                ],
                [
                  "34",
                  "Male",
                  "48",
                  "0",
                  "0",
                  "No",
                  "Govt_job",
                  "Urban",
                  "84.2",
                  "29.7",
                  "never smoked",
                  "1"
                ],
                [
                  "35",
                  "Female",
                  "82",
                  "1",
                  "1",
                  "No",
                  "Private",
                  "Rural",
                  "84.03",
                  "26.5",
                  "formerly smoked",
                  "1"
                ],
                [
                  "36",
                  "Male",
                  "74",
                  "0",
                  "0",
                  "Yes",
                  "Private",
                  "Rural",
                  "219.72",
                  "33.7",
                  "formerly smoked",
                  "1"
                ],
                [
                  "37",
                  "Female",
                  "72",
                  "1",
                  "0",
                  "Yes",
                  "Private",
                  "Rural",
                  "74.63",
                  "23.1",
                  "formerly smoked",
                  "1"
                ],
                [
                  "38",
                  "Male",
                  "58",
                  "0",
                  "0",
                  "No",
                  "Private",
                  "Rural",
                  "92.62",
                  "32.0",
                  "Unknown",
                  "1"
                ],
                [
                  "39",
                  "Female",
                  "49",
                  "0",
                  "0",
                  "Yes",
                  "Private",
                  "Urban",
                  "60.91",
                  "29.9",
                  "never smoked",
                  "1"
                ],
                [
                  "40",
                  "Male",
                  "78",
                  "0",
                  "0",
                  "Yes",
                  "Private",
                  "Rural",
                  "78.03",
                  "23.9",
                  "formerly smoked",
                  "1"
                ],
                [
                  "41",
                  "Male",
                  "54",
                  "0",
                  "0",
                  "Yes",
                  "Private",
                  "Urban",
                  "71.22",
                  "28.5",
                  "never smoked",
                  "1"
                ],
                [
                  "42",
                  "Male",
                  "82",
                  "0",
                  "1",
                  "Yes",
                  "Private",
                  "Urban",
                  "144.9",
                  "26.4",
                  "smokes",
                  "1"
                ],
                [
                  "43",
                  "Female",
                  "63",
                  "0",
                  "0",
                  "Yes",
                  "Private",
                  "Urban",
                  "90.9",
                  null,
                  "formerly smoked",
                  "1"
                ],
                [
                  "44",
                  "Male",
                  "60",
                  "1",
                  "0",
                  "Yes",
                  "Govt_job",
                  "Urban",
                  "213.03",
                  "20.2",
                  "smokes",
                  "1"
                ],
                [
                  "45",
                  "Male",
                  "76",
                  "1",
                  "0",
                  "Yes",
                  "Private",
                  "Rural",
                  "243.58",
                  "33.6",
                  "never smoked",
                  "1"
                ],
                [
                  "46",
                  "Female",
                  "75",
                  "0",
                  "1",
                  "No",
                  "Self-employed",
                  "Urban",
                  "109.78",
                  null,
                  "Unknown",
                  "1"
                ],
                [
                  "47",
                  "Female",
                  "58",
                  "0",
                  "0",
                  "Yes",
                  "Private",
                  "Urban",
                  "107.26",
                  "38.6",
                  "formerly smoked",
                  "1"
                ],
                [
                  "48",
                  "Male",
                  "81",
                  "0",
                  "0",
                  "Yes",
                  "Self-employed",
                  "Urban",
                  "99.33",
                  "33.7",
                  "never smoked",
                  "1"
                ],
                [
                  "49",
                  "Female",
                  "39",
                  "1",
                  "0",
                  "Yes",
                  "Private",
                  "Rural",
                  "58.09",
                  "39.2",
                  "smokes",
                  "1"
                ]
              ],
              "shape": {
                "columns": 11,
                "rows": 5110
              }
            },
            "text/html": [
              "<div>\n",
              "<style scoped>\n",
              "    .dataframe tbody tr th:only-of-type {\n",
              "        vertical-align: middle;\n",
              "    }\n",
              "\n",
              "    .dataframe tbody tr th {\n",
              "        vertical-align: top;\n",
              "    }\n",
              "\n",
              "    .dataframe thead th {\n",
              "        text-align: right;\n",
              "    }\n",
              "</style>\n",
              "<table border=\"1\" class=\"dataframe\">\n",
              "  <thead>\n",
              "    <tr style=\"text-align: right;\">\n",
              "      <th></th>\n",
              "      <th>gender</th>\n",
              "      <th>age</th>\n",
              "      <th>hypertension</th>\n",
              "      <th>heart_disease</th>\n",
              "      <th>ever_married</th>\n",
              "      <th>work_type</th>\n",
              "      <th>Residence_type</th>\n",
              "      <th>avg_glucose_level</th>\n",
              "      <th>bmi</th>\n",
              "      <th>smoking_status</th>\n",
              "      <th>stroke</th>\n",
              "    </tr>\n",
              "  </thead>\n",
              "  <tbody>\n",
              "    <tr>\n",
              "      <th>0</th>\n",
              "      <td>Male</td>\n",
              "      <td>67</td>\n",
              "      <td>0</td>\n",
              "      <td>1</td>\n",
              "      <td>Yes</td>\n",
              "      <td>Private</td>\n",
              "      <td>Urban</td>\n",
              "      <td>228.69</td>\n",
              "      <td>36.6</td>\n",
              "      <td>formerly smoked</td>\n",
              "      <td>1</td>\n",
              "    </tr>\n",
              "    <tr>\n",
              "      <th>1</th>\n",
              "      <td>Female</td>\n",
              "      <td>61</td>\n",
              "      <td>0</td>\n",
              "      <td>0</td>\n",
              "      <td>Yes</td>\n",
              "      <td>Self-employed</td>\n",
              "      <td>Rural</td>\n",
              "      <td>202.21</td>\n",
              "      <td>NaN</td>\n",
              "      <td>never smoked</td>\n",
              "      <td>1</td>\n",
              "    </tr>\n",
              "    <tr>\n",
              "      <th>2</th>\n",
              "      <td>Male</td>\n",
              "      <td>80</td>\n",
              "      <td>0</td>\n",
              "      <td>1</td>\n",
              "      <td>Yes</td>\n",
              "      <td>Private</td>\n",
              "      <td>Rural</td>\n",
              "      <td>105.92</td>\n",
              "      <td>32.5</td>\n",
              "      <td>never smoked</td>\n",
              "      <td>1</td>\n",
              "    </tr>\n",
              "    <tr>\n",
              "      <th>3</th>\n",
              "      <td>Female</td>\n",
              "      <td>49</td>\n",
              "      <td>0</td>\n",
              "      <td>0</td>\n",
              "      <td>Yes</td>\n",
              "      <td>Private</td>\n",
              "      <td>Urban</td>\n",
              "      <td>171.23</td>\n",
              "      <td>34.4</td>\n",
              "      <td>smokes</td>\n",
              "      <td>1</td>\n",
              "    </tr>\n",
              "    <tr>\n",
              "      <th>4</th>\n",
              "      <td>Female</td>\n",
              "      <td>79</td>\n",
              "      <td>1</td>\n",
              "      <td>0</td>\n",
              "      <td>Yes</td>\n",
              "      <td>Self-employed</td>\n",
              "      <td>Rural</td>\n",
              "      <td>174.12</td>\n",
              "      <td>24.0</td>\n",
              "      <td>never smoked</td>\n",
              "      <td>1</td>\n",
              "    </tr>\n",
              "    <tr>\n",
              "      <th>...</th>\n",
              "      <td>...</td>\n",
              "      <td>...</td>\n",
              "      <td>...</td>\n",
              "      <td>...</td>\n",
              "      <td>...</td>\n",
              "      <td>...</td>\n",
              "      <td>...</td>\n",
              "      <td>...</td>\n",
              "      <td>...</td>\n",
              "      <td>...</td>\n",
              "      <td>...</td>\n",
              "    </tr>\n",
              "    <tr>\n",
              "      <th>5105</th>\n",
              "      <td>Female</td>\n",
              "      <td>80</td>\n",
              "      <td>1</td>\n",
              "      <td>0</td>\n",
              "      <td>Yes</td>\n",
              "      <td>Private</td>\n",
              "      <td>Urban</td>\n",
              "      <td>83.75</td>\n",
              "      <td>NaN</td>\n",
              "      <td>never smoked</td>\n",
              "      <td>0</td>\n",
              "    </tr>\n",
              "    <tr>\n",
              "      <th>5106</th>\n",
              "      <td>Female</td>\n",
              "      <td>81</td>\n",
              "      <td>0</td>\n",
              "      <td>0</td>\n",
              "      <td>Yes</td>\n",
              "      <td>Self-employed</td>\n",
              "      <td>Urban</td>\n",
              "      <td>125.20</td>\n",
              "      <td>40.0</td>\n",
              "      <td>never smoked</td>\n",
              "      <td>0</td>\n",
              "    </tr>\n",
              "    <tr>\n",
              "      <th>5107</th>\n",
              "      <td>Female</td>\n",
              "      <td>35</td>\n",
              "      <td>0</td>\n",
              "      <td>0</td>\n",
              "      <td>Yes</td>\n",
              "      <td>Self-employed</td>\n",
              "      <td>Rural</td>\n",
              "      <td>82.99</td>\n",
              "      <td>30.6</td>\n",
              "      <td>never smoked</td>\n",
              "      <td>0</td>\n",
              "    </tr>\n",
              "    <tr>\n",
              "      <th>5108</th>\n",
              "      <td>Male</td>\n",
              "      <td>51</td>\n",
              "      <td>0</td>\n",
              "      <td>0</td>\n",
              "      <td>Yes</td>\n",
              "      <td>Private</td>\n",
              "      <td>Rural</td>\n",
              "      <td>166.29</td>\n",
              "      <td>25.6</td>\n",
              "      <td>formerly smoked</td>\n",
              "      <td>0</td>\n",
              "    </tr>\n",
              "    <tr>\n",
              "      <th>5109</th>\n",
              "      <td>Female</td>\n",
              "      <td>44</td>\n",
              "      <td>0</td>\n",
              "      <td>0</td>\n",
              "      <td>Yes</td>\n",
              "      <td>Govt_job</td>\n",
              "      <td>Urban</td>\n",
              "      <td>85.28</td>\n",
              "      <td>26.2</td>\n",
              "      <td>Unknown</td>\n",
              "      <td>0</td>\n",
              "    </tr>\n",
              "  </tbody>\n",
              "</table>\n",
              "<p>5110 rows × 11 columns</p>\n",
              "</div>"
            ],
            "text/plain": [
              "      gender  age  hypertension  heart_disease ever_married      work_type  \\\n",
              "0       Male   67             0              1          Yes        Private   \n",
              "1     Female   61             0              0          Yes  Self-employed   \n",
              "2       Male   80             0              1          Yes        Private   \n",
              "3     Female   49             0              0          Yes        Private   \n",
              "4     Female   79             1              0          Yes  Self-employed   \n",
              "...      ...  ...           ...            ...          ...            ...   \n",
              "5105  Female   80             1              0          Yes        Private   \n",
              "5106  Female   81             0              0          Yes  Self-employed   \n",
              "5107  Female   35             0              0          Yes  Self-employed   \n",
              "5108    Male   51             0              0          Yes        Private   \n",
              "5109  Female   44             0              0          Yes       Govt_job   \n",
              "\n",
              "     Residence_type  avg_glucose_level   bmi   smoking_status  stroke  \n",
              "0             Urban             228.69  36.6  formerly smoked       1  \n",
              "1             Rural             202.21   NaN     never smoked       1  \n",
              "2             Rural             105.92  32.5     never smoked       1  \n",
              "3             Urban             171.23  34.4           smokes       1  \n",
              "4             Rural             174.12  24.0     never smoked       1  \n",
              "...             ...                ...   ...              ...     ...  \n",
              "5105          Urban              83.75   NaN     never smoked       0  \n",
              "5106          Urban             125.20  40.0     never smoked       0  \n",
              "5107          Rural              82.99  30.6     never smoked       0  \n",
              "5108          Rural             166.29  25.6  formerly smoked       0  \n",
              "5109          Urban              85.28  26.2          Unknown       0  \n",
              "\n",
              "[5110 rows x 11 columns]"
            ]
          },
          "execution_count": 14,
          "metadata": {},
          "output_type": "execute_result"
        }
      ],
      "source": [
        "df"
      ]
    },
    {
      "cell_type": "markdown",
      "id": "mAib9PiO8MuE",
      "metadata": {
        "id": "mAib9PiO8MuE",
        "papermill": {
          "duration": 0.056739,
          "end_time": "2021-05-25T12:30:51.757132",
          "exception": false,
          "start_time": "2021-05-25T12:30:51.700393",
          "status": "completed"
        },
        "tags": []
      },
      "source": [
        "##  3. Check NaN"
      ]
    },
    {
      "cell_type": "markdown",
      "id": "BMHAAHR5ox1y",
      "metadata": {
        "id": "BMHAAHR5ox1y"
      },
      "source": [
        "3.1 - Vérifier l'existance de valeurs manquantes"
      ]
    },
    {
      "cell_type": "code",
      "execution_count": 15,
      "id": "i1Sl_Ljjox1y",
      "metadata": {
        "colab": {
          "base_uri": "https://localhost:8080/",
          "height": 429
        },
        "id": "i1Sl_Ljjox1y",
        "outputId": "8d55a93c-7867-46e7-fafa-604712465be4",
        "scrolled": true
      },
      "outputs": [
        {
          "data": {
            "text/plain": [
              "gender               False\n",
              "age                  False\n",
              "hypertension         False\n",
              "heart_disease        False\n",
              "ever_married         False\n",
              "work_type            False\n",
              "Residence_type       False\n",
              "avg_glucose_level    False\n",
              "bmi                   True\n",
              "smoking_status       False\n",
              "stroke               False\n",
              "dtype: bool"
            ]
          },
          "execution_count": 15,
          "metadata": {},
          "output_type": "execute_result"
        }
      ],
      "source": [
        "df.isnull().any()"
      ]
    },
    {
      "cell_type": "markdown",
      "id": "ixE8C2ejox1z",
      "metadata": {
        "id": "ixE8C2ejox1z"
      },
      "source": [
        "3.2 - chercher le nombre de valeurs NaN dans chaque colonne et son nombre de valeurs"
      ]
    },
    {
      "cell_type": "code",
      "execution_count": 16,
      "id": "1rsXvmHR8OlB",
      "metadata": {
        "colab": {
          "base_uri": "https://localhost:8080/",
          "height": 429
        },
        "execution": {
          "iopub.execute_input": "2021-05-25T12:30:51.887353Z",
          "iopub.status.busy": "2021-05-25T12:30:51.886464Z",
          "iopub.status.idle": "2021-05-25T12:30:51.891464Z",
          "shell.execute_reply": "2021-05-25T12:30:51.890951Z",
          "shell.execute_reply.started": "2021-05-24T14:36:56.214308Z"
        },
        "id": "1rsXvmHR8OlB",
        "outputId": "1cf854b8-1363-4795-8318-ce98cd3152a9",
        "papermill": {
          "duration": 0.077017,
          "end_time": "2021-05-25T12:30:51.891615",
          "exception": false,
          "start_time": "2021-05-25T12:30:51.814598",
          "status": "completed"
        },
        "tags": []
      },
      "outputs": [
        {
          "data": {
            "text/plain": [
              "gender                 0\n",
              "age                    0\n",
              "hypertension           0\n",
              "heart_disease          0\n",
              "ever_married           0\n",
              "work_type              0\n",
              "Residence_type         0\n",
              "avg_glucose_level      0\n",
              "bmi                  201\n",
              "smoking_status         0\n",
              "stroke                 0\n",
              "dtype: int64"
            ]
          },
          "execution_count": 16,
          "metadata": {},
          "output_type": "execute_result"
        }
      ],
      "source": [
        "df.isna().sum()"
      ]
    },
    {
      "cell_type": "code",
      "execution_count": 17,
      "id": "XN4K5nKUox1z",
      "metadata": {
        "colab": {
          "base_uri": "https://localhost:8080/",
          "height": 178
        },
        "id": "XN4K5nKUox1z",
        "outputId": "4ff585e0-93b3-45b5-e2ca-ce1e22d201a7"
      },
      "outputs": [
        {
          "data": {
            "text/plain": [
              "bmi\n",
              "False    4909\n",
              "True      201\n",
              "Name: count, dtype: int64"
            ]
          },
          "execution_count": 17,
          "metadata": {},
          "output_type": "execute_result"
        }
      ],
      "source": [
        "df.bmi.isna().value_counts()"
      ]
    },
    {
      "cell_type": "raw",
      "id": "ZyzhGGdLox10",
      "metadata": {
        "id": "ZyzhGGdLox10"
      },
      "source": [
        "3.3 - Supprimer les nan dans la variable 'bmi'pour les remplacer par la moyenne des 'bmi'\n",
        "NB: utiliser la méthode fillna(...)"
      ]
    },
    {
      "cell_type": "markdown",
      "id": "PItUYBKrox10",
      "metadata": {
        "id": "PItUYBKrox10"
      },
      "source": [
        "**si nous souhaitons supprimer toutes les lignes contanant des NaN**"
      ]
    },
    {
      "cell_type": "code",
      "execution_count": 18,
      "id": "C3tBijzRox10",
      "metadata": {
        "id": "C3tBijzRox10"
      },
      "outputs": [],
      "source": [
        "dd=df"
      ]
    },
    {
      "cell_type": "code",
      "execution_count": 19,
      "id": "omol3OD4ox11",
      "metadata": {
        "colab": {
          "base_uri": "https://localhost:8080/",
          "height": 495
        },
        "id": "omol3OD4ox11",
        "outputId": "d63c9678-eae3-4bfd-9aed-57f93983d7e5"
      },
      "outputs": [
        {
          "data": {
            "application/vnd.microsoft.datawrangler.viewer.v0+json": {
              "columns": [
                {
                  "name": "index",
                  "rawType": "int64",
                  "type": "integer"
                },
                {
                  "name": "gender",
                  "rawType": "object",
                  "type": "string"
                },
                {
                  "name": "age",
                  "rawType": "int64",
                  "type": "integer"
                },
                {
                  "name": "hypertension",
                  "rawType": "int64",
                  "type": "integer"
                },
                {
                  "name": "heart_disease",
                  "rawType": "int64",
                  "type": "integer"
                },
                {
                  "name": "ever_married",
                  "rawType": "object",
                  "type": "string"
                },
                {
                  "name": "work_type",
                  "rawType": "object",
                  "type": "string"
                },
                {
                  "name": "Residence_type",
                  "rawType": "object",
                  "type": "string"
                },
                {
                  "name": "avg_glucose_level",
                  "rawType": "float64",
                  "type": "float"
                },
                {
                  "name": "bmi",
                  "rawType": "float64",
                  "type": "float"
                },
                {
                  "name": "smoking_status",
                  "rawType": "object",
                  "type": "string"
                },
                {
                  "name": "stroke",
                  "rawType": "int64",
                  "type": "integer"
                }
              ],
              "conversionMethod": "pd.DataFrame",
              "ref": "17ed65c3-81bb-4a75-b8e8-6f58f3ff29b7",
              "rows": [
                [
                  "0",
                  "Male",
                  "67",
                  "0",
                  "1",
                  "Yes",
                  "Private",
                  "Urban",
                  "228.69",
                  "36.6",
                  "formerly smoked",
                  "1"
                ],
                [
                  "2",
                  "Male",
                  "80",
                  "0",
                  "1",
                  "Yes",
                  "Private",
                  "Rural",
                  "105.92",
                  "32.5",
                  "never smoked",
                  "1"
                ],
                [
                  "3",
                  "Female",
                  "49",
                  "0",
                  "0",
                  "Yes",
                  "Private",
                  "Urban",
                  "171.23",
                  "34.4",
                  "smokes",
                  "1"
                ],
                [
                  "4",
                  "Female",
                  "79",
                  "1",
                  "0",
                  "Yes",
                  "Self-employed",
                  "Rural",
                  "174.12",
                  "24.0",
                  "never smoked",
                  "1"
                ],
                [
                  "5",
                  "Male",
                  "81",
                  "0",
                  "0",
                  "Yes",
                  "Private",
                  "Urban",
                  "186.21",
                  "29.0",
                  "formerly smoked",
                  "1"
                ],
                [
                  "6",
                  "Male",
                  "74",
                  "1",
                  "1",
                  "Yes",
                  "Private",
                  "Rural",
                  "70.09",
                  "27.4",
                  "never smoked",
                  "1"
                ],
                [
                  "7",
                  "Female",
                  "69",
                  "0",
                  "0",
                  "No",
                  "Private",
                  "Urban",
                  "94.39",
                  "22.8",
                  "never smoked",
                  "1"
                ],
                [
                  "9",
                  "Female",
                  "78",
                  "0",
                  "0",
                  "Yes",
                  "Private",
                  "Urban",
                  "58.57",
                  "24.2",
                  "Unknown",
                  "1"
                ],
                [
                  "10",
                  "Female",
                  "81",
                  "1",
                  "0",
                  "Yes",
                  "Private",
                  "Rural",
                  "80.43",
                  "29.7",
                  "never smoked",
                  "1"
                ],
                [
                  "11",
                  "Female",
                  "61",
                  "0",
                  "1",
                  "Yes",
                  "Govt_job",
                  "Rural",
                  "120.46",
                  "36.8",
                  "smokes",
                  "1"
                ],
                [
                  "12",
                  "Female",
                  "54",
                  "0",
                  "0",
                  "Yes",
                  "Private",
                  "Urban",
                  "104.51",
                  "27.3",
                  "smokes",
                  "1"
                ],
                [
                  "14",
                  "Female",
                  "79",
                  "0",
                  "1",
                  "Yes",
                  "Private",
                  "Urban",
                  "214.09",
                  "28.2",
                  "never smoked",
                  "1"
                ],
                [
                  "15",
                  "Female",
                  "50",
                  "1",
                  "0",
                  "Yes",
                  "Self-employed",
                  "Rural",
                  "167.41",
                  "30.9",
                  "never smoked",
                  "1"
                ],
                [
                  "16",
                  "Male",
                  "64",
                  "0",
                  "1",
                  "Yes",
                  "Private",
                  "Urban",
                  "191.61",
                  "37.5",
                  "smokes",
                  "1"
                ],
                [
                  "17",
                  "Male",
                  "75",
                  "1",
                  "0",
                  "Yes",
                  "Private",
                  "Urban",
                  "221.29",
                  "25.8",
                  "smokes",
                  "1"
                ],
                [
                  "18",
                  "Female",
                  "60",
                  "0",
                  "0",
                  "No",
                  "Private",
                  "Urban",
                  "89.22",
                  "37.8",
                  "never smoked",
                  "1"
                ],
                [
                  "20",
                  "Female",
                  "71",
                  "0",
                  "0",
                  "Yes",
                  "Govt_job",
                  "Rural",
                  "193.94",
                  "22.4",
                  "smokes",
                  "1"
                ],
                [
                  "21",
                  "Female",
                  "52",
                  "1",
                  "0",
                  "Yes",
                  "Self-employed",
                  "Urban",
                  "233.29",
                  "48.9",
                  "never smoked",
                  "1"
                ],
                [
                  "22",
                  "Female",
                  "79",
                  "0",
                  "0",
                  "Yes",
                  "Self-employed",
                  "Urban",
                  "228.7",
                  "26.6",
                  "never smoked",
                  "1"
                ],
                [
                  "23",
                  "Male",
                  "82",
                  "0",
                  "1",
                  "Yes",
                  "Private",
                  "Rural",
                  "208.3",
                  "32.5",
                  "Unknown",
                  "1"
                ],
                [
                  "24",
                  "Male",
                  "71",
                  "0",
                  "0",
                  "Yes",
                  "Private",
                  "Urban",
                  "102.87",
                  "27.2",
                  "formerly smoked",
                  "1"
                ],
                [
                  "25",
                  "Male",
                  "80",
                  "0",
                  "0",
                  "Yes",
                  "Self-employed",
                  "Rural",
                  "104.12",
                  "23.5",
                  "never smoked",
                  "1"
                ],
                [
                  "26",
                  "Female",
                  "65",
                  "0",
                  "0",
                  "Yes",
                  "Private",
                  "Rural",
                  "100.98",
                  "28.2",
                  "formerly smoked",
                  "1"
                ],
                [
                  "28",
                  "Male",
                  "69",
                  "0",
                  "1",
                  "Yes",
                  "Self-employed",
                  "Urban",
                  "195.23",
                  "28.3",
                  "smokes",
                  "1"
                ],
                [
                  "30",
                  "Male",
                  "57",
                  "1",
                  "0",
                  "Yes",
                  "Private",
                  "Urban",
                  "212.08",
                  "44.2",
                  "smokes",
                  "1"
                ],
                [
                  "31",
                  "Male",
                  "42",
                  "0",
                  "0",
                  "Yes",
                  "Private",
                  "Rural",
                  "83.41",
                  "25.4",
                  "Unknown",
                  "1"
                ],
                [
                  "32",
                  "Female",
                  "82",
                  "1",
                  "0",
                  "Yes",
                  "Self-employed",
                  "Urban",
                  "196.92",
                  "22.2",
                  "never smoked",
                  "1"
                ],
                [
                  "33",
                  "Male",
                  "80",
                  "0",
                  "1",
                  "Yes",
                  "Self-employed",
                  "Urban",
                  "252.72",
                  "30.5",
                  "formerly smoked",
                  "1"
                ],
                [
                  "34",
                  "Male",
                  "48",
                  "0",
                  "0",
                  "No",
                  "Govt_job",
                  "Urban",
                  "84.2",
                  "29.7",
                  "never smoked",
                  "1"
                ],
                [
                  "35",
                  "Female",
                  "82",
                  "1",
                  "1",
                  "No",
                  "Private",
                  "Rural",
                  "84.03",
                  "26.5",
                  "formerly smoked",
                  "1"
                ],
                [
                  "36",
                  "Male",
                  "74",
                  "0",
                  "0",
                  "Yes",
                  "Private",
                  "Rural",
                  "219.72",
                  "33.7",
                  "formerly smoked",
                  "1"
                ],
                [
                  "37",
                  "Female",
                  "72",
                  "1",
                  "0",
                  "Yes",
                  "Private",
                  "Rural",
                  "74.63",
                  "23.1",
                  "formerly smoked",
                  "1"
                ],
                [
                  "38",
                  "Male",
                  "58",
                  "0",
                  "0",
                  "No",
                  "Private",
                  "Rural",
                  "92.62",
                  "32.0",
                  "Unknown",
                  "1"
                ],
                [
                  "39",
                  "Female",
                  "49",
                  "0",
                  "0",
                  "Yes",
                  "Private",
                  "Urban",
                  "60.91",
                  "29.9",
                  "never smoked",
                  "1"
                ],
                [
                  "40",
                  "Male",
                  "78",
                  "0",
                  "0",
                  "Yes",
                  "Private",
                  "Rural",
                  "78.03",
                  "23.9",
                  "formerly smoked",
                  "1"
                ],
                [
                  "41",
                  "Male",
                  "54",
                  "0",
                  "0",
                  "Yes",
                  "Private",
                  "Urban",
                  "71.22",
                  "28.5",
                  "never smoked",
                  "1"
                ],
                [
                  "42",
                  "Male",
                  "82",
                  "0",
                  "1",
                  "Yes",
                  "Private",
                  "Urban",
                  "144.9",
                  "26.4",
                  "smokes",
                  "1"
                ],
                [
                  "44",
                  "Male",
                  "60",
                  "1",
                  "0",
                  "Yes",
                  "Govt_job",
                  "Urban",
                  "213.03",
                  "20.2",
                  "smokes",
                  "1"
                ],
                [
                  "45",
                  "Male",
                  "76",
                  "1",
                  "0",
                  "Yes",
                  "Private",
                  "Rural",
                  "243.58",
                  "33.6",
                  "never smoked",
                  "1"
                ],
                [
                  "47",
                  "Female",
                  "58",
                  "0",
                  "0",
                  "Yes",
                  "Private",
                  "Urban",
                  "107.26",
                  "38.6",
                  "formerly smoked",
                  "1"
                ],
                [
                  "48",
                  "Male",
                  "81",
                  "0",
                  "0",
                  "Yes",
                  "Self-employed",
                  "Urban",
                  "99.33",
                  "33.7",
                  "never smoked",
                  "1"
                ],
                [
                  "49",
                  "Female",
                  "39",
                  "1",
                  "0",
                  "Yes",
                  "Private",
                  "Rural",
                  "58.09",
                  "39.2",
                  "smokes",
                  "1"
                ],
                [
                  "52",
                  "Female",
                  "79",
                  "0",
                  "1",
                  "Yes",
                  "Private",
                  "Rural",
                  "127.29",
                  "27.7",
                  "never smoked",
                  "1"
                ],
                [
                  "53",
                  "Female",
                  "77",
                  "1",
                  "0",
                  "Yes",
                  "Self-employed",
                  "Urban",
                  "124.13",
                  "31.4",
                  "never smoked",
                  "1"
                ],
                [
                  "55",
                  "Male",
                  "63",
                  "0",
                  "1",
                  "Yes",
                  "Private",
                  "Rural",
                  "196.71",
                  "36.5",
                  "formerly smoked",
                  "1"
                ],
                [
                  "56",
                  "Female",
                  "82",
                  "0",
                  "0",
                  "Yes",
                  "Private",
                  "Rural",
                  "59.32",
                  "33.2",
                  "never smoked",
                  "1"
                ],
                [
                  "58",
                  "Male",
                  "73",
                  "1",
                  "0",
                  "Yes",
                  "Self-employed",
                  "Urban",
                  "194.99",
                  "32.8",
                  "never smoked",
                  "1"
                ],
                [
                  "59",
                  "Female",
                  "54",
                  "1",
                  "0",
                  "Yes",
                  "Govt_job",
                  "Urban",
                  "180.93",
                  "27.7",
                  "never smoked",
                  "1"
                ],
                [
                  "60",
                  "Female",
                  "56",
                  "0",
                  "0",
                  "Yes",
                  "Private",
                  "Urban",
                  "185.17",
                  "40.4",
                  "formerly smoked",
                  "1"
                ],
                [
                  "61",
                  "Female",
                  "80",
                  "1",
                  "0",
                  "Yes",
                  "Private",
                  "Rural",
                  "74.9",
                  "22.2",
                  "never smoked",
                  "1"
                ]
              ],
              "shape": {
                "columns": 11,
                "rows": 4909
              }
            },
            "text/html": [
              "<div>\n",
              "<style scoped>\n",
              "    .dataframe tbody tr th:only-of-type {\n",
              "        vertical-align: middle;\n",
              "    }\n",
              "\n",
              "    .dataframe tbody tr th {\n",
              "        vertical-align: top;\n",
              "    }\n",
              "\n",
              "    .dataframe thead th {\n",
              "        text-align: right;\n",
              "    }\n",
              "</style>\n",
              "<table border=\"1\" class=\"dataframe\">\n",
              "  <thead>\n",
              "    <tr style=\"text-align: right;\">\n",
              "      <th></th>\n",
              "      <th>gender</th>\n",
              "      <th>age</th>\n",
              "      <th>hypertension</th>\n",
              "      <th>heart_disease</th>\n",
              "      <th>ever_married</th>\n",
              "      <th>work_type</th>\n",
              "      <th>Residence_type</th>\n",
              "      <th>avg_glucose_level</th>\n",
              "      <th>bmi</th>\n",
              "      <th>smoking_status</th>\n",
              "      <th>stroke</th>\n",
              "    </tr>\n",
              "  </thead>\n",
              "  <tbody>\n",
              "    <tr>\n",
              "      <th>0</th>\n",
              "      <td>Male</td>\n",
              "      <td>67</td>\n",
              "      <td>0</td>\n",
              "      <td>1</td>\n",
              "      <td>Yes</td>\n",
              "      <td>Private</td>\n",
              "      <td>Urban</td>\n",
              "      <td>228.69</td>\n",
              "      <td>36.6</td>\n",
              "      <td>formerly smoked</td>\n",
              "      <td>1</td>\n",
              "    </tr>\n",
              "    <tr>\n",
              "      <th>2</th>\n",
              "      <td>Male</td>\n",
              "      <td>80</td>\n",
              "      <td>0</td>\n",
              "      <td>1</td>\n",
              "      <td>Yes</td>\n",
              "      <td>Private</td>\n",
              "      <td>Rural</td>\n",
              "      <td>105.92</td>\n",
              "      <td>32.5</td>\n",
              "      <td>never smoked</td>\n",
              "      <td>1</td>\n",
              "    </tr>\n",
              "    <tr>\n",
              "      <th>3</th>\n",
              "      <td>Female</td>\n",
              "      <td>49</td>\n",
              "      <td>0</td>\n",
              "      <td>0</td>\n",
              "      <td>Yes</td>\n",
              "      <td>Private</td>\n",
              "      <td>Urban</td>\n",
              "      <td>171.23</td>\n",
              "      <td>34.4</td>\n",
              "      <td>smokes</td>\n",
              "      <td>1</td>\n",
              "    </tr>\n",
              "    <tr>\n",
              "      <th>4</th>\n",
              "      <td>Female</td>\n",
              "      <td>79</td>\n",
              "      <td>1</td>\n",
              "      <td>0</td>\n",
              "      <td>Yes</td>\n",
              "      <td>Self-employed</td>\n",
              "      <td>Rural</td>\n",
              "      <td>174.12</td>\n",
              "      <td>24.0</td>\n",
              "      <td>never smoked</td>\n",
              "      <td>1</td>\n",
              "    </tr>\n",
              "    <tr>\n",
              "      <th>5</th>\n",
              "      <td>Male</td>\n",
              "      <td>81</td>\n",
              "      <td>0</td>\n",
              "      <td>0</td>\n",
              "      <td>Yes</td>\n",
              "      <td>Private</td>\n",
              "      <td>Urban</td>\n",
              "      <td>186.21</td>\n",
              "      <td>29.0</td>\n",
              "      <td>formerly smoked</td>\n",
              "      <td>1</td>\n",
              "    </tr>\n",
              "    <tr>\n",
              "      <th>...</th>\n",
              "      <td>...</td>\n",
              "      <td>...</td>\n",
              "      <td>...</td>\n",
              "      <td>...</td>\n",
              "      <td>...</td>\n",
              "      <td>...</td>\n",
              "      <td>...</td>\n",
              "      <td>...</td>\n",
              "      <td>...</td>\n",
              "      <td>...</td>\n",
              "      <td>...</td>\n",
              "    </tr>\n",
              "    <tr>\n",
              "      <th>5104</th>\n",
              "      <td>Female</td>\n",
              "      <td>13</td>\n",
              "      <td>0</td>\n",
              "      <td>0</td>\n",
              "      <td>No</td>\n",
              "      <td>children</td>\n",
              "      <td>Rural</td>\n",
              "      <td>103.08</td>\n",
              "      <td>18.6</td>\n",
              "      <td>Unknown</td>\n",
              "      <td>0</td>\n",
              "    </tr>\n",
              "    <tr>\n",
              "      <th>5106</th>\n",
              "      <td>Female</td>\n",
              "      <td>81</td>\n",
              "      <td>0</td>\n",
              "      <td>0</td>\n",
              "      <td>Yes</td>\n",
              "      <td>Self-employed</td>\n",
              "      <td>Urban</td>\n",
              "      <td>125.20</td>\n",
              "      <td>40.0</td>\n",
              "      <td>never smoked</td>\n",
              "      <td>0</td>\n",
              "    </tr>\n",
              "    <tr>\n",
              "      <th>5107</th>\n",
              "      <td>Female</td>\n",
              "      <td>35</td>\n",
              "      <td>0</td>\n",
              "      <td>0</td>\n",
              "      <td>Yes</td>\n",
              "      <td>Self-employed</td>\n",
              "      <td>Rural</td>\n",
              "      <td>82.99</td>\n",
              "      <td>30.6</td>\n",
              "      <td>never smoked</td>\n",
              "      <td>0</td>\n",
              "    </tr>\n",
              "    <tr>\n",
              "      <th>5108</th>\n",
              "      <td>Male</td>\n",
              "      <td>51</td>\n",
              "      <td>0</td>\n",
              "      <td>0</td>\n",
              "      <td>Yes</td>\n",
              "      <td>Private</td>\n",
              "      <td>Rural</td>\n",
              "      <td>166.29</td>\n",
              "      <td>25.6</td>\n",
              "      <td>formerly smoked</td>\n",
              "      <td>0</td>\n",
              "    </tr>\n",
              "    <tr>\n",
              "      <th>5109</th>\n",
              "      <td>Female</td>\n",
              "      <td>44</td>\n",
              "      <td>0</td>\n",
              "      <td>0</td>\n",
              "      <td>Yes</td>\n",
              "      <td>Govt_job</td>\n",
              "      <td>Urban</td>\n",
              "      <td>85.28</td>\n",
              "      <td>26.2</td>\n",
              "      <td>Unknown</td>\n",
              "      <td>0</td>\n",
              "    </tr>\n",
              "  </tbody>\n",
              "</table>\n",
              "<p>4909 rows × 11 columns</p>\n",
              "</div>"
            ],
            "text/plain": [
              "      gender  age  hypertension  heart_disease ever_married      work_type  \\\n",
              "0       Male   67             0              1          Yes        Private   \n",
              "2       Male   80             0              1          Yes        Private   \n",
              "3     Female   49             0              0          Yes        Private   \n",
              "4     Female   79             1              0          Yes  Self-employed   \n",
              "5       Male   81             0              0          Yes        Private   \n",
              "...      ...  ...           ...            ...          ...            ...   \n",
              "5104  Female   13             0              0           No       children   \n",
              "5106  Female   81             0              0          Yes  Self-employed   \n",
              "5107  Female   35             0              0          Yes  Self-employed   \n",
              "5108    Male   51             0              0          Yes        Private   \n",
              "5109  Female   44             0              0          Yes       Govt_job   \n",
              "\n",
              "     Residence_type  avg_glucose_level   bmi   smoking_status  stroke  \n",
              "0             Urban             228.69  36.6  formerly smoked       1  \n",
              "2             Rural             105.92  32.5     never smoked       1  \n",
              "3             Urban             171.23  34.4           smokes       1  \n",
              "4             Rural             174.12  24.0     never smoked       1  \n",
              "5             Urban             186.21  29.0  formerly smoked       1  \n",
              "...             ...                ...   ...              ...     ...  \n",
              "5104          Rural             103.08  18.6          Unknown       0  \n",
              "5106          Urban             125.20  40.0     never smoked       0  \n",
              "5107          Rural              82.99  30.6     never smoked       0  \n",
              "5108          Rural             166.29  25.6  formerly smoked       0  \n",
              "5109          Urban              85.28  26.2          Unknown       0  \n",
              "\n",
              "[4909 rows x 11 columns]"
            ]
          },
          "execution_count": 19,
          "metadata": {},
          "output_type": "execute_result"
        }
      ],
      "source": [
        "dd.dropna(subset=['bmi'],axis=0,inplace=False)"
      ]
    },
    {
      "cell_type": "markdown",
      "id": "M9zuBacJox11",
      "metadata": {
        "id": "M9zuBacJox11"
      },
      "source": [
        "**Nous n'allons pas supprimer les NaN mais plutot les remplacer par la moyenne de la colonne 'bmi'**"
      ]
    },
    {
      "cell_type": "code",
      "execution_count": 20,
      "id": "vC5Bu1DUox11",
      "metadata": {
        "id": "vC5Bu1DUox11"
      },
      "outputs": [],
      "source": [
        "df.bmi.fillna(df['bmi'].mean(), inplace=True)"
      ]
    },
    {
      "cell_type": "markdown",
      "id": "KKcTI7jYox12",
      "metadata": {
        "id": "KKcTI7jYox12"
      },
      "source": [
        "3.4 - Afficher le nombre lignes pour chaque classe de la colonne Stroke"
      ]
    },
    {
      "cell_type": "code",
      "execution_count": 21,
      "id": "DHPOzNK8r0E0",
      "metadata": {
        "colab": {
          "base_uri": "https://localhost:8080/",
          "height": 178
        },
        "execution": {
          "iopub.execute_input": "2021-05-25T12:30:52.144643Z",
          "iopub.status.busy": "2021-05-25T12:30:52.144011Z",
          "iopub.status.idle": "2021-05-25T12:30:52.171818Z",
          "shell.execute_reply": "2021-05-25T12:30:52.172497Z",
          "shell.execute_reply.started": "2021-05-24T14:36:56.249959Z"
        },
        "id": "DHPOzNK8r0E0",
        "outputId": "89c6b7b6-2f96-47d7-8e01-a4caa096b3cf",
        "papermill": {
          "duration": 0.090889,
          "end_time": "2021-05-25T12:30:52.172778",
          "exception": false,
          "start_time": "2021-05-25T12:30:52.081889",
          "status": "completed"
        },
        "tags": []
      },
      "outputs": [
        {
          "data": {
            "text/plain": [
              "stroke\n",
              "0    4861\n",
              "1     249\n",
              "Name: count, dtype: int64"
            ]
          },
          "execution_count": 21,
          "metadata": {},
          "output_type": "execute_result"
        }
      ],
      "source": [
        "df.stroke.value_counts()"
      ]
    },
    {
      "cell_type": "markdown",
      "id": "vc9_22E-g_YK",
      "metadata": {
        "id": "vc9_22E-g_YK"
      },
      "source": [
        "la base n'est pas equilibrée"
      ]
    },
    {
      "cell_type": "markdown",
      "id": "_bhLUB50ox2D",
      "metadata": {
        "id": "_bhLUB50ox2D"
      },
      "source": [
        "3.5 - afficher le nombre de femme et d'homme (gender) dans le dataframe"
      ]
    },
    {
      "cell_type": "code",
      "execution_count": 22,
      "id": "7vUXrdTiox2D",
      "metadata": {
        "colab": {
          "base_uri": "https://localhost:8080/",
          "height": 209
        },
        "id": "7vUXrdTiox2D",
        "outputId": "0e272dc4-5f18-4a55-aa85-8786abfdf93d"
      },
      "outputs": [
        {
          "data": {
            "text/plain": [
              "gender\n",
              "Female    2994\n",
              "Male      2115\n",
              "Other        1\n",
              "Name: count, dtype: int64"
            ]
          },
          "execution_count": 22,
          "metadata": {},
          "output_type": "execute_result"
        }
      ],
      "source": [
        "df.gender.value_counts()"
      ]
    },
    {
      "cell_type": "markdown",
      "id": "GMMjFAmJox2D",
      "metadata": {
        "id": "GMMjFAmJox2D"
      },
      "source": [
        "3.6 - afficher le nombre de personnes mariées"
      ]
    },
    {
      "cell_type": "code",
      "execution_count": 23,
      "id": "LewzRD83ox2E",
      "metadata": {
        "colab": {
          "base_uri": "https://localhost:8080/",
          "height": 178
        },
        "id": "LewzRD83ox2E",
        "outputId": "1603c0bf-f634-41b9-e130-6be12411833e"
      },
      "outputs": [
        {
          "data": {
            "text/plain": [
              "ever_married\n",
              "Yes    3353\n",
              "No     1757\n",
              "Name: count, dtype: int64"
            ]
          },
          "execution_count": 23,
          "metadata": {},
          "output_type": "execute_result"
        }
      ],
      "source": [
        "df.ever_married.value_counts()"
      ]
    },
    {
      "cell_type": "markdown",
      "id": "7EVxNV9-kU1D",
      "metadata": {
        "id": "7EVxNV9-kU1D",
        "papermill": {
          "duration": 0.055759,
          "end_time": "2021-05-25T12:30:52.406713",
          "exception": false,
          "start_time": "2021-05-25T12:30:52.350954",
          "status": "completed"
        },
        "tags": []
      },
      "source": [
        "## 4. Descriptive Statistical"
      ]
    },
    {
      "cell_type": "markdown",
      "id": "h8S4MSyUox2E",
      "metadata": {
        "id": "h8S4MSyUox2E"
      },
      "source": [
        "4.1 - examiner le rapport entre le type de travail et le stroke (pandas.crosstab(...))"
      ]
    },
    {
      "cell_type": "code",
      "execution_count": 24,
      "id": "yI3gSZonox2F",
      "metadata": {
        "colab": {
          "base_uri": "https://localhost:8080/",
          "height": 237
        },
        "id": "yI3gSZonox2F",
        "outputId": "d87a410b-5524-4766-a2a3-650b34a69305"
      },
      "outputs": [
        {
          "data": {
            "application/vnd.microsoft.datawrangler.viewer.v0+json": {
              "columns": [
                {
                  "name": "work_type",
                  "rawType": "object",
                  "type": "string"
                },
                {
                  "name": "0",
                  "rawType": "int64",
                  "type": "integer"
                },
                {
                  "name": "1",
                  "rawType": "int64",
                  "type": "integer"
                }
              ],
              "conversionMethod": "pd.DataFrame",
              "ref": "df1d4920-2c16-431e-b56b-7a3aecae7c24",
              "rows": [
                [
                  "Govt_job",
                  "624",
                  "33"
                ],
                [
                  "Never_worked",
                  "22",
                  "0"
                ],
                [
                  "Private",
                  "2776",
                  "149"
                ],
                [
                  "Self-employed",
                  "754",
                  "65"
                ],
                [
                  "children",
                  "685",
                  "2"
                ]
              ],
              "shape": {
                "columns": 2,
                "rows": 5
              }
            },
            "text/html": [
              "<div>\n",
              "<style scoped>\n",
              "    .dataframe tbody tr th:only-of-type {\n",
              "        vertical-align: middle;\n",
              "    }\n",
              "\n",
              "    .dataframe tbody tr th {\n",
              "        vertical-align: top;\n",
              "    }\n",
              "\n",
              "    .dataframe thead th {\n",
              "        text-align: right;\n",
              "    }\n",
              "</style>\n",
              "<table border=\"1\" class=\"dataframe\">\n",
              "  <thead>\n",
              "    <tr style=\"text-align: right;\">\n",
              "      <th>stroke</th>\n",
              "      <th>0</th>\n",
              "      <th>1</th>\n",
              "    </tr>\n",
              "    <tr>\n",
              "      <th>work_type</th>\n",
              "      <th></th>\n",
              "      <th></th>\n",
              "    </tr>\n",
              "  </thead>\n",
              "  <tbody>\n",
              "    <tr>\n",
              "      <th>Govt_job</th>\n",
              "      <td>624</td>\n",
              "      <td>33</td>\n",
              "    </tr>\n",
              "    <tr>\n",
              "      <th>Never_worked</th>\n",
              "      <td>22</td>\n",
              "      <td>0</td>\n",
              "    </tr>\n",
              "    <tr>\n",
              "      <th>Private</th>\n",
              "      <td>2776</td>\n",
              "      <td>149</td>\n",
              "    </tr>\n",
              "    <tr>\n",
              "      <th>Self-employed</th>\n",
              "      <td>754</td>\n",
              "      <td>65</td>\n",
              "    </tr>\n",
              "    <tr>\n",
              "      <th>children</th>\n",
              "      <td>685</td>\n",
              "      <td>2</td>\n",
              "    </tr>\n",
              "  </tbody>\n",
              "</table>\n",
              "</div>"
            ],
            "text/plain": [
              "stroke            0    1\n",
              "work_type               \n",
              "Govt_job        624   33\n",
              "Never_worked     22    0\n",
              "Private        2776  149\n",
              "Self-employed   754   65\n",
              "children        685    2"
            ]
          },
          "execution_count": 24,
          "metadata": {},
          "output_type": "execute_result"
        }
      ],
      "source": [
        "pd.crosstab(df['work_type'],df['stroke'])"
      ]
    },
    {
      "cell_type": "markdown",
      "id": "0iSjvmfQox2F",
      "metadata": {
        "id": "0iSjvmfQox2F"
      },
      "source": [
        "4.2 - visualiser ce rapport avec df.plot.scatter(...) puis avec sns.countplot(..)"
      ]
    },
    {
      "cell_type": "code",
      "execution_count": 25,
      "id": "0TejqVrDeLdU",
      "metadata": {
        "colab": {
          "base_uri": "https://localhost:8080/",
          "height": 467
        },
        "id": "0TejqVrDeLdU",
        "outputId": "407cdf70-711b-4573-a5ca-48cacc8c5a6f"
      },
      "outputs": [
        {
          "data": {
            "text/plain": [
              "Text(0, 0.5, 'stroke')"
            ]
          },
          "execution_count": 25,
          "metadata": {},
          "output_type": "execute_result"
        },
        {
          "data": {
            "image/png": "[encoded data removed]",
            "text/plain": [
              "<Figure size 640x480 with 1 Axes>"
            ]
          },
          "metadata": {},
          "output_type": "display_data"
        }
      ],
      "source": [
        "import matplotlib.pyplot as plt\n",
        "plt.scatter(x=df['work_type'],y=df['stroke'])\n",
        "plt.xlabel('work_type')\n",
        "plt.ylabel('stroke')"
      ]
    },
    {
      "cell_type": "code",
      "execution_count": 26,
      "id": "95KSAwapox2F",
      "metadata": {
        "colab": {
          "base_uri": "https://localhost:8080/",
          "height": 398
        },
        "id": "95KSAwapox2F",
        "outputId": "bd42833d-050e-4ea3-fbae-86bbcff2bc1c"
      },
      "outputs": [
        {
          "data": {
            "image/png": "[encoded data removed]",
            "text/plain": [
              "<Figure size 1500x500 with 1 Axes>"
            ]
          },
          "metadata": {},
          "output_type": "display_data"
        }
      ],
      "source": [
        "plt.figure(figsize=(15,5))\n",
        "\n",
        "sns.countplot( x='work_type', hue=df['stroke'], palette='Set2', data=df);"
      ]
    },
    {
      "cell_type": "markdown",
      "id": "PDuWjpXDvuny",
      "metadata": {
        "id": "PDuWjpXDvuny",
        "papermill": {
          "duration": 0.058168,
          "end_time": "2021-05-25T12:30:53.658545",
          "exception": false,
          "start_time": "2021-05-25T12:30:53.600377",
          "status": "completed"
        },
        "tags": []
      },
      "source": [
        "## 5. Numerical Variable"
      ]
    },
    {
      "cell_type": "raw",
      "id": "1pdiyB36ox2G",
      "metadata": {
        "id": "1pdiyB36ox2G"
      },
      "source": [
        "5.1 - créer un dataframe 'df_num' intermediaire contenant les variables numérique seulement"
      ]
    },
    {
      "cell_type": "code",
      "execution_count": 27,
      "id": "zmTV-APYfRiI",
      "metadata": {
        "colab": {
          "base_uri": "https://localhost:8080/",
          "height": 261
        },
        "id": "zmTV-APYfRiI",
        "outputId": "0d5db060-8bb6-4f88-aeae-73bcee0f0f9e"
      },
      "outputs": [
        {
          "data": {
            "application/vnd.microsoft.datawrangler.viewer.v0+json": {
              "columns": [
                {
                  "name": "index",
                  "rawType": "int64",
                  "type": "integer"
                },
                {
                  "name": "gender",
                  "rawType": "object",
                  "type": "string"
                },
                {
                  "name": "age",
                  "rawType": "int64",
                  "type": "integer"
                },
                {
                  "name": "hypertension",
                  "rawType": "int64",
                  "type": "integer"
                },
                {
                  "name": "heart_disease",
                  "rawType": "int64",
                  "type": "integer"
                },
                {
                  "name": "ever_married",
                  "rawType": "object",
                  "type": "string"
                },
                {
                  "name": "work_type",
                  "rawType": "object",
                  "type": "string"
                },
                {
                  "name": "Residence_type",
                  "rawType": "object",
                  "type": "string"
                },
                {
                  "name": "avg_glucose_level",
                  "rawType": "float64",
                  "type": "float"
                },
                {
                  "name": "bmi",
                  "rawType": "float64",
                  "type": "float"
                },
                {
                  "name": "smoking_status",
                  "rawType": "object",
                  "type": "string"
                },
                {
                  "name": "stroke",
                  "rawType": "int64",
                  "type": "integer"
                }
              ],
              "conversionMethod": "pd.DataFrame",
              "ref": "51724e92-a8eb-4096-ace6-ac8643f51ff4",
              "rows": [
                [
                  "0",
                  "Male",
                  "67",
                  "0",
                  "1",
                  "Yes",
                  "Private",
                  "Urban",
                  "228.69",
                  "36.6",
                  "formerly smoked",
                  "1"
                ],
                [
                  "1",
                  "Female",
                  "61",
                  "0",
                  "0",
                  "Yes",
                  "Self-employed",
                  "Rural",
                  "202.21",
                  "28.893236911794666",
                  "never smoked",
                  "1"
                ],
                [
                  "2",
                  "Male",
                  "80",
                  "0",
                  "1",
                  "Yes",
                  "Private",
                  "Rural",
                  "105.92",
                  "32.5",
                  "never smoked",
                  "1"
                ],
                [
                  "3",
                  "Female",
                  "49",
                  "0",
                  "0",
                  "Yes",
                  "Private",
                  "Urban",
                  "171.23",
                  "34.4",
                  "smokes",
                  "1"
                ],
                [
                  "4",
                  "Female",
                  "79",
                  "1",
                  "0",
                  "Yes",
                  "Self-employed",
                  "Rural",
                  "174.12",
                  "24.0",
                  "never smoked",
                  "1"
                ]
              ],
              "shape": {
                "columns": 11,
                "rows": 5
              }
            },
            "text/html": [
              "<div>\n",
              "<style scoped>\n",
              "    .dataframe tbody tr th:only-of-type {\n",
              "        vertical-align: middle;\n",
              "    }\n",
              "\n",
              "    .dataframe tbody tr th {\n",
              "        vertical-align: top;\n",
              "    }\n",
              "\n",
              "    .dataframe thead th {\n",
              "        text-align: right;\n",
              "    }\n",
              "</style>\n",
              "<table border=\"1\" class=\"dataframe\">\n",
              "  <thead>\n",
              "    <tr style=\"text-align: right;\">\n",
              "      <th></th>\n",
              "      <th>gender</th>\n",
              "      <th>age</th>\n",
              "      <th>hypertension</th>\n",
              "      <th>heart_disease</th>\n",
              "      <th>ever_married</th>\n",
              "      <th>work_type</th>\n",
              "      <th>Residence_type</th>\n",
              "      <th>avg_glucose_level</th>\n",
              "      <th>bmi</th>\n",
              "      <th>smoking_status</th>\n",
              "      <th>stroke</th>\n",
              "    </tr>\n",
              "  </thead>\n",
              "  <tbody>\n",
              "    <tr>\n",
              "      <th>0</th>\n",
              "      <td>Male</td>\n",
              "      <td>67</td>\n",
              "      <td>0</td>\n",
              "      <td>1</td>\n",
              "      <td>Yes</td>\n",
              "      <td>Private</td>\n",
              "      <td>Urban</td>\n",
              "      <td>228.69</td>\n",
              "      <td>36.600000</td>\n",
              "      <td>formerly smoked</td>\n",
              "      <td>1</td>\n",
              "    </tr>\n",
              "    <tr>\n",
              "      <th>1</th>\n",
              "      <td>Female</td>\n",
              "      <td>61</td>\n",
              "      <td>0</td>\n",
              "      <td>0</td>\n",
              "      <td>Yes</td>\n",
              "      <td>Self-employed</td>\n",
              "      <td>Rural</td>\n",
              "      <td>202.21</td>\n",
              "      <td>28.893237</td>\n",
              "      <td>never smoked</td>\n",
              "      <td>1</td>\n",
              "    </tr>\n",
              "    <tr>\n",
              "      <th>2</th>\n",
              "      <td>Male</td>\n",
              "      <td>80</td>\n",
              "      <td>0</td>\n",
              "      <td>1</td>\n",
              "      <td>Yes</td>\n",
              "      <td>Private</td>\n",
              "      <td>Rural</td>\n",
              "      <td>105.92</td>\n",
              "      <td>32.500000</td>\n",
              "      <td>never smoked</td>\n",
              "      <td>1</td>\n",
              "    </tr>\n",
              "    <tr>\n",
              "      <th>3</th>\n",
              "      <td>Female</td>\n",
              "      <td>49</td>\n",
              "      <td>0</td>\n",
              "      <td>0</td>\n",
              "      <td>Yes</td>\n",
              "      <td>Private</td>\n",
              "      <td>Urban</td>\n",
              "      <td>171.23</td>\n",
              "      <td>34.400000</td>\n",
              "      <td>smokes</td>\n",
              "      <td>1</td>\n",
              "    </tr>\n",
              "    <tr>\n",
              "      <th>4</th>\n",
              "      <td>Female</td>\n",
              "      <td>79</td>\n",
              "      <td>1</td>\n",
              "      <td>0</td>\n",
              "      <td>Yes</td>\n",
              "      <td>Self-employed</td>\n",
              "      <td>Rural</td>\n",
              "      <td>174.12</td>\n",
              "      <td>24.000000</td>\n",
              "      <td>never smoked</td>\n",
              "      <td>1</td>\n",
              "    </tr>\n",
              "  </tbody>\n",
              "</table>\n",
              "</div>"
            ],
            "text/plain": [
              "   gender  age  hypertension  heart_disease ever_married      work_type  \\\n",
              "0    Male   67             0              1          Yes        Private   \n",
              "1  Female   61             0              0          Yes  Self-employed   \n",
              "2    Male   80             0              1          Yes        Private   \n",
              "3  Female   49             0              0          Yes        Private   \n",
              "4  Female   79             1              0          Yes  Self-employed   \n",
              "\n",
              "  Residence_type  avg_glucose_level        bmi   smoking_status  stroke  \n",
              "0          Urban             228.69  36.600000  formerly smoked       1  \n",
              "1          Rural             202.21  28.893237     never smoked       1  \n",
              "2          Rural             105.92  32.500000     never smoked       1  \n",
              "3          Urban             171.23  34.400000           smokes       1  \n",
              "4          Rural             174.12  24.000000     never smoked       1  "
            ]
          },
          "execution_count": 27,
          "metadata": {},
          "output_type": "execute_result"
        }
      ],
      "source": [
        "df.head()"
      ]
    },
    {
      "cell_type": "code",
      "execution_count": 28,
      "id": "Q5_8uTVRox2G",
      "metadata": {
        "id": "Q5_8uTVRox2G"
      },
      "outputs": [],
      "source": [
        "df_num = df[['age', 'avg_glucose_level', 'bmi']]"
      ]
    },
    {
      "cell_type": "raw",
      "id": "Zt3Qqig1ox2G",
      "metadata": {
        "id": "Zt3Qqig1ox2G"
      },
      "source": [
        "5.2- créer un dataframe 'df_cat' intermediaire contenant les variables catégorielles seulement"
      ]
    },
    {
      "cell_type": "code",
      "execution_count": 29,
      "id": "BO-9icNxox2G",
      "metadata": {
        "id": "BO-9icNxox2G"
      },
      "outputs": [],
      "source": [
        "df_cat = df[['gender', 'hypertension', 'heart_disease', 'ever_married',\n",
        "                             'work_type', 'Residence_type', 'smoking_status']]"
      ]
    },
    {
      "cell_type": "markdown",
      "id": "-DTb8cPUox2H",
      "metadata": {
        "id": "-DTb8cPUox2H"
      },
      "source": [
        "5.3 - Afficher en histogrammes les statistiques des variables numériques"
      ]
    },
    {
      "cell_type": "code",
      "execution_count": 30,
      "id": "akURAID5vt8r",
      "metadata": {
        "colab": {
          "base_uri": "https://localhost:8080/",
          "height": 565
        },
        "execution": {
          "iopub.execute_input": "2021-05-25T12:30:53.778461Z",
          "iopub.status.busy": "2021-05-25T12:30:53.777593Z",
          "iopub.status.idle": "2021-05-25T12:30:54.531701Z",
          "shell.execute_reply": "2021-05-25T12:30:54.531134Z",
          "shell.execute_reply.started": "2021-05-24T14:36:56.422413Z"
        },
        "id": "akURAID5vt8r",
        "outputId": "145de5e7-bb41-4c64-ed16-0e22d9029f85",
        "papermill": {
          "duration": 0.816027,
          "end_time": "2021-05-25T12:30:54.531874",
          "exception": false,
          "start_time": "2021-05-25T12:30:53.715847",
          "status": "completed"
        },
        "tags": []
      },
      "outputs": [
        {
          "data": {
            "image/png": "[encoded data removed]",
            "text/plain": [
              "<Figure size 2000x1000 with 6 Axes>"
            ]
          },
          "metadata": {},
          "output_type": "display_data"
        }
      ],
      "source": [
        "df.hist(bins=25, figsize=(20,10));"
      ]
    },
    {
      "cell_type": "markdown",
      "id": "f9ZMPTP8ox2H",
      "metadata": {
        "id": "f9ZMPTP8ox2H"
      },
      "source": [
        "5.4 - Afficher en barres le nombre d'observations de la variable catégorique 'stroke'."
      ]
    },
    {
      "cell_type": "code",
      "execution_count": 31,
      "id": "s4zxImdIvuA2",
      "metadata": {
        "colab": {
          "base_uri": "https://localhost:8080/",
          "height": 482
        },
        "execution": {
          "iopub.execute_input": "2021-05-25T12:30:54.661139Z",
          "iopub.status.busy": "2021-05-25T12:30:54.660477Z",
          "iopub.status.idle": "2021-05-25T12:30:54.780339Z",
          "shell.execute_reply": "2021-05-25T12:30:54.779842Z",
          "shell.execute_reply.started": "2021-05-24T14:36:56.959916Z"
        },
        "id": "s4zxImdIvuA2",
        "outputId": "86791eec-8a91-493a-c534-2fdc1d34a3fa",
        "papermill": {
          "duration": 0.185384,
          "end_time": "2021-05-25T12:30:54.780483",
          "exception": false,
          "start_time": "2021-05-25T12:30:54.595099",
          "status": "completed"
        },
        "tags": []
      },
      "outputs": [
        {
          "data": {
            "text/plain": [
              "<Axes: xlabel='stroke', ylabel='count'>"
            ]
          },
          "execution_count": 31,
          "metadata": {},
          "output_type": "execute_result"
        },
        {
          "data": {
            "image/png": "[encoded data removed]",
            "text/plain": [
              "<Figure size 500x500 with 1 Axes>"
            ]
          },
          "metadata": {},
          "output_type": "display_data"
        }
      ],
      "source": [
        "plt.figure(figsize=(5,5))\n",
        "sns.countplot( x='stroke', palette='Set2', data=df)"
      ]
    },
    {
      "cell_type": "markdown",
      "id": "1w050uPx0ZSr",
      "metadata": {
        "id": "1w050uPx0ZSr",
        "papermill": {
          "duration": 0.058582,
          "end_time": "2021-05-25T12:30:54.898464",
          "exception": false,
          "start_time": "2021-05-25T12:30:54.839882",
          "status": "completed"
        },
        "tags": []
      },
      "source": [
        "# IV. Visualisation and cleaning data"
      ]
    },
    {
      "cell_type": "markdown",
      "id": "XyWE6ynPox2I",
      "metadata": {
        "id": "XyWE6ynPox2I"
      },
      "source": [
        "1 - Afficher quelque boîtes à moustaches (boxplot)"
      ]
    },
    {
      "cell_type": "code",
      "execution_count": 32,
      "id": "leqwxXvQVPwn",
      "metadata": {
        "colab": {
          "base_uri": "https://localhost:8080/",
          "height": 435
        },
        "execution": {
          "iopub.execute_input": "2021-05-25T12:30:55.024925Z",
          "iopub.status.busy": "2021-05-25T12:30:55.023951Z",
          "iopub.status.idle": "2021-05-25T12:30:55.193318Z",
          "shell.execute_reply": "2021-05-25T12:30:55.192252Z",
          "shell.execute_reply.started": "2021-05-24T14:36:57.068192Z"
        },
        "id": "leqwxXvQVPwn",
        "outputId": "cc9d9701-81f5-4216-e337-9f731765fe47",
        "papermill": {
          "duration": 0.235691,
          "end_time": "2021-05-25T12:30:55.193475",
          "exception": false,
          "start_time": "2021-05-25T12:30:54.957784",
          "status": "completed"
        },
        "tags": []
      },
      "outputs": [
        {
          "data": {
            "image/png": "[encoded data removed]",
            "text/plain": [
              "<Figure size 640x480 with 1 Axes>"
            ]
          },
          "metadata": {},
          "output_type": "display_data"
        }
      ],
      "source": [
        "sns.set(style='whitegrid')\n",
        "ax=sns.boxplot(data=df,orient='v')"
      ]
    },
    {
      "cell_type": "markdown",
      "id": "laVnFd7vox2J",
      "metadata": {
        "id": "laVnFd7vox2J"
      },
      "source": [
        "## IV.1 - traitement des valeurs aberrantes de la colonne 'bmi'"
      ]
    },
    {
      "cell_type": "markdown",
      "id": "eqZ3Cj0Qox2J",
      "metadata": {
        "id": "eqZ3Cj0Qox2J"
      },
      "source": [
        "1. diagramme en moustache (boxplot)"
      ]
    },
    {
      "cell_type": "code",
      "execution_count": 33,
      "id": "729jbXrcox2J",
      "metadata": {
        "colab": {
          "base_uri": "https://localhost:8080/",
          "height": 458
        },
        "id": "729jbXrcox2J",
        "outputId": "9777948f-64e0-4983-b11c-8682e922b73b"
      },
      "outputs": [
        {
          "data": {
            "image/png": "[encoded data removed]",
            "text/plain": [
              "<Figure size 640x480 with 1 Axes>"
            ]
          },
          "metadata": {},
          "output_type": "display_data"
        }
      ],
      "source": [
        "sns.set(style='whitegrid')\n",
        "ax=sns.boxplot(df['bmi'],orient='h')"
      ]
    },
    {
      "cell_type": "markdown",
      "id": "1IHVw9faox2K",
      "metadata": {
        "id": "1IHVw9faox2K"
      },
      "source": [
        "2 - calculer les 4 quartiles (Q1,Q3,IRQ) et Sup, Inf"
      ]
    },
    {
      "cell_type": "code",
      "execution_count": 34,
      "id": "GLEJ88zTox2K",
      "metadata": {
        "id": "GLEJ88zTox2K"
      },
      "outputs": [],
      "source": [
        "Q1=df['bmi'].quantile(0.25)\n",
        "Q3=df['bmi'].quantile(0.75)\n",
        "IQR=Q3-Q1\n",
        "Inf = df['bmi'].quantile(0.25)-1.5*IQR\n",
        "Sup = df['bmi'].quantile(0.75)+1.5*IQR"
      ]
    },
    {
      "cell_type": "code",
      "execution_count": 35,
      "id": "g4SuT6baox2K",
      "metadata": {
        "colab": {
          "base_uri": "https://localhost:8080/"
        },
        "id": "g4SuT6baox2K",
        "outputId": "1a7947c8-c0ec-4b21-dade-5a941fd4e594"
      },
      "outputs": [
        {
          "name": "stdout",
          "output_type": "stream",
          "text": [
            "46.29999999999999\n"
          ]
        }
      ],
      "source": [
        "print(Sup)"
      ]
    },
    {
      "cell_type": "markdown",
      "id": "98xH8RbJox2L",
      "metadata": {
        "id": "98xH8RbJox2L"
      },
      "source": [
        "3- déduire le nombre de outliers"
      ]
    },
    {
      "cell_type": "code",
      "execution_count": 36,
      "id": "hPtAUNZfox2L",
      "metadata": {
        "colab": {
          "base_uri": "https://localhost:8080/",
          "height": 429
        },
        "id": "hPtAUNZfox2L",
        "outputId": "92356517-574a-420c-f5aa-0d579f27f4ae"
      },
      "outputs": [
        {
          "data": {
            "text/plain": [
              "gender               125\n",
              "age                  125\n",
              "hypertension         125\n",
              "heart_disease        125\n",
              "ever_married         125\n",
              "work_type            125\n",
              "Residence_type       125\n",
              "avg_glucose_level    125\n",
              "bmi                  125\n",
              "smoking_status       125\n",
              "stroke               125\n",
              "dtype: int64"
            ]
          },
          "execution_count": 36,
          "metadata": {},
          "output_type": "execute_result"
        }
      ],
      "source": [
        "df[df['bmi']>=Sup].count()"
      ]
    },
    {
      "cell_type": "markdown",
      "id": "64rkovt6ox2L",
      "metadata": {
        "id": "64rkovt6ox2L"
      },
      "source": []
    },
    {
      "cell_type": "markdown",
      "id": "I0ZRkEtuox2L",
      "metadata": {
        "id": "I0ZRkEtuox2L"
      },
      "source": [
        "4 - Ecrire une méthode drop_outliers() qui supprime les outliers du dataframe"
      ]
    },
    {
      "cell_type": "code",
      "execution_count": 37,
      "id": "uxgdp3xeox2L",
      "metadata": {
        "id": "uxgdp3xeox2L"
      },
      "outputs": [],
      "source": [
        "def drop_outliers(data,field_name):\n",
        "    q1=data[field_name].quantile(0.25)\n",
        "    q3=data[field_name].quantile(0.75)\n",
        "    iqr=q3-q1\n",
        "    inf = data[field_name].quantile(0.25)-1.5*iqr\n",
        "    sup = data[field_name].quantile(0.75)+1.5*iqr\n",
        "    data.drop(data[data[field_name]>sup].index,inplace=True)\n",
        "    data.drop(data[data[field_name]<inf].index,inplace=True)\n"
      ]
    },
    {
      "cell_type": "code",
      "execution_count": 38,
      "id": "EsFn-3Czox2M",
      "metadata": {
        "id": "EsFn-3Czox2M"
      },
      "outputs": [],
      "source": [
        "drop_outliers(df,'bmi')"
      ]
    },
    {
      "cell_type": "markdown",
      "id": "IzcSNWNjox2M",
      "metadata": {
        "id": "IzcSNWNjox2M"
      },
      "source": [
        "5 - retracer le diagramme en moustache pour les 'bmi'"
      ]
    },
    {
      "cell_type": "code",
      "execution_count": 39,
      "id": "EnPEsuu-ox2M",
      "metadata": {
        "colab": {
          "base_uri": "https://localhost:8080/",
          "height": 458
        },
        "id": "EnPEsuu-ox2M",
        "outputId": "9d86354f-a3fa-45bd-e072-4a3669aa1e2b"
      },
      "outputs": [
        {
          "data": {
            "image/png": "[encoded data removed]",
            "text/plain": [
              "<Figure size 640x480 with 1 Axes>"
            ]
          },
          "metadata": {},
          "output_type": "display_data"
        }
      ],
      "source": [
        "sns.set(style='whitegrid')\n",
        "ax=sns.boxplot(df['bmi'],orient='h')"
      ]
    },
    {
      "cell_type": "markdown",
      "id": "kPUpzYY7ox2N",
      "metadata": {
        "id": "kPUpzYY7ox2N"
      },
      "source": [
        "##  IV.2 - Traitement des valeurs aberrantes dans 'avg_glucose_level'"
      ]
    },
    {
      "cell_type": "markdown",
      "id": "re_ocxzRox2N",
      "metadata": {
        "id": "re_ocxzRox2N"
      },
      "source": [
        " 1- tracer le diagramme en moustache pour les 'avg_glucose_level'"
      ]
    },
    {
      "cell_type": "code",
      "execution_count": 40,
      "id": "ypcSj3QVox2N",
      "metadata": {
        "colab": {
          "base_uri": "https://localhost:8080/",
          "height": 458
        },
        "id": "ypcSj3QVox2N",
        "outputId": "a48514e1-f2cd-49eb-8141-72e8123d95ef"
      },
      "outputs": [
        {
          "data": {
            "image/png": "[encoded data removed]",
            "text/plain": [
              "<Figure size 640x480 with 1 Axes>"
            ]
          },
          "metadata": {},
          "output_type": "display_data"
        }
      ],
      "source": [
        "sns.set(style='whitegrid')\n",
        "ax=sns.boxplot(df['avg_glucose_level'],orient='h')"
      ]
    },
    {
      "cell_type": "markdown",
      "id": "Qk_EWJ_-ox2N",
      "metadata": {
        "id": "Qk_EWJ_-ox2N"
      },
      "source": [
        "2 - remplacer les outliers par la mediane"
      ]
    },
    {
      "cell_type": "code",
      "execution_count": 41,
      "id": "_Q2bUXJKox2O",
      "metadata": {
        "id": "_Q2bUXJKox2O"
      },
      "outputs": [],
      "source": [
        "Q1g=df['avg_glucose_level'].quantile(0.25)\n",
        "Q3g=df['avg_glucose_level'].quantile(0.75)\n",
        "IQRg=Q3g-Q1g\n",
        "Infg = df['avg_glucose_level'].quantile(0.25)-1.5*IQRg\n",
        "Supg = df['avg_glucose_level'].quantile(0.75)+1.5*IQRg\n",
        "for i in df['avg_glucose_level']:\n",
        "     if i >=Supg or i<=Infg :\n",
        "            df['avg_glucose_level']=df['avg_glucose_level'].replace(i,np.mean(df['avg_glucose_level']))"
      ]
    },
    {
      "cell_type": "markdown",
      "id": "1toexgvuox2O",
      "metadata": {
        "id": "1toexgvuox2O"
      },
      "source": [
        "3- retracer le diagramme en moustache pour les 'avg_glucose_level'"
      ]
    },
    {
      "cell_type": "code",
      "execution_count": 42,
      "id": "p7mzJRJZox2O",
      "metadata": {
        "colab": {
          "base_uri": "https://localhost:8080/",
          "height": 458
        },
        "id": "p7mzJRJZox2O",
        "outputId": "315719c4-36a5-44d5-cac5-266f97f62155"
      },
      "outputs": [
        {
          "data": {
            "image/png": "[encoded data removed]",
            "text/plain": [
              "<Figure size 640x480 with 1 Axes>"
            ]
          },
          "metadata": {},
          "output_type": "display_data"
        }
      ],
      "source": [
        "sns.set(style='whitegrid')\n",
        "ax=sns.boxplot(x=df['avg_glucose_level'],orient='h') #, showfliers=False)"
      ]
    },
    {
      "cell_type": "raw",
      "id": "rdJJRal9ox2O",
      "metadata": {
        "id": "rdJJRal9ox2O"
      },
      "source": [
        "Donc, la médiane n'est pas la bonne valeur de remplacement"
      ]
    },
    {
      "cell_type": "code",
      "execution_count": 43,
      "id": "PYU5Yz4mox2P",
      "metadata": {
        "colab": {
          "base_uri": "https://localhost:8080/",
          "height": 429
        },
        "id": "PYU5Yz4mox2P",
        "outputId": "8be1dd0a-c63d-44cd-e85a-f3c6a2456186"
      },
      "outputs": [
        {
          "data": {
            "text/plain": [
              "gender               0\n",
              "age                  0\n",
              "hypertension         0\n",
              "heart_disease        0\n",
              "ever_married         0\n",
              "work_type            0\n",
              "Residence_type       0\n",
              "avg_glucose_level    0\n",
              "bmi                  0\n",
              "smoking_status       0\n",
              "stroke               0\n",
              "dtype: int64"
            ]
          },
          "execution_count": 43,
          "metadata": {},
          "output_type": "execute_result"
        }
      ],
      "source": [
        "df.loc[df['avg_glucose_level']>=Supg].count()"
      ]
    },
    {
      "cell_type": "code",
      "execution_count": 44,
      "id": "OQ4WsgUvox2P",
      "metadata": {
        "colab": {
          "base_uri": "https://localhost:8080/"
        },
        "id": "OQ4WsgUvox2P",
        "outputId": "bc4e35a5-af90-4ba8-91da-d80ac6c75de7"
      },
      "outputs": [
        {
          "name": "stdout",
          "output_type": "stream",
          "text": [
            "168.59124999999997\n",
            "22.36125000000002\n"
          ]
        }
      ],
      "source": [
        "print(Supg)\n",
        "print(Infg)"
      ]
    },
    {
      "cell_type": "markdown",
      "id": "B6tR7Vl0ox2P",
      "metadata": {
        "id": "B6tR7Vl0ox2P"
      },
      "source": [
        "# V. Autres visualisations statistiques"
      ]
    },
    {
      "cell_type": "markdown",
      "id": "Jx2zMm0gox2Q",
      "metadata": {
        "id": "Jx2zMm0gox2Q"
      },
      "source": [
        "1- Afficher en barres le nombre d'observations de la variable catégorique 'stroke' classée par 'Gender'.\n",
        "\n",
        "Interpréter."
      ]
    },
    {
      "cell_type": "code",
      "execution_count": 45,
      "id": "wI7JdO_g2Ckd",
      "metadata": {
        "colab": {
          "base_uri": "https://localhost:8080/",
          "height": 401
        },
        "execution": {
          "iopub.execute_input": "2021-05-25T12:30:55.329181Z",
          "iopub.status.busy": "2021-05-25T12:30:55.328147Z",
          "iopub.status.idle": "2021-05-25T12:30:55.488263Z",
          "shell.execute_reply": "2021-05-25T12:30:55.487600Z",
          "shell.execute_reply.started": "2021-05-24T14:36:57.223155Z"
        },
        "id": "wI7JdO_g2Ckd",
        "outputId": "d948a721-a49d-4f4a-f3f2-bdcb1fce9ed9",
        "papermill": {
          "duration": 0.235055,
          "end_time": "2021-05-25T12:30:55.488417",
          "exception": false,
          "start_time": "2021-05-25T12:30:55.253362",
          "status": "completed"
        },
        "scrolled": true,
        "tags": []
      },
      "outputs": [
        {
          "data": {
            "image/png": "[encoded data removed]",
            "text/plain": [
              "<Figure size 1500x500 with 1 Axes>"
            ]
          },
          "metadata": {},
          "output_type": "display_data"
        }
      ],
      "source": [
        "plt.figure(figsize=(15,5))\n",
        "\n",
        "sns.countplot(data=df, x='gender',hue=df['stroke'], palette='Set2');"
      ]
    },
    {
      "cell_type": "markdown",
      "id": "28G5tYqTox2Q",
      "metadata": {
        "id": "28G5tYqTox2Q"
      },
      "source": [
        "2- Afficher en barres le nombre d'observations de la variable catégorique 'stroke' classée par 'work_type'.\n",
        "\n",
        "Interpréter."
      ]
    },
    {
      "cell_type": "code",
      "execution_count": 46,
      "id": "VDOD3GyLc-7A",
      "metadata": {
        "colab": {
          "base_uri": "https://localhost:8080/",
          "height": 403
        },
        "execution": {
          "iopub.execute_input": "2021-05-25T12:30:55.748468Z",
          "iopub.status.busy": "2021-05-25T12:30:55.746012Z",
          "iopub.status.idle": "2021-05-25T12:30:55.938676Z",
          "shell.execute_reply": "2021-05-25T12:30:55.938018Z",
          "shell.execute_reply.started": "2021-05-24T14:36:57.365845Z"
        },
        "id": "VDOD3GyLc-7A",
        "outputId": "acf6a8cc-b84d-4ea1-d12d-1adf2f23b202",
        "papermill": {
          "duration": 0.26806,
          "end_time": "2021-05-25T12:30:55.938847",
          "exception": false,
          "start_time": "2021-05-25T12:30:55.670787",
          "status": "completed"
        },
        "tags": []
      },
      "outputs": [
        {
          "data": {
            "image/png": "[encoded data removed]",
            "text/plain": [
              "<Figure size 1500x500 with 1 Axes>"
            ]
          },
          "metadata": {},
          "output_type": "display_data"
        }
      ],
      "source": [
        "plt.figure(figsize=(15,5))\n",
        "\n",
        "sns.countplot(x='work_type',hue=df['stroke'],palette='Set2',data=df);"
      ]
    },
    {
      "cell_type": "markdown",
      "id": "2d8DsBHLox2R",
      "metadata": {
        "id": "2d8DsBHLox2R"
      },
      "source": [
        "3- Afficher en barres le nombre de lignes par type de résidence"
      ]
    },
    {
      "cell_type": "code",
      "execution_count": 47,
      "id": "9TTp6SqZs3eC",
      "metadata": {
        "colab": {
          "base_uri": "https://localhost:8080/",
          "height": 474
        },
        "execution": {
          "iopub.execute_input": "2021-05-25T12:30:56.073358Z",
          "iopub.status.busy": "2021-05-25T12:30:56.070521Z",
          "iopub.status.idle": "2021-05-25T12:30:56.190063Z",
          "shell.execute_reply": "2021-05-25T12:30:56.189533Z",
          "shell.execute_reply.started": "2021-05-24T14:36:57.530622Z"
        },
        "id": "9TTp6SqZs3eC",
        "outputId": "bed06b49-1e2b-437c-80d0-ae061e13ca7f",
        "papermill": {
          "duration": 0.190364,
          "end_time": "2021-05-25T12:30:56.190208",
          "exception": false,
          "start_time": "2021-05-25T12:30:55.999844",
          "status": "completed"
        },
        "tags": []
      },
      "outputs": [
        {
          "data": {
            "image/png": "[encoded data removed]",
            "text/plain": [
              "<Figure size 500x500 with 1 Axes>"
            ]
          },
          "metadata": {},
          "output_type": "display_data"
        }
      ],
      "source": [
        "plt.figure(figsize=(5,5))\n",
        "sns.countplot( x='Residence_type', palette='Set2', data=df);"
      ]
    },
    {
      "cell_type": "markdown",
      "id": "9g6tehtdox2S",
      "metadata": {
        "id": "9g6tehtdox2S"
      },
      "source": [
        "4- Afficher en barres le nombre d'observations de la variable catégorique 'stroke' classée par 'ever_married'.\n",
        "\n",
        "Interpréter."
      ]
    },
    {
      "cell_type": "code",
      "execution_count": 48,
      "id": "z--awwo-tASM",
      "metadata": {
        "colab": {
          "base_uri": "https://localhost:8080/",
          "height": 491
        },
        "execution": {
          "iopub.execute_input": "2021-05-25T12:30:56.454283Z",
          "iopub.status.busy": "2021-05-25T12:30:56.453479Z",
          "iopub.status.idle": "2021-05-25T12:30:56.606323Z",
          "shell.execute_reply": "2021-05-25T12:30:56.605765Z",
          "shell.execute_reply.started": "2021-05-24T14:36:57.637086Z"
        },
        "id": "z--awwo-tASM",
        "outputId": "f98698a0-f116-4877-f9ec-3d37ee6e6128",
        "papermill": {
          "duration": 0.229605,
          "end_time": "2021-05-25T12:30:56.606467",
          "exception": false,
          "start_time": "2021-05-25T12:30:56.376862",
          "status": "completed"
        },
        "tags": []
      },
      "outputs": [
        {
          "data": {
            "text/plain": [
              "<Axes: xlabel='ever_married', ylabel='count'>"
            ]
          },
          "execution_count": 48,
          "metadata": {},
          "output_type": "execute_result"
        },
        {
          "data": {
            "image/png": "[encoded data removed]",
            "text/plain": [
              "<Figure size 500x500 with 1 Axes>"
            ]
          },
          "metadata": {},
          "output_type": "display_data"
        }
      ],
      "source": [
        "plt.figure(figsize=(5,5))\n",
        "sns.countplot( x='ever_married', hue=df['stroke'], palette='Set2', data=df)"
      ]
    },
    {
      "cell_type": "raw",
      "id": "UoS2ZUReox2S",
      "metadata": {
        "id": "UoS2ZUReox2S"
      },
      "source": [
        "La plupart des personnes ayant subi un AVC sont mariées."
      ]
    },
    {
      "cell_type": "markdown",
      "id": "ZJk3E8uyox2T",
      "metadata": {
        "id": "ZJk3E8uyox2T"
      },
      "source": [
        "5- Afficher en barres le nombre d'observations de la variable catégorique 'stroke' classée par 'smoking_status'.\n",
        "\n",
        "Interpréter."
      ]
    },
    {
      "cell_type": "code",
      "execution_count": 49,
      "id": "zSiKZtHTtHyo",
      "metadata": {
        "colab": {
          "base_uri": "https://localhost:8080/",
          "height": 419
        },
        "execution": {
          "iopub.execute_input": "2021-05-25T12:30:56.913699Z",
          "iopub.status.busy": "2021-05-25T12:30:56.880618Z",
          "iopub.status.idle": "2021-05-25T12:30:57.074552Z",
          "shell.execute_reply": "2021-05-25T12:30:57.074030Z",
          "shell.execute_reply.started": "2021-05-24T14:36:57.771728Z"
        },
        "id": "zSiKZtHTtHyo",
        "outputId": "680eaf2c-7929-40c1-ebe9-d3d003130769",
        "papermill": {
          "duration": 0.276781,
          "end_time": "2021-05-25T12:30:57.074688",
          "exception": false,
          "start_time": "2021-05-25T12:30:56.797907",
          "status": "completed"
        },
        "tags": []
      },
      "outputs": [
        {
          "data": {
            "text/plain": [
              "<Axes: xlabel='smoking_status', ylabel='count'>"
            ]
          },
          "execution_count": 49,
          "metadata": {},
          "output_type": "execute_result"
        },
        {
          "data": {
            "image/png": "[encoded data removed]",
            "text/plain": [
              "<Figure size 1500x500 with 1 Axes>"
            ]
          },
          "metadata": {},
          "output_type": "display_data"
        }
      ],
      "source": [
        "plt.figure(figsize=(15,5))\n",
        "sns.countplot( x='smoking_status', hue=df['stroke'], palette='Set2', data=df)"
      ]
    },
    {
      "cell_type": "raw",
      "id": "B06ZpU4jox2T",
      "metadata": {
        "id": "B06ZpU4jox2T"
      },
      "source": [
        "Les personnes qui ne fumaient pas avaient une incidence plus élevée d'AVC que les autres qui fumaient ou avaient déjà fumé. Cependant, il y a une grande partie qui est inconnue et qui peut - ou non - changer ce scénario."
      ]
    },
    {
      "cell_type": "markdown",
      "id": "1isvoqIPox2T",
      "metadata": {
        "id": "1isvoqIPox2T"
      },
      "source": [
        "6- Afficher la correlation entre les variables du dataframe (coefficient de pearson)"
      ]
    },
    {
      "cell_type": "code",
      "execution_count": 50,
      "id": "AAY5nEXiym4D",
      "metadata": {
        "colab": {
          "base_uri": "https://localhost:8080/",
          "height": 457
        },
        "execution": {
          "iopub.execute_input": "2021-05-25T12:30:57.464819Z",
          "iopub.status.busy": "2021-05-25T12:30:57.464138Z",
          "iopub.status.idle": "2021-05-25T12:30:57.748050Z",
          "shell.execute_reply": "2021-05-25T12:30:57.747474Z",
          "shell.execute_reply.started": "2021-05-24T14:36:57.932728Z"
        },
        "id": "AAY5nEXiym4D",
        "outputId": "34d459cc-6e92-4cca-d659-c52746d23968",
        "papermill": {
          "duration": 0.354633,
          "end_time": "2021-05-25T12:30:57.748198",
          "exception": false,
          "start_time": "2021-05-25T12:30:57.393565",
          "status": "completed"
        },
        "tags": []
      },
      "outputs": [
        {
          "data": {
            "image/png": "[encoded data removed]",
            "text/plain": [
              "<Figure size 1000x500 with 2 Axes>"
            ]
          },
          "metadata": {},
          "output_type": "display_data"
        }
      ],
      "source": [
        "plt.figure(figsize=(10,5))\n",
        "correlation = df_num.corr( method='pearson' )\n",
        "sns.heatmap( correlation, annot=True );"
      ]
    },
    {
      "cell_type": "markdown",
      "id": "Y3d0Ii_Gox2U",
      "metadata": {
        "id": "Y3d0Ii_Gox2U"
      },
      "source": [
        "1 - Afficher un rappel de dimension et un echantillon du dataframe"
      ]
    },
    {
      "cell_type": "code",
      "execution_count": 51,
      "id": "ElKNRk_Hox2U",
      "metadata": {
        "colab": {
          "base_uri": "https://localhost:8080/"
        },
        "id": "ElKNRk_Hox2U",
        "outputId": "6c9db6c8-8b0b-43e0-dd34-fe599ac70f0f"
      },
      "outputs": [
        {
          "data": {
            "text/plain": [
              "(4984, 11)"
            ]
          },
          "execution_count": 51,
          "metadata": {},
          "output_type": "execute_result"
        }
      ],
      "source": [
        "df.shape"
      ]
    },
    {
      "cell_type": "code",
      "execution_count": 52,
      "id": "LgNBBy66ox2U",
      "metadata": {
        "colab": {
          "base_uri": "https://localhost:8080/",
          "height": 261
        },
        "id": "LgNBBy66ox2U",
        "outputId": "7e443509-df2e-41ff-defd-1f1788f84de0"
      },
      "outputs": [
        {
          "data": {
            "application/vnd.microsoft.datawrangler.viewer.v0+json": {
              "columns": [
                {
                  "name": "index",
                  "rawType": "int64",
                  "type": "integer"
                },
                {
                  "name": "gender",
                  "rawType": "object",
                  "type": "string"
                },
                {
                  "name": "age",
                  "rawType": "int64",
                  "type": "integer"
                },
                {
                  "name": "hypertension",
                  "rawType": "int64",
                  "type": "integer"
                },
                {
                  "name": "heart_disease",
                  "rawType": "int64",
                  "type": "integer"
                },
                {
                  "name": "ever_married",
                  "rawType": "object",
                  "type": "string"
                },
                {
                  "name": "work_type",
                  "rawType": "object",
                  "type": "string"
                },
                {
                  "name": "Residence_type",
                  "rawType": "object",
                  "type": "string"
                },
                {
                  "name": "avg_glucose_level",
                  "rawType": "float64",
                  "type": "float"
                },
                {
                  "name": "bmi",
                  "rawType": "float64",
                  "type": "float"
                },
                {
                  "name": "smoking_status",
                  "rawType": "object",
                  "type": "string"
                },
                {
                  "name": "stroke",
                  "rawType": "int64",
                  "type": "integer"
                }
              ],
              "conversionMethod": "pd.DataFrame",
              "ref": "b0b0db85-bed6-4855-a0c3-bc6d66e7279e",
              "rows": [
                [
                  "0",
                  "Male",
                  "67",
                  "0",
                  "1",
                  "Yes",
                  "Private",
                  "Urban",
                  "105.7306882022472",
                  "36.6",
                  "formerly smoked",
                  "1"
                ],
                [
                  "1",
                  "Female",
                  "61",
                  "0",
                  "0",
                  "Yes",
                  "Self-employed",
                  "Rural",
                  "105.706017393299",
                  "28.893236911794666",
                  "never smoked",
                  "1"
                ],
                [
                  "2",
                  "Male",
                  "80",
                  "0",
                  "1",
                  "Yes",
                  "Private",
                  "Rural",
                  "105.92",
                  "32.5",
                  "never smoked",
                  "1"
                ],
                [
                  "3",
                  "Female",
                  "49",
                  "0",
                  "0",
                  "Yes",
                  "Private",
                  "Urban",
                  "105.66729187860932",
                  "34.4",
                  "smokes",
                  "1"
                ],
                [
                  "4",
                  "Female",
                  "79",
                  "1",
                  "0",
                  "Yes",
                  "Self-employed",
                  "Rural",
                  "105.65413724214835",
                  "24.0",
                  "never smoked",
                  "1"
                ]
              ],
              "shape": {
                "columns": 11,
                "rows": 5
              }
            },
            "text/html": [
              "<div>\n",
              "<style scoped>\n",
              "    .dataframe tbody tr th:only-of-type {\n",
              "        vertical-align: middle;\n",
              "    }\n",
              "\n",
              "    .dataframe tbody tr th {\n",
              "        vertical-align: top;\n",
              "    }\n",
              "\n",
              "    .dataframe thead th {\n",
              "        text-align: right;\n",
              "    }\n",
              "</style>\n",
              "<table border=\"1\" class=\"dataframe\">\n",
              "  <thead>\n",
              "    <tr style=\"text-align: right;\">\n",
              "      <th></th>\n",
              "      <th>gender</th>\n",
              "      <th>age</th>\n",
              "      <th>hypertension</th>\n",
              "      <th>heart_disease</th>\n",
              "      <th>ever_married</th>\n",
              "      <th>work_type</th>\n",
              "      <th>Residence_type</th>\n",
              "      <th>avg_glucose_level</th>\n",
              "      <th>bmi</th>\n",
              "      <th>smoking_status</th>\n",
              "      <th>stroke</th>\n",
              "    </tr>\n",
              "  </thead>\n",
              "  <tbody>\n",
              "    <tr>\n",
              "      <th>0</th>\n",
              "      <td>Male</td>\n",
              "      <td>67</td>\n",
              "      <td>0</td>\n",
              "      <td>1</td>\n",
              "      <td>Yes</td>\n",
              "      <td>Private</td>\n",
              "      <td>Urban</td>\n",
              "      <td>105.730688</td>\n",
              "      <td>36.600000</td>\n",
              "      <td>formerly smoked</td>\n",
              "      <td>1</td>\n",
              "    </tr>\n",
              "    <tr>\n",
              "      <th>1</th>\n",
              "      <td>Female</td>\n",
              "      <td>61</td>\n",
              "      <td>0</td>\n",
              "      <td>0</td>\n",
              "      <td>Yes</td>\n",
              "      <td>Self-employed</td>\n",
              "      <td>Rural</td>\n",
              "      <td>105.706017</td>\n",
              "      <td>28.893237</td>\n",
              "      <td>never smoked</td>\n",
              "      <td>1</td>\n",
              "    </tr>\n",
              "    <tr>\n",
              "      <th>2</th>\n",
              "      <td>Male</td>\n",
              "      <td>80</td>\n",
              "      <td>0</td>\n",
              "      <td>1</td>\n",
              "      <td>Yes</td>\n",
              "      <td>Private</td>\n",
              "      <td>Rural</td>\n",
              "      <td>105.920000</td>\n",
              "      <td>32.500000</td>\n",
              "      <td>never smoked</td>\n",
              "      <td>1</td>\n",
              "    </tr>\n",
              "    <tr>\n",
              "      <th>3</th>\n",
              "      <td>Female</td>\n",
              "      <td>49</td>\n",
              "      <td>0</td>\n",
              "      <td>0</td>\n",
              "      <td>Yes</td>\n",
              "      <td>Private</td>\n",
              "      <td>Urban</td>\n",
              "      <td>105.667292</td>\n",
              "      <td>34.400000</td>\n",
              "      <td>smokes</td>\n",
              "      <td>1</td>\n",
              "    </tr>\n",
              "    <tr>\n",
              "      <th>4</th>\n",
              "      <td>Female</td>\n",
              "      <td>79</td>\n",
              "      <td>1</td>\n",
              "      <td>0</td>\n",
              "      <td>Yes</td>\n",
              "      <td>Self-employed</td>\n",
              "      <td>Rural</td>\n",
              "      <td>105.654137</td>\n",
              "      <td>24.000000</td>\n",
              "      <td>never smoked</td>\n",
              "      <td>1</td>\n",
              "    </tr>\n",
              "  </tbody>\n",
              "</table>\n",
              "</div>"
            ],
            "text/plain": [
              "   gender  age  hypertension  heart_disease ever_married      work_type  \\\n",
              "0    Male   67             0              1          Yes        Private   \n",
              "1  Female   61             0              0          Yes  Self-employed   \n",
              "2    Male   80             0              1          Yes        Private   \n",
              "3  Female   49             0              0          Yes        Private   \n",
              "4  Female   79             1              0          Yes  Self-employed   \n",
              "\n",
              "  Residence_type  avg_glucose_level        bmi   smoking_status  stroke  \n",
              "0          Urban         105.730688  36.600000  formerly smoked       1  \n",
              "1          Rural         105.706017  28.893237     never smoked       1  \n",
              "2          Rural         105.920000  32.500000     never smoked       1  \n",
              "3          Urban         105.667292  34.400000           smokes       1  \n",
              "4          Rural         105.654137  24.000000     never smoked       1  "
            ]
          },
          "execution_count": 52,
          "metadata": {},
          "output_type": "execute_result"
        }
      ],
      "source": [
        "df.head()"
      ]
    },
    {
      "cell_type": "markdown",
      "id": "xQ1X55rsox2V",
      "metadata": {
        "id": "xQ1X55rsox2V"
      },
      "source": [
        "2 - affecter à Y (cible) la dernière colonne (stroke) et le reste du dataframe au entrées X"
      ]
    },
    {
      "cell_type": "code",
      "execution_count": 53,
      "id": "ZZv50Kdaox2V",
      "metadata": {
        "id": "ZZv50Kdaox2V"
      },
      "outputs": [],
      "source": [
        "X = df.iloc[:,0:10]\n",
        "Y= df.iloc[:,10]"
      ]
    },
    {
      "cell_type": "markdown",
      "id": "KVOAnTUMox2V",
      "metadata": {
        "id": "KVOAnTUMox2V"
      },
      "source": [
        "3 - afficher un echontillion de X et Y"
      ]
    },
    {
      "cell_type": "code",
      "execution_count": 54,
      "id": "eekhxpF-ox2V",
      "metadata": {
        "colab": {
          "base_uri": "https://localhost:8080/",
          "height": 261
        },
        "id": "eekhxpF-ox2V",
        "outputId": "fc94f388-606a-491e-888a-ecd1cdbd2ba3"
      },
      "outputs": [
        {
          "data": {
            "application/vnd.microsoft.datawrangler.viewer.v0+json": {
              "columns": [
                {
                  "name": "index",
                  "rawType": "int64",
                  "type": "integer"
                },
                {
                  "name": "gender",
                  "rawType": "object",
                  "type": "string"
                },
                {
                  "name": "age",
                  "rawType": "int64",
                  "type": "integer"
                },
                {
                  "name": "hypertension",
                  "rawType": "int64",
                  "type": "integer"
                },
                {
                  "name": "heart_disease",
                  "rawType": "int64",
                  "type": "integer"
                },
                {
                  "name": "ever_married",
                  "rawType": "object",
                  "type": "string"
                },
                {
                  "name": "work_type",
                  "rawType": "object",
                  "type": "string"
                },
                {
                  "name": "Residence_type",
                  "rawType": "object",
                  "type": "string"
                },
                {
                  "name": "avg_glucose_level",
                  "rawType": "float64",
                  "type": "float"
                },
                {
                  "name": "bmi",
                  "rawType": "float64",
                  "type": "float"
                },
                {
                  "name": "smoking_status",
                  "rawType": "object",
                  "type": "string"
                }
              ],
              "conversionMethod": "pd.DataFrame",
              "ref": "4091a855-f5c3-4480-a835-deb52ed3568c",
              "rows": [
                [
                  "0",
                  "Male",
                  "67",
                  "0",
                  "1",
                  "Yes",
                  "Private",
                  "Urban",
                  "105.7306882022472",
                  "36.6",
                  "formerly smoked"
                ],
                [
                  "1",
                  "Female",
                  "61",
                  "0",
                  "0",
                  "Yes",
                  "Self-employed",
                  "Rural",
                  "105.706017393299",
                  "28.893236911794666",
                  "never smoked"
                ],
                [
                  "2",
                  "Male",
                  "80",
                  "0",
                  "1",
                  "Yes",
                  "Private",
                  "Rural",
                  "105.92",
                  "32.5",
                  "never smoked"
                ],
                [
                  "3",
                  "Female",
                  "49",
                  "0",
                  "0",
                  "Yes",
                  "Private",
                  "Urban",
                  "105.66729187860932",
                  "34.4",
                  "smokes"
                ],
                [
                  "4",
                  "Female",
                  "79",
                  "1",
                  "0",
                  "Yes",
                  "Self-employed",
                  "Rural",
                  "105.65413724214835",
                  "24.0",
                  "never smoked"
                ]
              ],
              "shape": {
                "columns": 10,
                "rows": 5
              }
            },
            "text/html": [
              "<div>\n",
              "<style scoped>\n",
              "    .dataframe tbody tr th:only-of-type {\n",
              "        vertical-align: middle;\n",
              "    }\n",
              "\n",
              "    .dataframe tbody tr th {\n",
              "        vertical-align: top;\n",
              "    }\n",
              "\n",
              "    .dataframe thead th {\n",
              "        text-align: right;\n",
              "    }\n",
              "</style>\n",
              "<table border=\"1\" class=\"dataframe\">\n",
              "  <thead>\n",
              "    <tr style=\"text-align: right;\">\n",
              "      <th></th>\n",
              "      <th>gender</th>\n",
              "      <th>age</th>\n",
              "      <th>hypertension</th>\n",
              "      <th>heart_disease</th>\n",
              "      <th>ever_married</th>\n",
              "      <th>work_type</th>\n",
              "      <th>Residence_type</th>\n",
              "      <th>avg_glucose_level</th>\n",
              "      <th>bmi</th>\n",
              "      <th>smoking_status</th>\n",
              "    </tr>\n",
              "  </thead>\n",
              "  <tbody>\n",
              "    <tr>\n",
              "      <th>0</th>\n",
              "      <td>Male</td>\n",
              "      <td>67</td>\n",
              "      <td>0</td>\n",
              "      <td>1</td>\n",
              "      <td>Yes</td>\n",
              "      <td>Private</td>\n",
              "      <td>Urban</td>\n",
              "      <td>105.730688</td>\n",
              "      <td>36.600000</td>\n",
              "      <td>formerly smoked</td>\n",
              "    </tr>\n",
              "    <tr>\n",
              "      <th>1</th>\n",
              "      <td>Female</td>\n",
              "      <td>61</td>\n",
              "      <td>0</td>\n",
              "      <td>0</td>\n",
              "      <td>Yes</td>\n",
              "      <td>Self-employed</td>\n",
              "      <td>Rural</td>\n",
              "      <td>105.706017</td>\n",
              "      <td>28.893237</td>\n",
              "      <td>never smoked</td>\n",
              "    </tr>\n",
              "    <tr>\n",
              "      <th>2</th>\n",
              "      <td>Male</td>\n",
              "      <td>80</td>\n",
              "      <td>0</td>\n",
              "      <td>1</td>\n",
              "      <td>Yes</td>\n",
              "      <td>Private</td>\n",
              "      <td>Rural</td>\n",
              "      <td>105.920000</td>\n",
              "      <td>32.500000</td>\n",
              "      <td>never smoked</td>\n",
              "    </tr>\n",
              "    <tr>\n",
              "      <th>3</th>\n",
              "      <td>Female</td>\n",
              "      <td>49</td>\n",
              "      <td>0</td>\n",
              "      <td>0</td>\n",
              "      <td>Yes</td>\n",
              "      <td>Private</td>\n",
              "      <td>Urban</td>\n",
              "      <td>105.667292</td>\n",
              "      <td>34.400000</td>\n",
              "      <td>smokes</td>\n",
              "    </tr>\n",
              "    <tr>\n",
              "      <th>4</th>\n",
              "      <td>Female</td>\n",
              "      <td>79</td>\n",
              "      <td>1</td>\n",
              "      <td>0</td>\n",
              "      <td>Yes</td>\n",
              "      <td>Self-employed</td>\n",
              "      <td>Rural</td>\n",
              "      <td>105.654137</td>\n",
              "      <td>24.000000</td>\n",
              "      <td>never smoked</td>\n",
              "    </tr>\n",
              "  </tbody>\n",
              "</table>\n",
              "</div>"
            ],
            "text/plain": [
              "   gender  age  hypertension  heart_disease ever_married      work_type  \\\n",
              "0    Male   67             0              1          Yes        Private   \n",
              "1  Female   61             0              0          Yes  Self-employed   \n",
              "2    Male   80             0              1          Yes        Private   \n",
              "3  Female   49             0              0          Yes        Private   \n",
              "4  Female   79             1              0          Yes  Self-employed   \n",
              "\n",
              "  Residence_type  avg_glucose_level        bmi   smoking_status  \n",
              "0          Urban         105.730688  36.600000  formerly smoked  \n",
              "1          Rural         105.706017  28.893237     never smoked  \n",
              "2          Rural         105.920000  32.500000     never smoked  \n",
              "3          Urban         105.667292  34.400000           smokes  \n",
              "4          Rural         105.654137  24.000000     never smoked  "
            ]
          },
          "execution_count": 54,
          "metadata": {},
          "output_type": "execute_result"
        }
      ],
      "source": [
        "X.head()"
      ]
    },
    {
      "cell_type": "code",
      "execution_count": 55,
      "id": "tpo06jQzox2W",
      "metadata": {
        "colab": {
          "base_uri": "https://localhost:8080/",
          "height": 241
        },
        "id": "tpo06jQzox2W",
        "outputId": "b7aaa460-95e0-4deb-93d7-6390b50a1ffd"
      },
      "outputs": [
        {
          "data": {
            "text/plain": [
              "0    1\n",
              "1    1\n",
              "2    1\n",
              "3    1\n",
              "4    1\n",
              "Name: stroke, dtype: int64"
            ]
          },
          "execution_count": 55,
          "metadata": {},
          "output_type": "execute_result"
        }
      ],
      "source": [
        "Y.head()"
      ]
    },
    {
      "cell_type": "markdown",
      "id": "5myYSbPcox2W",
      "metadata": {
        "id": "5myYSbPcox2W"
      },
      "source": [
        "## VI.1 Transformer X et Y en tableau numpy"
      ]
    },
    {
      "cell_type": "markdown",
      "id": "xfPK9giaox2W",
      "metadata": {
        "id": "xfPK9giaox2W"
      },
      "source": [
        "1 - lancer les commandes qui transforme X et Y en type numpyarray"
      ]
    },
    {
      "cell_type": "code",
      "execution_count": 56,
      "id": "tzDDzq3kox2W",
      "metadata": {
        "id": "tzDDzq3kox2W"
      },
      "outputs": [],
      "source": [
        "X=X.values\n",
        "Y=Y.values"
      ]
    },
    {
      "cell_type": "markdown",
      "id": "o0AjgaLVox2X",
      "metadata": {
        "id": "o0AjgaLVox2X"
      },
      "source": [
        "2 - Vérifier le type et le contenu de X et Y"
      ]
    },
    {
      "cell_type": "code",
      "execution_count": 57,
      "id": "ctlIVeNjox2X",
      "metadata": {
        "colab": {
          "base_uri": "https://localhost:8080/"
        },
        "id": "ctlIVeNjox2X",
        "outputId": "92120db0-241c-43b5-f1f5-6b78a0b4531e"
      },
      "outputs": [
        {
          "data": {
            "text/plain": [
              "numpy.ndarray"
            ]
          },
          "execution_count": 57,
          "metadata": {},
          "output_type": "execute_result"
        }
      ],
      "source": [
        "type(X)"
      ]
    },
    {
      "cell_type": "code",
      "execution_count": 58,
      "id": "hI9UX2Ubox2X",
      "metadata": {
        "colab": {
          "base_uri": "https://localhost:8080/"
        },
        "id": "hI9UX2Ubox2X",
        "outputId": "6d71cf7c-049c-4a4b-eeab-a8231400ff6d"
      },
      "outputs": [
        {
          "data": {
            "text/plain": [
              "array([['Male', 67, 0, 1, 'Yes', 'Private', 'Urban', 105.7306882022472,\n",
              "        36.6, 'formerly smoked'],\n",
              "       ['Female', 61, 0, 0, 'Yes', 'Self-employed', 'Rural',\n",
              "        105.706017393299, 28.893236911794666, 'never smoked'],\n",
              "       ['Male', 80, 0, 1, 'Yes', 'Private', 'Rural', 105.92, 32.5,\n",
              "        'never smoked'],\n",
              "       ['Female', 49, 0, 0, 'Yes', 'Private', 'Urban',\n",
              "        105.66729187860932, 34.4, 'smokes'],\n",
              "       ['Female', 79, 1, 0, 'Yes', 'Self-employed', 'Rural',\n",
              "        105.65413724214835, 24.0, 'never smoked']], dtype=object)"
            ]
          },
          "execution_count": 58,
          "metadata": {},
          "output_type": "execute_result"
        }
      ],
      "source": [
        "X[:5,:]"
      ]
    },
    {
      "cell_type": "markdown",
      "id": "g6N2Ck-tox2X",
      "metadata": {
        "id": "g6N2Ck-tox2X"
      },
      "source": [
        "# VII. transformation des variables catégoriques"
      ]
    },
    {
      "cell_type": "markdown",
      "id": "mdzqgow6ox2X",
      "metadata": {
        "id": "mdzqgow6ox2X"
      },
      "source": [
        "**1 - Nous commençons par les colonnes catégoriques à deux états 'gender','ever_married','Residence_type'**"
      ]
    },
    {
      "cell_type": "code",
      "execution_count": 59,
      "id": "nkIDa4gDox2Y",
      "metadata": {
        "id": "nkIDa4gDox2Y"
      },
      "outputs": [],
      "source": [
        "from sklearn.preprocessing import LabelEncoder\n",
        "label = LabelEncoder()"
      ]
    },
    {
      "cell_type": "code",
      "execution_count": 60,
      "id": "xiL7UJExox2Y",
      "metadata": {
        "id": "xiL7UJExox2Y"
      },
      "outputs": [],
      "source": [
        "X[:,0] = label.fit_transform(X[:,0]) # colonne gender devient 1-->male ou 0-->female\n",
        "X[:,4] = label.fit_transform(X[:,4]) # colonne ever_married devient no-->0 ou yes-->1\n",
        "X[:,6] = label.fit_transform(X[:,6]) # colonne Residence_type devient rural-->0 ou urban-->1"
      ]
    },
    {
      "cell_type": "raw",
      "id": "5J5cG9JMox2Y",
      "metadata": {
        "id": "5J5cG9JMox2Y"
      },
      "source": [
        "X contient les colonnes dans l'ordre : 'gender', 'age', 'hypertension', 'heart_disease', 'ever_married',\n",
        "       'work_type', 'Residence_type', 'avg_glucose_level', 'bmi', 'smoking_status'"
      ]
    },
    {
      "cell_type": "markdown",
      "id": "GDgrpF9xox2Y",
      "metadata": {
        "id": "GDgrpF9xox2Y"
      },
      "source": [
        "2 - Vérifier cette transformation"
      ]
    },
    {
      "cell_type": "code",
      "execution_count": 61,
      "id": "k_gWPojPox2Z",
      "metadata": {
        "colab": {
          "base_uri": "https://localhost:8080/"
        },
        "id": "k_gWPojPox2Z",
        "outputId": "f7ec8ce3-8694-478d-ca05-1e1f4ba2c84e"
      },
      "outputs": [
        {
          "data": {
            "text/plain": [
              "array([[1, 67, 0, 1, 1, 'Private', 1, 105.7306882022472, 36.6,\n",
              "        'formerly smoked'],\n",
              "       [0, 61, 0, 0, 1, 'Self-employed', 0, 105.706017393299,\n",
              "        28.893236911794666, 'never smoked'],\n",
              "       [1, 80, 0, 1, 1, 'Private', 0, 105.92, 32.5, 'never smoked'],\n",
              "       [0, 49, 0, 0, 1, 'Private', 1, 105.66729187860932, 34.4, 'smokes'],\n",
              "       [0, 79, 1, 0, 1, 'Self-employed', 0, 105.65413724214835, 24.0,\n",
              "        'never smoked'],\n",
              "       [1, 81, 0, 0, 1, 'Private', 1, 105.64040011077641, 29.0,\n",
              "        'formerly smoked'],\n",
              "       [1, 74, 1, 1, 1, 'Private', 0, 70.09, 27.4, 'never smoked'],\n",
              "       [0, 69, 0, 0, 0, 'Private', 1, 94.39, 22.8, 'never smoked'],\n",
              "       [0, 59, 0, 0, 1, 'Private', 0, 76.15, 28.893236911794666,\n",
              "        'Unknown'],\n",
              "       [0, 78, 0, 0, 1, 'Private', 1, 58.57, 24.2, 'Unknown']],\n",
              "      dtype=object)"
            ]
          },
          "execution_count": 61,
          "metadata": {},
          "output_type": "execute_result"
        }
      ],
      "source": [
        "X[:10,:]"
      ]
    },
    {
      "cell_type": "markdown",
      "id": "weAdiueNox2Z",
      "metadata": {
        "id": "weAdiueNox2Z"
      },
      "source": [
        "**3 - nous transformons la colonne work_type qui a 5 etats : 'private','self-employed','gov-job','children','never-worked'**"
      ]
    },
    {
      "cell_type": "code",
      "execution_count": 62,
      "id": "ny7XRywwox2Z",
      "metadata": {
        "id": "ny7XRywwox2Z"
      },
      "outputs": [],
      "source": [
        "from sklearn.preprocessing import OneHotEncoder\n",
        "from sklearn.compose import ColumnTransformer"
      ]
    },
    {
      "cell_type": "code",
      "execution_count": 63,
      "id": "IJvD2Yj1ox2a",
      "metadata": {
        "id": "IJvD2Yj1ox2a"
      },
      "outputs": [],
      "source": [
        "ct = ColumnTransformer([('work_type',OneHotEncoder(),[5])],\\\n",
        "                      remainder = 'passthrough')"
      ]
    },
    {
      "cell_type": "code",
      "execution_count": 64,
      "id": "LfqR5-inox2a",
      "metadata": {
        "id": "LfqR5-inox2a"
      },
      "outputs": [],
      "source": [
        "X = ct.fit_transform(X)"
      ]
    },
    {
      "cell_type": "markdown",
      "id": "uI98q_HJox2a",
      "metadata": {
        "id": "uI98q_HJox2a"
      },
      "source": [
        "4 - Vérifier la transformation de la colonne 'work_type' par 5 colonnes ajouter en début du X (shap et affichage)"
      ]
    },
    {
      "cell_type": "code",
      "execution_count": 65,
      "id": "eTv7Igc4ox2a",
      "metadata": {
        "colab": {
          "base_uri": "https://localhost:8080/"
        },
        "id": "eTv7Igc4ox2a",
        "outputId": "cde18563-5f6e-4a09-9a1e-d43ab3cc6fb6"
      },
      "outputs": [
        {
          "data": {
            "text/plain": [
              "(4984, 14)"
            ]
          },
          "execution_count": 65,
          "metadata": {},
          "output_type": "execute_result"
        }
      ],
      "source": [
        "X.shape # ajout de 4 autres colonnes\n",
        "#private ---> 0.0 0.0 1.0 0.0 0.0"
      ]
    },
    {
      "cell_type": "code",
      "execution_count": 66,
      "id": "R5ddl7ALox2b",
      "metadata": {
        "colab": {
          "base_uri": "https://localhost:8080/"
        },
        "id": "R5ddl7ALox2b",
        "outputId": "a2cd1787-1ef9-4fbd-af0a-0f0162588f3a"
      },
      "outputs": [
        {
          "data": {
            "text/plain": [
              "array([[0.0, 0.0, 1.0, 0.0, 0.0],\n",
              "       [0.0, 0.0, 0.0, 1.0, 0.0],\n",
              "       [0.0, 0.0, 1.0, 0.0, 0.0],\n",
              "       ...,\n",
              "       [0.0, 0.0, 0.0, 1.0, 0.0],\n",
              "       [0.0, 0.0, 1.0, 0.0, 0.0],\n",
              "       [1.0, 0.0, 0.0, 0.0, 0.0]], dtype=object)"
            ]
          },
          "execution_count": 66,
          "metadata": {},
          "output_type": "execute_result"
        }
      ],
      "source": [
        "X[:,0:5]"
      ]
    },
    {
      "cell_type": "markdown",
      "id": "e0Hc1cUlox2b",
      "metadata": {
        "id": "e0Hc1cUlox2b"
      },
      "source": [
        "**5 - Nous remarquons que la première colonne peut être supprimée (on la supprime alors)**"
      ]
    },
    {
      "cell_type": "code",
      "execution_count": 67,
      "id": "xImG8ByJox2b",
      "metadata": {
        "id": "xImG8ByJox2b"
      },
      "outputs": [],
      "source": [
        "X = X[:,1:]"
      ]
    },
    {
      "cell_type": "markdown",
      "id": "5OtPjgsAox2b",
      "metadata": {
        "id": "5OtPjgsAox2b"
      },
      "source": [
        "6 - Vérifier cette suppression (shape et affichage d'un echantillion)"
      ]
    },
    {
      "cell_type": "code",
      "execution_count": 68,
      "id": "VCPGxRlLox2b",
      "metadata": {
        "colab": {
          "base_uri": "https://localhost:8080/"
        },
        "id": "VCPGxRlLox2b",
        "outputId": "f382c1e9-1d1c-45af-c8ed-f87db863b130"
      },
      "outputs": [
        {
          "data": {
            "text/plain": [
              "(4984, 13)"
            ]
          },
          "execution_count": 68,
          "metadata": {},
          "output_type": "execute_result"
        }
      ],
      "source": [
        "X.shape"
      ]
    },
    {
      "cell_type": "code",
      "execution_count": 69,
      "id": "wgWKSYihox2c",
      "metadata": {
        "colab": {
          "base_uri": "https://localhost:8080/"
        },
        "id": "wgWKSYihox2c",
        "outputId": "5f6bcf20-afaa-4013-f231-9a39efb61b8b"
      },
      "outputs": [
        {
          "data": {
            "text/plain": [
              "array([[0.0, 1.0, 0.0, 0.0, 1, 67, 0, 1, 1, 1, 105.7306882022472, 36.6,\n",
              "        'formerly smoked'],\n",
              "       [0.0, 0.0, 1.0, 0.0, 0, 61, 0, 0, 1, 0, 105.706017393299,\n",
              "        28.893236911794666, 'never smoked'],\n",
              "       [0.0, 1.0, 0.0, 0.0, 1, 80, 0, 1, 1, 0, 105.92, 32.5,\n",
              "        'never smoked'],\n",
              "       [0.0, 1.0, 0.0, 0.0, 0, 49, 0, 0, 1, 1, 105.66729187860932, 34.4,\n",
              "        'smokes'],\n",
              "       [0.0, 0.0, 1.0, 0.0, 0, 79, 1, 0, 1, 0, 105.65413724214835, 24.0,\n",
              "        'never smoked']], dtype=object)"
            ]
          },
          "execution_count": 69,
          "metadata": {},
          "output_type": "execute_result"
        }
      ],
      "source": [
        "X[:5,:]"
      ]
    },
    {
      "cell_type": "raw",
      "id": "A7gB18qSox2c",
      "metadata": {
        "id": "A7gB18qSox2c"
      },
      "source": [
        "X contient les colonnes dans l'ordre : 'work_type1', 'work_type2', 'work_type3', 'work_type4', 'gender', 'age', 'hypertension', 'heart_disease', 'ever_married','Residence_type', 'avg_glucose_level', 'bmi', 'smoking_status'"
      ]
    },
    {
      "cell_type": "markdown",
      "id": "H-6GJpyRox2c",
      "metadata": {
        "id": "H-6GJpyRox2c"
      },
      "source": [
        "**7 - nous transformons la colonne 'smoking_status' qui a 4 etats :'formerly smoked','never smoked','smokes','unknown'**"
      ]
    },
    {
      "cell_type": "code",
      "execution_count": 70,
      "id": "Uxri97s1ox2c",
      "metadata": {
        "id": "Uxri97s1ox2c"
      },
      "outputs": [],
      "source": [
        "ct = ColumnTransformer([('smoking_status',OneHotEncoder(),[12])],\\\n",
        "                      remainder = 'passthrough')"
      ]
    },
    {
      "cell_type": "code",
      "execution_count": 71,
      "id": "tDhIeTTaox2d",
      "metadata": {
        "id": "tDhIeTTaox2d"
      },
      "outputs": [],
      "source": [
        "X = ct.fit_transform(X)"
      ]
    },
    {
      "cell_type": "markdown",
      "id": "oBNmrlI-ox2d",
      "metadata": {
        "id": "oBNmrlI-ox2d"
      },
      "source": [
        "8 - Vérifier la transformation de la colonne 'smoking_status' par 4 colonne ajouter en début du X (shape et affichage)"
      ]
    },
    {
      "cell_type": "code",
      "execution_count": 72,
      "id": "rqD9aA-Tox2d",
      "metadata": {
        "colab": {
          "base_uri": "https://localhost:8080/"
        },
        "id": "rqD9aA-Tox2d",
        "outputId": "31979fa0-6e4b-4231-bfb6-cbfe74f80e38"
      },
      "outputs": [
        {
          "data": {
            "text/plain": [
              "array([[0.0, 1.0, 0.0, 0.0, 0.0, 1.0, 0.0, 0.0, 1, 67, 0, 1, 1, 1,\n",
              "        105.7306882022472, 36.6],\n",
              "       [0.0, 0.0, 1.0, 0.0, 0.0, 0.0, 1.0, 0.0, 0, 61, 0, 0, 1, 0,\n",
              "        105.706017393299, 28.893236911794666],\n",
              "       [0.0, 0.0, 1.0, 0.0, 0.0, 1.0, 0.0, 0.0, 1, 80, 0, 1, 1, 0,\n",
              "        105.92, 32.5],\n",
              "       [0.0, 0.0, 0.0, 1.0, 0.0, 1.0, 0.0, 0.0, 0, 49, 0, 0, 1, 1,\n",
              "        105.66729187860932, 34.4],\n",
              "       [0.0, 0.0, 1.0, 0.0, 0.0, 0.0, 1.0, 0.0, 0, 79, 1, 0, 1, 0,\n",
              "        105.65413724214835, 24.0]], dtype=object)"
            ]
          },
          "execution_count": 72,
          "metadata": {},
          "output_type": "execute_result"
        }
      ],
      "source": [
        "X[:5,:] # smoking_status est remplacé par 4 colonnes au début"
      ]
    },
    {
      "cell_type": "markdown",
      "id": "iKs39237ox2d",
      "metadata": {
        "id": "iKs39237ox2d"
      },
      "source": [
        "**9 - nous enlevons la première colonne**"
      ]
    },
    {
      "cell_type": "code",
      "execution_count": 73,
      "id": "OEnE88u1ox2e",
      "metadata": {
        "id": "OEnE88u1ox2e"
      },
      "outputs": [],
      "source": [
        "X = X[:,1:]"
      ]
    },
    {
      "cell_type": "markdown",
      "id": "ekcYRtz1ox2e",
      "metadata": {
        "id": "ekcYRtz1ox2e"
      },
      "source": [
        "10 - Vérifier cette suppression (shape et affichage)"
      ]
    },
    {
      "cell_type": "code",
      "execution_count": 74,
      "id": "A5bep56Box2e",
      "metadata": {
        "colab": {
          "base_uri": "https://localhost:8080/"
        },
        "id": "A5bep56Box2e",
        "outputId": "41f33cbd-8b2f-4c57-ca68-093a0fd37aab"
      },
      "outputs": [
        {
          "data": {
            "text/plain": [
              "(4984, 15)"
            ]
          },
          "execution_count": 74,
          "metadata": {},
          "output_type": "execute_result"
        }
      ],
      "source": [
        "X.shape"
      ]
    },
    {
      "cell_type": "code",
      "execution_count": 75,
      "id": "iOpNTfnJox2e",
      "metadata": {
        "colab": {
          "base_uri": "https://localhost:8080/"
        },
        "id": "iOpNTfnJox2e",
        "outputId": "3ba6c287-d7c2-403d-940b-74a3deadd928"
      },
      "outputs": [
        {
          "data": {
            "text/plain": [
              "array([[1.0, 0.0, 0.0, 0.0, 1.0, 0.0, 0.0, 1, 67, 0, 1, 1, 1,\n",
              "        105.7306882022472, 36.6],\n",
              "       [0.0, 1.0, 0.0, 0.0, 0.0, 1.0, 0.0, 0, 61, 0, 0, 1, 0,\n",
              "        105.706017393299, 28.893236911794666],\n",
              "       [0.0, 1.0, 0.0, 0.0, 1.0, 0.0, 0.0, 1, 80, 0, 1, 1, 0, 105.92,\n",
              "        32.5],\n",
              "       [0.0, 0.0, 1.0, 0.0, 1.0, 0.0, 0.0, 0, 49, 0, 0, 1, 1,\n",
              "        105.66729187860932, 34.4],\n",
              "       [0.0, 1.0, 0.0, 0.0, 0.0, 1.0, 0.0, 0, 79, 1, 0, 1, 0,\n",
              "        105.65413724214835, 24.0]], dtype=object)"
            ]
          },
          "execution_count": 75,
          "metadata": {},
          "output_type": "execute_result"
        }
      ],
      "source": [
        "X[:5,:]"
      ]
    },
    {
      "cell_type": "raw",
      "id": "knLCekQDox2e",
      "metadata": {
        "id": "knLCekQDox2e"
      },
      "source": [
        "X contient les colonnes dans l'ordre : 'smoking_status1', 'smoking_status2', 'smoking_status3', 'work_type1', 'work_type2', 'work_type3', 'work_type4', 'gender', 'age', 'hypertension', 'heart_disease', 'ever_married','Residence_type', 'avg_glucose_level', 'bmi'"
      ]
    },
    {
      "cell_type": "markdown",
      "id": "E7kAWzUWox2f",
      "metadata": {
        "id": "E7kAWzUWox2f"
      },
      "source": [
        "# VIII. Splitting dataset into train and test sets"
      ]
    },
    {
      "cell_type": "code",
      "execution_count": 76,
      "id": "nT0-9ly7ox2f",
      "metadata": {
        "id": "nT0-9ly7ox2f"
      },
      "outputs": [],
      "source": [
        "from sklearn.model_selection import train_test_split\n",
        "X_train,X_test,y_train,y_test = train_test_split(X,Y,test_size=0.2,\\\n",
        "                                                random_state=0)\n",
        "# random_state  D'un autre côté, si vous utilisez random_state=some_number,\n",
        "#vous pouvez garantir que la sortie de Run 1 sera égale à la sortie de Run 2,\n",
        "#c'est-à-dire que votre division sera toujours la même. Peu importe le nombre réel de random_state 42, 0, 21, ...\n",
        "# L'important est qu'à chaque fois que vous utilisez 42, vous obtiendrez toujours la même sortie la première fois que\n",
        "#vous effectuez le fractionnement."
      ]
    },
    {
      "cell_type": "code",
      "execution_count": 77,
      "id": "t581eMVlox2f",
      "metadata": {
        "colab": {
          "base_uri": "https://localhost:8080/"
        },
        "id": "t581eMVlox2f",
        "outputId": "f0c572a1-1c3e-4a2f-d77f-951c5798529a"
      },
      "outputs": [
        {
          "data": {
            "text/plain": [
              "(3987, 15)"
            ]
          },
          "execution_count": 77,
          "metadata": {},
          "output_type": "execute_result"
        }
      ],
      "source": [
        "X_train.shape"
      ]
    },
    {
      "cell_type": "code",
      "execution_count": 78,
      "id": "Qep5GJk3ox2f",
      "metadata": {
        "colab": {
          "base_uri": "https://localhost:8080/"
        },
        "id": "Qep5GJk3ox2f",
        "outputId": "ccba45be-a5e3-4632-ef43-7904152075ea"
      },
      "outputs": [
        {
          "data": {
            "text/plain": [
              "(997, 15)"
            ]
          },
          "execution_count": 78,
          "metadata": {},
          "output_type": "execute_result"
        }
      ],
      "source": [
        "X_test.shape"
      ]
    },
    {
      "cell_type": "code",
      "execution_count": 79,
      "id": "OILmFAqoox2g",
      "metadata": {
        "colab": {
          "base_uri": "https://localhost:8080/"
        },
        "id": "OILmFAqoox2g",
        "outputId": "2aa76db0-3538-48c5-c61d-7b92c9ea638b"
      },
      "outputs": [
        {
          "data": {
            "text/plain": [
              "0.049357945425361156"
            ]
          },
          "execution_count": 79,
          "metadata": {},
          "output_type": "execute_result"
        }
      ],
      "source": [
        "Y.mean()"
      ]
    },
    {
      "cell_type": "code",
      "execution_count": 80,
      "id": "HK6Pr7i-ox2g",
      "metadata": {
        "colab": {
          "base_uri": "https://localhost:8080/"
        },
        "id": "HK6Pr7i-ox2g",
        "outputId": "a8850c3e-0630-4cbb-ae0e-5e4b63def789"
      },
      "outputs": [
        {
          "name": "stdout",
          "output_type": "stream",
          "text": [
            "0.04890895410082769\n",
            "0.05115346038114343\n"
          ]
        }
      ],
      "source": [
        "print(y_train.mean())\n",
        "print(y_test.mean())"
      ]
    },
    {
      "cell_type": "markdown",
      "id": "wEHZPps3ox2g",
      "metadata": {
        "id": "wEHZPps3ox2g"
      },
      "source": [
        "# IX. Mise à l'echelle des variables"
      ]
    },
    {
      "cell_type": "markdown",
      "id": "Rxc_O-ezox2g",
      "metadata": {
        "id": "Rxc_O-ezox2g"
      },
      "source": [
        "1- Nous allons faire une standardisation du X_train et X_test"
      ]
    },
    {
      "cell_type": "code",
      "execution_count": 81,
      "id": "GUEBO88xox2h",
      "metadata": {
        "id": "GUEBO88xox2h"
      },
      "outputs": [],
      "source": [
        "from sklearn.preprocessing import StandardScaler\n",
        "scaler = StandardScaler()"
      ]
    },
    {
      "cell_type": "code",
      "execution_count": 82,
      "id": "7Rx-a8nzox2h",
      "metadata": {
        "id": "7Rx-a8nzox2h"
      },
      "outputs": [],
      "source": [
        "X_train_sc = scaler.fit_transform(X_train)\n",
        "X_test_sc = scaler.transform(X_test)"
      ]
    },
    {
      "cell_type": "markdown",
      "id": "hv6R3Ti1ox2h",
      "metadata": {
        "id": "hv6R3Ti1ox2h"
      },
      "source": [
        "2 - Afficher un echantillon du X_train_sc"
      ]
    },
    {
      "cell_type": "code",
      "execution_count": 83,
      "id": "r-cDX__Cox2i",
      "metadata": {
        "colab": {
          "base_uri": "https://localhost:8080/"
        },
        "id": "r-cDX__Cox2i",
        "outputId": "48f7f333-cf19-4a64-f76c-d2fb2c37639c"
      },
      "outputs": [
        {
          "data": {
            "text/plain": [
              "array([[-0.45987593, -0.76339435,  2.35061019, -0.06543788, -1.15453161,\n",
              "        -0.43402253, -0.39876262,  1.17425648, -0.48865318, -0.3217376 ,\n",
              "        -0.24340395,  0.73078831, -1.02463236, -0.4345941 , -0.37874265],\n",
              "       [ 2.17449955, -0.76339435, -0.42542145, -0.06543788,  0.86615212,\n",
              "        -0.43402253, -0.39876262,  1.17425648,  0.87161861,  3.10812288,\n",
              "        -0.24340395,  0.73078831,  0.97595981,  0.04686664,  0.52470066],\n",
              "       [-0.45987593, -0.76339435, -0.42542145, -0.06543788, -1.15453161,\n",
              "        -0.43402253,  2.50775762,  1.17425648, -1.45400735, -0.3217376 ,\n",
              "        -0.24340395, -1.36838532,  0.97595981,  0.49137185, -1.38758767],\n",
              "       [-0.45987593,  1.30993895, -0.42542145, -0.06543788,  0.86615212,\n",
              "        -0.43402253, -0.39876262,  1.17425648,  0.60834019, -0.3217376 ,\n",
              "        -0.24340395,  0.73078831,  0.97595981,  0.8676035 , -0.06253749],\n",
              "       [-0.45987593,  1.30993895, -0.42542145, -0.06543788, -1.15453161,\n",
              "         2.30402784, -0.39876262, -0.85160271,  0.82773887, -0.3217376 ,\n",
              "        -0.24340395,  0.73078831, -1.02463236,  1.68083913, -0.52931653]])"
            ]
          },
          "execution_count": 83,
          "metadata": {},
          "output_type": "execute_result"
        }
      ],
      "source": [
        "X_train_sc[0:5,:]"
      ]
    },
    {
      "cell_type": "markdown",
      "id": "UM02qMbmox2i",
      "metadata": {
        "id": "UM02qMbmox2i"
      },
      "source": [
        "# X. Modélisation"
      ]
    },
    {
      "cell_type": "markdown",
      "id": "UIQUGXXoox2i",
      "metadata": {
        "id": "UIQUGXXoox2i"
      },
      "source": [
        "## X.1 -  k Nearest Neighbors"
      ]
    },
    {
      "cell_type": "code",
      "execution_count": 84,
      "id": "3E8cxnZ8ox2i",
      "metadata": {
        "id": "3E8cxnZ8ox2i"
      },
      "outputs": [],
      "source": [
        "from sklearn.neighbors import KNeighborsClassifier\n",
        "\n",
        "knn = KNeighborsClassifier(n_neighbors = 3)\n",
        "\n",
        "knn.fit(X_train_sc,y_train)\n",
        "\n",
        "y_pred_knn = knn.predict(X_test_sc)"
      ]
    },
    {
      "cell_type": "markdown",
      "id": "RZjk6MGRox2j",
      "metadata": {
        "id": "RZjk6MGRox2j"
      },
      "source": [
        "## X.2 - Evaluation du modèle KNN"
      ]
    },
    {
      "cell_type": "code",
      "execution_count": 85,
      "id": "7f9Rbr8tox2j",
      "metadata": {
        "colab": {
          "base_uri": "https://localhost:8080/"
        },
        "id": "7f9Rbr8tox2j",
        "outputId": "c2d9f010-eed6-4137-89cd-c4c6f86c69a6"
      },
      "outputs": [
        {
          "name": "stdout",
          "output_type": "stream",
          "text": [
            "Confusion matrix knn \n",
            " [[937   9]\n",
            " [ 49   2]]\n",
            "Accuracy knn 0.9418254764292878\n"
          ]
        }
      ],
      "source": [
        "from sklearn.metrics import accuracy_score, confusion_matrix,recall_score,precision_score\n",
        "print('Confusion matrix knn \\n', confusion_matrix(y_test,y_pred_knn))\n",
        "print('Accuracy knn', accuracy_score(y_test,y_pred_knn))"
      ]
    },
    {
      "cell_type": "code",
      "execution_count": 86,
      "id": "lL3PEZlYox2j",
      "metadata": {
        "colab": {
          "base_uri": "https://localhost:8080/"
        },
        "id": "lL3PEZlYox2j",
        "outputId": "f0d77547-3813-46d7-e400-2d734c6da516"
      },
      "outputs": [
        {
          "name": "stdout",
          "output_type": "stream",
          "text": [
            "              precision    recall  f1-score   support\n",
            "\n",
            "           0       0.95      0.99      0.97       946\n",
            "           1       0.18      0.04      0.06        51\n",
            "\n",
            "    accuracy                           0.94       997\n",
            "   macro avg       0.57      0.51      0.52       997\n",
            "weighted avg       0.91      0.94      0.92       997\n",
            "\n"
          ]
        }
      ],
      "source": [
        "from sklearn.metrics import classification_report\n",
        "print(classification_report(y_test,y_pred_knn))"
      ]
    },
    {
      "cell_type": "code",
      "execution_count": 87,
      "id": "bf306WVJox2j",
      "metadata": {
        "colab": {
          "base_uri": "https://localhost:8080/"
        },
        "id": "bf306WVJox2j",
        "outputId": "21fbd8ad-3f23-4b73-b4a7-1bd836cc757f"
      },
      "outputs": [
        {
          "name": "stdout",
          "output_type": "stream",
          "text": [
            "Recall knn :  0.0392156862745098\n",
            "Precision knn :  0.18181818181818182\n"
          ]
        }
      ],
      "source": [
        "from sklearn import metrics\n",
        "\n",
        "print('Recall knn : ', recall_score(y_test,y_pred_knn))\n",
        "print('Precision knn : ', precision_score(y_test,y_pred_knn))"
      ]
    },
    {
      "cell_type": "code",
      "execution_count": 88,
      "id": "SoI350n_ox2k",
      "metadata": {
        "colab": {
          "base_uri": "https://localhost:8080/"
        },
        "id": "SoI350n_ox2k",
        "outputId": "f29b1431-b50b-49c1-a031-526c0a0c8a84"
      },
      "outputs": [
        {
          "name": "stdout",
          "output_type": "stream",
          "text": [
            "0 0\n",
            "0 0\n",
            "0 0\n",
            "0 0\n",
            "0 0\n",
            "1 0\n",
            "0 0\n",
            "0 0\n",
            "0 0\n",
            "0 1\n"
          ]
        }
      ],
      "source": [
        "for i in range(10):\n",
        "    print(y_test[i],y_pred_knn[i])"
      ]
    },
    {
      "cell_type": "markdown",
      "id": "ouenmMyGox2k",
      "metadata": {
        "id": "ouenmMyGox2k"
      },
      "source": [
        "## X.3 - GRID SEARCH"
      ]
    },
    {
      "cell_type": "code",
      "execution_count": 89,
      "id": "lCmNqV8Eox2k",
      "metadata": {
        "colab": {
          "base_uri": "https://localhost:8080/"
        },
        "id": "lCmNqV8Eox2k",
        "outputId": "72a46d96-0183-4ce8-9524-3d3e753ce953"
      },
      "outputs": [
        {
          "name": "stdout",
          "output_type": "stream",
          "text": [
            "Fitting 5 folds for each of 7 candidates, totalling 35 fits\n",
            "Meilleur paramètre KNN : {'n_neighbors': 11}\n",
            "Meilleur score KNN : 0.9510910274431372\n",
            "Confusion matrix KNN op :\n",
            " [[946   0]\n",
            " [ 51   0]]\n",
            "Accuracy KNN op : 0.949\n",
            "Recall KNN op : 0.000\n",
            "Precision KNN op : 0.000\n",
            "              precision    recall  f1-score   support\n",
            "\n",
            "           0       0.95      1.00      0.97       946\n",
            "           1       0.00      0.00      0.00        51\n",
            "\n",
            "    accuracy                           0.95       997\n",
            "   macro avg       0.47      0.50      0.49       997\n",
            "weighted avg       0.90      0.95      0.92       997\n",
            "\n"
          ]
        }
      ],
      "source": [
        "from sklearn.neighbors import KNeighborsClassifier\n",
        "from sklearn.model_selection import GridSearchCV\n",
        "from sklearn.metrics import accuracy_score, recall_score, precision_score, confusion_matrix, classification_report\n",
        "\n",
        "# Définition des hyperparamètres pour KNN\n",
        "parameters = {'n_neighbors': [1, 3, 5, 7, 9, 11, 13]}\n",
        "\n",
        "# Initialisation du modèle KNN\n",
        "model_knn = KNeighborsClassifier()\n",
        "\n",
        "# GridSearchCV pour optimiser 'n_neighbors'\n",
        "grid_search_knn = GridSearchCV(model_knn, parameters, scoring='accuracy', cv=5, n_jobs=-1, verbose=2)\n",
        "grid_search_knn.fit(X_train_sc, y_train)\n",
        "\n",
        "# Meilleur paramètre et meilleur score\n",
        "print(\"Meilleur paramètre KNN :\", grid_search_knn.best_params_)\n",
        "print(\"Meilleur score KNN :\", grid_search_knn.best_score_)\n",
        "\n",
        "# Utilisation du meilleur modèle trouvé\n",
        "best_knn = grid_search_knn.best_estimator_\n",
        "y_pred_knn_o = best_knn.predict(X_test_sc)\n",
        "\n",
        "# Évaluation du modèle optimisé\n",
        "knn_op_acc = accuracy_score(y_test, y_pred_knn_o)\n",
        "knn_op_rec = recall_score(y_test, y_pred_knn_o)\n",
        "knn_op_prec = precision_score(y_test, y_pred_knn_o)\n",
        "\n",
        "print('Confusion matrix KNN op :\\n', confusion_matrix(y_test, y_pred_knn_o))\n",
        "print(f'Accuracy KNN op : {knn_op_acc:.3f}')\n",
        "print(f'Recall KNN op : {knn_op_rec:.3f}')\n",
        "print(f'Precision KNN op : {knn_op_prec:.3f}')\n",
        "print(classification_report(y_test, y_pred_knn_o))\n"
      ]
    },
    {
      "cell_type": "code",
      "execution_count": 90,
      "id": "9ea8b12a",
      "metadata": {},
      "outputs": [
        {
          "name": "stdout",
          "output_type": "stream",
          "text": [
            "Fitting 5 folds for each of 28 candidates, totalling 140 fits\n",
            "Meilleur paramètre KNN : {'metric': 'manhattan', 'n_neighbors': 9, 'weights': 'uniform'}\n",
            "Meilleur score KNN : 0.9510910274431374\n"
          ]
        }
      ],
      "source": [
        "# Définition des hyperparamètres supplémentaires\n",
        "parameters = {\n",
        "    'n_neighbors': [1, 3, 5, 7, 9, 11, 13],\n",
        "    'weights': ['uniform', 'distance'],  # Ajout des stratégies de poids\n",
        "    'metric': ['euclidean', 'manhattan']  # Ajout des métriques de distance\n",
        "}\n",
        "\n",
        "# GridSearchCV avec ces nouveaux hyperparamètres\n",
        "grid_search_knn = GridSearchCV(model_knn, parameters, scoring='accuracy', cv=5, n_jobs=-1, verbose=2)\n",
        "grid_search_knn.fit(X_train_sc, y_train)\n",
        "\n",
        "# Meilleur paramètre et meilleur score\n",
        "print(\"Meilleur paramètre KNN :\", grid_search_knn.best_params_)\n",
        "print(\"Meilleur score KNN :\", grid_search_knn.best_score_)\n"
      ]
    }
  ],
  "metadata": {
    "colab": {
      "provenance": []
    },
    "kernelspec": {
      "display_name": "Python 3",
      "language": "python",
      "name": "python3"
    },
    "language_info": {
      "codemirror_mode": {
        "name": "ipython",
        "version": 3
      },
      "file_extension": ".py",
      "mimetype": "text/x-python",
      "name": "python",
      "nbconvert_exporter": "python",
      "pygments_lexer": "ipython3",
      "version": "3.11.2"
    },
    "papermill": {
      "default_parameters": {},
      "duration": 24.902566,
      "end_time": "2021-05-25T12:31:05.160928",
      "environment_variables": {},
      "exception": null,
      "input_path": "__notebook__.ipynb",
      "output_path": "__notebook__.ipynb",
      "parameters": {},
      "start_time": "2021-05-25T12:30:40.258362",
      "version": "2.3.3"
    }
  },
  "nbformat": 4,
  "nbformat_minor": 5
}
